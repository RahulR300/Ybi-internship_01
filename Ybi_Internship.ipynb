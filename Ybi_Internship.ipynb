{
  "nbformat": 4,
  "nbformat_minor": 0,
  "metadata": {
    "colab": {
      "provenance": [],
      "collapsed_sections": [
        "_nO0JCURm6uE",
        "HqN9LFeuwYeN",
        "ndfKm1qvw76a",
        "Owv3EJczxyja",
        "o9xqVJq0y2J6",
        "icqTT6670P2q",
        "g8maPcjQ2jGc",
        "sww8F3-A5cgk"
      ],
      "authorship_tag": "ABX9TyMHshP3QeNdnVSCb8JldEZo",
      "include_colab_link": true
    },
    "kernelspec": {
      "name": "python3",
      "display_name": "Python 3"
    },
    "language_info": {
      "name": "python"
    }
  },
  "cells": [
    {
      "cell_type": "markdown",
      "metadata": {
        "id": "view-in-github",
        "colab_type": "text"
      },
      "source": [
        "<a href=\"https://colab.research.google.com/github/RahulR300/Ybi-internship_01/blob/main/Ybi_Internship.ipynb\" target=\"_parent\"><img src=\"https://colab.research.google.com/assets/colab-badge.svg\" alt=\"Open In Colab\"/></a>"
      ]
    },
    {
      "cell_type": "markdown",
      "source": [
        "# ***MOVIE RECOMMENDATION SYSTEM***"
      ],
      "metadata": {
        "id": "_nO0JCURm6uE"
      }
    },
    {
      "cell_type": "markdown",
      "source": [
        "**Recommender system:** *A recommender system, also known as a recommendation system or a recommendation engine, is a subclass of information filtering system that suggests items or content to users based on their preferences, behaviors, or characteristics. The goal of a recommender system is to help users discover new items they might be interested in, thereby enhancing their experience and increasing engagement.*\n"
      ],
      "metadata": {
        "id": "ACEllzvSoY8v"
      }
    },
    {
      "cell_type": "markdown",
      "source": [
        "**Project Description: Movie Recommendation System**\n",
        "\n",
        "*The goal of this project is to develop a basic movie recommendation system using user ratings. We'll use a simple content-based filtering approach, where we'll recommend movies to users based on their previous ratings and the characteristics (genres) of those movies.*"
      ],
      "metadata": {
        "id": "1jBfxpj7oXl4"
      }
    },
    {
      "cell_type": "markdown",
      "source": [],
      "metadata": {
        "id": "t69wxSKOrZGb"
      }
    },
    {
      "cell_type": "markdown",
      "source": [
        "**Recommender System:** *Recommender Systemis a system that seeks to predict or filter preferences according to the user's choices. Recommender systems are utilized in a variety of areas including movies, music, news, books, research articles, search queries, social tags, and products in general Recommender systems produce a list of recommendations in any of the two ways-*\n",
        "\n",
        "**Collaborative filtering:** *Collaborative filtering approaches build a model from the user's past behavior (e. items purchased or searched by the user) as well as similar decisions made by other users. This model is then used to predict items (or ratings for items) that users may have an interest in.*\n",
        "\n",
        "**Content-based filtering:** *Content-based filtering approaches uses a series of discrete characteristics of an item in order to recommend additional items with similar properties. Content-based filtering methods are totally based on a description of the item and a profile of the user's preferences it recommends items based on the user's past preferences. Let's develop a basic recommendation system using Python and Pandas.*\n",
        "\n",
        "*Let's develop a basic recommendation system by suggesting items that are most similar to a particular item, in this case, movies. It just tells what movies/items are most similar to the user's movie choice.*"
      ],
      "metadata": {
        "id": "MwIizV_YvF38"
      }
    },
    {
      "cell_type": "markdown",
      "source": [],
      "metadata": {
        "id": "yWh5EfHjwNMy"
      }
    },
    {
      "cell_type": "markdown",
      "source": [
        "# ***Import Libraries***"
      ],
      "metadata": {
        "id": "HqN9LFeuwYeN"
      }
    },
    {
      "cell_type": "code",
      "source": [
        "import pandas as pd"
      ],
      "metadata": {
        "id": "KRcFuR3-wtfF"
      },
      "execution_count": null,
      "outputs": []
    },
    {
      "cell_type": "code",
      "source": [
        "import numpy as np"
      ],
      "metadata": {
        "id": "G9Y8QGZMw2Hx"
      },
      "execution_count": null,
      "outputs": []
    },
    {
      "cell_type": "markdown",
      "source": [
        "# ***Import Dataset***"
      ],
      "metadata": {
        "id": "ndfKm1qvw76a"
      }
    },
    {
      "cell_type": "code",
      "source": [
        "df=pd.read_csv('https://github.com/YBI-Foundation/Dataset/raw/main/Movies%20Recommendation.csv')"
      ],
      "metadata": {
        "id": "KWxt6DvAxKDy"
      },
      "execution_count": null,
      "outputs": []
    },
    {
      "cell_type": "code",
      "source": [
        "df.head()"
      ],
      "metadata": {
        "colab": {
          "base_uri": "https://localhost:8080/",
          "height": 672
        },
        "id": "mMoocyaixS-J",
        "outputId": "8b43b517-3dce-42e7-9a7a-627150cbe122"
      },
      "execution_count": null,
      "outputs": [
        {
          "output_type": "execute_result",
          "data": {
            "text/plain": [
              "   Movie_ID      Movie_Title                       Movie_Genre Movie_Language  \\\n",
              "0         1       Four Rooms                      Crime Comedy             en   \n",
              "1         2        Star Wars  Adventure Action Science Fiction             en   \n",
              "2         3     Finding Nemo                  Animation Family             en   \n",
              "3         4     Forrest Gump              Comedy Drama Romance             en   \n",
              "4         5  American Beauty                             Drama             en   \n",
              "\n",
              "   Movie_Budget  Movie_Popularity Movie_Release_Date  Movie_Revenue  \\\n",
              "0       4000000         22.876230         09-12-1995        4300000   \n",
              "1      11000000        126.393695         25-05-1977      775398007   \n",
              "2      94000000         85.688789         30-05-2003      940335536   \n",
              "3      55000000        138.133331         06-07-1994      677945399   \n",
              "4      15000000         80.878605         15-09-1999      356296601   \n",
              "\n",
              "   Movie_Runtime  Movie_Vote  ...  \\\n",
              "0           98.0         6.5  ...   \n",
              "1          121.0         8.1  ...   \n",
              "2          100.0         7.6  ...   \n",
              "3          142.0         8.2  ...   \n",
              "4          122.0         7.9  ...   \n",
              "\n",
              "                                      Movie_Homepage  \\\n",
              "0                                                NaN   \n",
              "1  http://www.starwars.com/films/star-wars-episod...   \n",
              "2              http://movies.disney.com/finding-nemo   \n",
              "3                                                NaN   \n",
              "4                      http://www.dreamworks.com/ab/   \n",
              "\n",
              "                                      Movie_Keywords  \\\n",
              "0          hotel new year's eve witch bet hotel room   \n",
              "1        android galaxy hermit death star lightsaber   \n",
              "2  father son relationship harbor underwater fish...   \n",
              "3  vietnam veteran hippie mentally disabled runni...   \n",
              "4  male nudity female nudity adultery midlife cri...   \n",
              "\n",
              "                                      Movie_Overview  \\\n",
              "0  It's Ted the Bellhop's first night on the job....   \n",
              "1  Princess Leia is captured and held hostage by ...   \n",
              "2  Nemo, an adventurous young clownfish, is unexp...   \n",
              "3  A man with a low IQ has accomplished great thi...   \n",
              "4  Lester Burnham, a depressed suburban father in...   \n",
              "\n",
              "                              Movie_Production_House  \\\n",
              "0  [{\"name\": \"Miramax Films\", \"id\": 14}, {\"name\":...   \n",
              "1  [{\"name\": \"Lucasfilm\", \"id\": 1}, {\"name\": \"Twe...   \n",
              "2     [{\"name\": \"Pixar Animation Studios\", \"id\": 3}]   \n",
              "3          [{\"name\": \"Paramount Pictures\", \"id\": 4}]   \n",
              "4  [{\"name\": \"DreamWorks SKG\", \"id\": 27}, {\"name\"...   \n",
              "\n",
              "                            Movie_Production_Country  \\\n",
              "0  [{\"iso_3166_1\": \"US\", \"name\": \"United States o...   \n",
              "1  [{\"iso_3166_1\": \"US\", \"name\": \"United States o...   \n",
              "2  [{\"iso_3166_1\": \"US\", \"name\": \"United States o...   \n",
              "3  [{\"iso_3166_1\": \"US\", \"name\": \"United States o...   \n",
              "4  [{\"iso_3166_1\": \"US\", \"name\": \"United States o...   \n",
              "\n",
              "                      Movie_Spoken_Language  \\\n",
              "0  [{\"iso_639_1\": \"en\", \"name\": \"English\"}]   \n",
              "1  [{\"iso_639_1\": \"en\", \"name\": \"English\"}]   \n",
              "2  [{\"iso_639_1\": \"en\", \"name\": \"English\"}]   \n",
              "3  [{\"iso_639_1\": \"en\", \"name\": \"English\"}]   \n",
              "4  [{\"iso_639_1\": \"en\", \"name\": \"English\"}]   \n",
              "\n",
              "                                       Movie_Tagline  \\\n",
              "0  Twelve outrageous guests. Four scandalous requ...   \n",
              "1       A long time ago in a galaxy far, far away...   \n",
              "2  There are 3.7 trillion fish in the ocean, they...   \n",
              "3  The world will never be the same, once you've ...   \n",
              "4                                       Look closer.   \n",
              "\n",
              "                                          Movie_Cast  \\\n",
              "0  Tim Roth Antonio Banderas Jennifer Beals Madon...   \n",
              "1  Mark Hamill Harrison Ford Carrie Fisher Peter ...   \n",
              "2  Albert Brooks Ellen DeGeneres Alexander Gould ...   \n",
              "3  Tom Hanks Robin Wright Gary Sinise Mykelti Wil...   \n",
              "4  Kevin Spacey Annette Bening Thora Birch Wes Be...   \n",
              "\n",
              "                                          Movie_Crew   Movie_Director  \n",
              "0  [{'name': 'Allison Anders', 'gender': 1, 'depa...   Allison Anders  \n",
              "1  [{'name': 'George Lucas', 'gender': 2, 'depart...     George Lucas  \n",
              "2  [{'name': 'Andrew Stanton', 'gender': 2, 'depa...   Andrew Stanton  \n",
              "3  [{'name': 'Alan Silvestri', 'gender': 2, 'depa...  Robert Zemeckis  \n",
              "4  [{'name': 'Thomas Newman', 'gender': 2, 'depar...       Sam Mendes  \n",
              "\n",
              "[5 rows x 21 columns]"
            ],
            "text/html": [
              "\n",
              "  <div id=\"df-26675402-c61e-47c2-8e31-7cd895b88d63\" class=\"colab-df-container\">\n",
              "    <div>\n",
              "<style scoped>\n",
              "    .dataframe tbody tr th:only-of-type {\n",
              "        vertical-align: middle;\n",
              "    }\n",
              "\n",
              "    .dataframe tbody tr th {\n",
              "        vertical-align: top;\n",
              "    }\n",
              "\n",
              "    .dataframe thead th {\n",
              "        text-align: right;\n",
              "    }\n",
              "</style>\n",
              "<table border=\"1\" class=\"dataframe\">\n",
              "  <thead>\n",
              "    <tr style=\"text-align: right;\">\n",
              "      <th></th>\n",
              "      <th>Movie_ID</th>\n",
              "      <th>Movie_Title</th>\n",
              "      <th>Movie_Genre</th>\n",
              "      <th>Movie_Language</th>\n",
              "      <th>Movie_Budget</th>\n",
              "      <th>Movie_Popularity</th>\n",
              "      <th>Movie_Release_Date</th>\n",
              "      <th>Movie_Revenue</th>\n",
              "      <th>Movie_Runtime</th>\n",
              "      <th>Movie_Vote</th>\n",
              "      <th>...</th>\n",
              "      <th>Movie_Homepage</th>\n",
              "      <th>Movie_Keywords</th>\n",
              "      <th>Movie_Overview</th>\n",
              "      <th>Movie_Production_House</th>\n",
              "      <th>Movie_Production_Country</th>\n",
              "      <th>Movie_Spoken_Language</th>\n",
              "      <th>Movie_Tagline</th>\n",
              "      <th>Movie_Cast</th>\n",
              "      <th>Movie_Crew</th>\n",
              "      <th>Movie_Director</th>\n",
              "    </tr>\n",
              "  </thead>\n",
              "  <tbody>\n",
              "    <tr>\n",
              "      <th>0</th>\n",
              "      <td>1</td>\n",
              "      <td>Four Rooms</td>\n",
              "      <td>Crime Comedy</td>\n",
              "      <td>en</td>\n",
              "      <td>4000000</td>\n",
              "      <td>22.876230</td>\n",
              "      <td>09-12-1995</td>\n",
              "      <td>4300000</td>\n",
              "      <td>98.0</td>\n",
              "      <td>6.5</td>\n",
              "      <td>...</td>\n",
              "      <td>NaN</td>\n",
              "      <td>hotel new year's eve witch bet hotel room</td>\n",
              "      <td>It's Ted the Bellhop's first night on the job....</td>\n",
              "      <td>[{\"name\": \"Miramax Films\", \"id\": 14}, {\"name\":...</td>\n",
              "      <td>[{\"iso_3166_1\": \"US\", \"name\": \"United States o...</td>\n",
              "      <td>[{\"iso_639_1\": \"en\", \"name\": \"English\"}]</td>\n",
              "      <td>Twelve outrageous guests. Four scandalous requ...</td>\n",
              "      <td>Tim Roth Antonio Banderas Jennifer Beals Madon...</td>\n",
              "      <td>[{'name': 'Allison Anders', 'gender': 1, 'depa...</td>\n",
              "      <td>Allison Anders</td>\n",
              "    </tr>\n",
              "    <tr>\n",
              "      <th>1</th>\n",
              "      <td>2</td>\n",
              "      <td>Star Wars</td>\n",
              "      <td>Adventure Action Science Fiction</td>\n",
              "      <td>en</td>\n",
              "      <td>11000000</td>\n",
              "      <td>126.393695</td>\n",
              "      <td>25-05-1977</td>\n",
              "      <td>775398007</td>\n",
              "      <td>121.0</td>\n",
              "      <td>8.1</td>\n",
              "      <td>...</td>\n",
              "      <td>http://www.starwars.com/films/star-wars-episod...</td>\n",
              "      <td>android galaxy hermit death star lightsaber</td>\n",
              "      <td>Princess Leia is captured and held hostage by ...</td>\n",
              "      <td>[{\"name\": \"Lucasfilm\", \"id\": 1}, {\"name\": \"Twe...</td>\n",
              "      <td>[{\"iso_3166_1\": \"US\", \"name\": \"United States o...</td>\n",
              "      <td>[{\"iso_639_1\": \"en\", \"name\": \"English\"}]</td>\n",
              "      <td>A long time ago in a galaxy far, far away...</td>\n",
              "      <td>Mark Hamill Harrison Ford Carrie Fisher Peter ...</td>\n",
              "      <td>[{'name': 'George Lucas', 'gender': 2, 'depart...</td>\n",
              "      <td>George Lucas</td>\n",
              "    </tr>\n",
              "    <tr>\n",
              "      <th>2</th>\n",
              "      <td>3</td>\n",
              "      <td>Finding Nemo</td>\n",
              "      <td>Animation Family</td>\n",
              "      <td>en</td>\n",
              "      <td>94000000</td>\n",
              "      <td>85.688789</td>\n",
              "      <td>30-05-2003</td>\n",
              "      <td>940335536</td>\n",
              "      <td>100.0</td>\n",
              "      <td>7.6</td>\n",
              "      <td>...</td>\n",
              "      <td>http://movies.disney.com/finding-nemo</td>\n",
              "      <td>father son relationship harbor underwater fish...</td>\n",
              "      <td>Nemo, an adventurous young clownfish, is unexp...</td>\n",
              "      <td>[{\"name\": \"Pixar Animation Studios\", \"id\": 3}]</td>\n",
              "      <td>[{\"iso_3166_1\": \"US\", \"name\": \"United States o...</td>\n",
              "      <td>[{\"iso_639_1\": \"en\", \"name\": \"English\"}]</td>\n",
              "      <td>There are 3.7 trillion fish in the ocean, they...</td>\n",
              "      <td>Albert Brooks Ellen DeGeneres Alexander Gould ...</td>\n",
              "      <td>[{'name': 'Andrew Stanton', 'gender': 2, 'depa...</td>\n",
              "      <td>Andrew Stanton</td>\n",
              "    </tr>\n",
              "    <tr>\n",
              "      <th>3</th>\n",
              "      <td>4</td>\n",
              "      <td>Forrest Gump</td>\n",
              "      <td>Comedy Drama Romance</td>\n",
              "      <td>en</td>\n",
              "      <td>55000000</td>\n",
              "      <td>138.133331</td>\n",
              "      <td>06-07-1994</td>\n",
              "      <td>677945399</td>\n",
              "      <td>142.0</td>\n",
              "      <td>8.2</td>\n",
              "      <td>...</td>\n",
              "      <td>NaN</td>\n",
              "      <td>vietnam veteran hippie mentally disabled runni...</td>\n",
              "      <td>A man with a low IQ has accomplished great thi...</td>\n",
              "      <td>[{\"name\": \"Paramount Pictures\", \"id\": 4}]</td>\n",
              "      <td>[{\"iso_3166_1\": \"US\", \"name\": \"United States o...</td>\n",
              "      <td>[{\"iso_639_1\": \"en\", \"name\": \"English\"}]</td>\n",
              "      <td>The world will never be the same, once you've ...</td>\n",
              "      <td>Tom Hanks Robin Wright Gary Sinise Mykelti Wil...</td>\n",
              "      <td>[{'name': 'Alan Silvestri', 'gender': 2, 'depa...</td>\n",
              "      <td>Robert Zemeckis</td>\n",
              "    </tr>\n",
              "    <tr>\n",
              "      <th>4</th>\n",
              "      <td>5</td>\n",
              "      <td>American Beauty</td>\n",
              "      <td>Drama</td>\n",
              "      <td>en</td>\n",
              "      <td>15000000</td>\n",
              "      <td>80.878605</td>\n",
              "      <td>15-09-1999</td>\n",
              "      <td>356296601</td>\n",
              "      <td>122.0</td>\n",
              "      <td>7.9</td>\n",
              "      <td>...</td>\n",
              "      <td>http://www.dreamworks.com/ab/</td>\n",
              "      <td>male nudity female nudity adultery midlife cri...</td>\n",
              "      <td>Lester Burnham, a depressed suburban father in...</td>\n",
              "      <td>[{\"name\": \"DreamWorks SKG\", \"id\": 27}, {\"name\"...</td>\n",
              "      <td>[{\"iso_3166_1\": \"US\", \"name\": \"United States o...</td>\n",
              "      <td>[{\"iso_639_1\": \"en\", \"name\": \"English\"}]</td>\n",
              "      <td>Look closer.</td>\n",
              "      <td>Kevin Spacey Annette Bening Thora Birch Wes Be...</td>\n",
              "      <td>[{'name': 'Thomas Newman', 'gender': 2, 'depar...</td>\n",
              "      <td>Sam Mendes</td>\n",
              "    </tr>\n",
              "  </tbody>\n",
              "</table>\n",
              "<p>5 rows × 21 columns</p>\n",
              "</div>\n",
              "    <div class=\"colab-df-buttons\">\n",
              "\n",
              "  <div class=\"colab-df-container\">\n",
              "    <button class=\"colab-df-convert\" onclick=\"convertToInteractive('df-26675402-c61e-47c2-8e31-7cd895b88d63')\"\n",
              "            title=\"Convert this dataframe to an interactive table.\"\n",
              "            style=\"display:none;\">\n",
              "\n",
              "  <svg xmlns=\"http://www.w3.org/2000/svg\" height=\"24px\" viewBox=\"0 -960 960 960\">\n",
              "    <path d=\"M120-120v-720h720v720H120Zm60-500h600v-160H180v160Zm220 220h160v-160H400v160Zm0 220h160v-160H400v160ZM180-400h160v-160H180v160Zm440 0h160v-160H620v160ZM180-180h160v-160H180v160Zm440 0h160v-160H620v160Z\"/>\n",
              "  </svg>\n",
              "    </button>\n",
              "\n",
              "  <style>\n",
              "    .colab-df-container {\n",
              "      display:flex;\n",
              "      gap: 12px;\n",
              "    }\n",
              "\n",
              "    .colab-df-convert {\n",
              "      background-color: #E8F0FE;\n",
              "      border: none;\n",
              "      border-radius: 50%;\n",
              "      cursor: pointer;\n",
              "      display: none;\n",
              "      fill: #1967D2;\n",
              "      height: 32px;\n",
              "      padding: 0 0 0 0;\n",
              "      width: 32px;\n",
              "    }\n",
              "\n",
              "    .colab-df-convert:hover {\n",
              "      background-color: #E2EBFA;\n",
              "      box-shadow: 0px 1px 2px rgba(60, 64, 67, 0.3), 0px 1px 3px 1px rgba(60, 64, 67, 0.15);\n",
              "      fill: #174EA6;\n",
              "    }\n",
              "\n",
              "    .colab-df-buttons div {\n",
              "      margin-bottom: 4px;\n",
              "    }\n",
              "\n",
              "    [theme=dark] .colab-df-convert {\n",
              "      background-color: #3B4455;\n",
              "      fill: #D2E3FC;\n",
              "    }\n",
              "\n",
              "    [theme=dark] .colab-df-convert:hover {\n",
              "      background-color: #434B5C;\n",
              "      box-shadow: 0px 1px 3px 1px rgba(0, 0, 0, 0.15);\n",
              "      filter: drop-shadow(0px 1px 2px rgba(0, 0, 0, 0.3));\n",
              "      fill: #FFFFFF;\n",
              "    }\n",
              "  </style>\n",
              "\n",
              "    <script>\n",
              "      const buttonEl =\n",
              "        document.querySelector('#df-26675402-c61e-47c2-8e31-7cd895b88d63 button.colab-df-convert');\n",
              "      buttonEl.style.display =\n",
              "        google.colab.kernel.accessAllowed ? 'block' : 'none';\n",
              "\n",
              "      async function convertToInteractive(key) {\n",
              "        const element = document.querySelector('#df-26675402-c61e-47c2-8e31-7cd895b88d63');\n",
              "        const dataTable =\n",
              "          await google.colab.kernel.invokeFunction('convertToInteractive',\n",
              "                                                    [key], {});\n",
              "        if (!dataTable) return;\n",
              "\n",
              "        const docLinkHtml = 'Like what you see? Visit the ' +\n",
              "          '<a target=\"_blank\" href=https://colab.research.google.com/notebooks/data_table.ipynb>data table notebook</a>'\n",
              "          + ' to learn more about interactive tables.';\n",
              "        element.innerHTML = '';\n",
              "        dataTable['output_type'] = 'display_data';\n",
              "        await google.colab.output.renderOutput(dataTable, element);\n",
              "        const docLink = document.createElement('div');\n",
              "        docLink.innerHTML = docLinkHtml;\n",
              "        element.appendChild(docLink);\n",
              "      }\n",
              "    </script>\n",
              "  </div>\n",
              "\n",
              "\n",
              "<div id=\"df-22288c90-a71f-4901-9e57-e444d958118b\">\n",
              "  <button class=\"colab-df-quickchart\" onclick=\"quickchart('df-22288c90-a71f-4901-9e57-e444d958118b')\"\n",
              "            title=\"Suggest charts.\"\n",
              "            style=\"display:none;\">\n",
              "\n",
              "<svg xmlns=\"http://www.w3.org/2000/svg\" height=\"24px\"viewBox=\"0 0 24 24\"\n",
              "     width=\"24px\">\n",
              "    <g>\n",
              "        <path d=\"M19 3H5c-1.1 0-2 .9-2 2v14c0 1.1.9 2 2 2h14c1.1 0 2-.9 2-2V5c0-1.1-.9-2-2-2zM9 17H7v-7h2v7zm4 0h-2V7h2v10zm4 0h-2v-4h2v4z\"/>\n",
              "    </g>\n",
              "</svg>\n",
              "  </button>\n",
              "\n",
              "<style>\n",
              "  .colab-df-quickchart {\n",
              "    background-color: #E8F0FE;\n",
              "    border: none;\n",
              "    border-radius: 50%;\n",
              "    cursor: pointer;\n",
              "    display: none;\n",
              "    fill: #1967D2;\n",
              "    height: 32px;\n",
              "    padding: 0 0 0 0;\n",
              "    width: 32px;\n",
              "  }\n",
              "\n",
              "  .colab-df-quickchart:hover {\n",
              "    background-color: #E2EBFA;\n",
              "    box-shadow: 0px 1px 2px rgba(60, 64, 67, 0.3), 0px 1px 3px 1px rgba(60, 64, 67, 0.15);\n",
              "    fill: #174EA6;\n",
              "  }\n",
              "\n",
              "  [theme=dark] .colab-df-quickchart {\n",
              "    background-color: #3B4455;\n",
              "    fill: #D2E3FC;\n",
              "  }\n",
              "\n",
              "  [theme=dark] .colab-df-quickchart:hover {\n",
              "    background-color: #434B5C;\n",
              "    box-shadow: 0px 1px 3px 1px rgba(0, 0, 0, 0.15);\n",
              "    filter: drop-shadow(0px 1px 2px rgba(0, 0, 0, 0.3));\n",
              "    fill: #FFFFFF;\n",
              "  }\n",
              "</style>\n",
              "\n",
              "  <script>\n",
              "    async function quickchart(key) {\n",
              "      const charts = await google.colab.kernel.invokeFunction(\n",
              "          'suggestCharts', [key], {});\n",
              "    }\n",
              "    (() => {\n",
              "      let quickchartButtonEl =\n",
              "        document.querySelector('#df-22288c90-a71f-4901-9e57-e444d958118b button');\n",
              "      quickchartButtonEl.style.display =\n",
              "        google.colab.kernel.accessAllowed ? 'block' : 'none';\n",
              "    })();\n",
              "  </script>\n",
              "</div>\n",
              "    </div>\n",
              "  </div>\n"
            ]
          },
          "metadata": {},
          "execution_count": 4
        }
      ]
    },
    {
      "cell_type": "code",
      "source": [
        "df.info()\n"
      ],
      "metadata": {
        "colab": {
          "base_uri": "https://localhost:8080/"
        },
        "id": "-yoJGaOExarF",
        "outputId": "cbec40da-32ec-475f-94b3-490e52918a4d"
      },
      "execution_count": null,
      "outputs": [
        {
          "output_type": "stream",
          "name": "stdout",
          "text": [
            "<class 'pandas.core.frame.DataFrame'>\n",
            "RangeIndex: 4760 entries, 0 to 4759\n",
            "Data columns (total 21 columns):\n",
            " #   Column                    Non-Null Count  Dtype  \n",
            "---  ------                    --------------  -----  \n",
            " 0   Movie_ID                  4760 non-null   int64  \n",
            " 1   Movie_Title               4760 non-null   object \n",
            " 2   Movie_Genre               4760 non-null   object \n",
            " 3   Movie_Language            4760 non-null   object \n",
            " 4   Movie_Budget              4760 non-null   int64  \n",
            " 5   Movie_Popularity          4760 non-null   float64\n",
            " 6   Movie_Release_Date        4760 non-null   object \n",
            " 7   Movie_Revenue             4760 non-null   int64  \n",
            " 8   Movie_Runtime             4758 non-null   float64\n",
            " 9   Movie_Vote                4760 non-null   float64\n",
            " 10  Movie_Vote_Count          4760 non-null   int64  \n",
            " 11  Movie_Homepage            1699 non-null   object \n",
            " 12  Movie_Keywords            4373 non-null   object \n",
            " 13  Movie_Overview            4757 non-null   object \n",
            " 14  Movie_Production_House    4760 non-null   object \n",
            " 15  Movie_Production_Country  4760 non-null   object \n",
            " 16  Movie_Spoken_Language     4760 non-null   object \n",
            " 17  Movie_Tagline             3942 non-null   object \n",
            " 18  Movie_Cast                4733 non-null   object \n",
            " 19  Movie_Crew                4760 non-null   object \n",
            " 20  Movie_Director            4738 non-null   object \n",
            "dtypes: float64(3), int64(4), object(14)\n",
            "memory usage: 781.1+ KB\n"
          ]
        }
      ]
    },
    {
      "cell_type": "code",
      "source": [
        "df.shape\n"
      ],
      "metadata": {
        "colab": {
          "base_uri": "https://localhost:8080/"
        },
        "id": "evmM7hY5xjlF",
        "outputId": "dc2676d7-4027-43bb-e725-397cc1bd90b3"
      },
      "execution_count": null,
      "outputs": [
        {
          "output_type": "execute_result",
          "data": {
            "text/plain": [
              "(4760, 21)"
            ]
          },
          "metadata": {},
          "execution_count": 7
        }
      ]
    },
    {
      "cell_type": "code",
      "source": [
        "df.columns\n"
      ],
      "metadata": {
        "colab": {
          "base_uri": "https://localhost:8080/"
        },
        "id": "hu5eDlaDxpBz",
        "outputId": "9e1f0b90-eea6-4de6-9e95-d24f7127a49a"
      },
      "execution_count": null,
      "outputs": [
        {
          "output_type": "execute_result",
          "data": {
            "text/plain": [
              "Index(['Movie_ID', 'Movie_Title', 'Movie_Genre', 'Movie_Language',\n",
              "       'Movie_Budget', 'Movie_Popularity', 'Movie_Release_Date',\n",
              "       'Movie_Revenue', 'Movie_Runtime', 'Movie_Vote', 'Movie_Vote_Count',\n",
              "       'Movie_Homepage', 'Movie_Keywords', 'Movie_Overview',\n",
              "       'Movie_Production_House', 'Movie_Production_Country',\n",
              "       'Movie_Spoken_Language', 'Movie_Tagline', 'Movie_Cast', 'Movie_Crew',\n",
              "       'Movie_Director'],\n",
              "      dtype='object')"
            ]
          },
          "metadata": {},
          "execution_count": 8
        }
      ]
    },
    {
      "cell_type": "markdown",
      "source": [
        "# ***Get Feature Selection***"
      ],
      "metadata": {
        "id": "Owv3EJczxyja"
      }
    },
    {
      "cell_type": "code",
      "source": [
        "df_features=df[['Movie_Genre','Movie_Keywords','Movie_Tagline','Movie_Cast','Movie_Director']].fillna('')\n"
      ],
      "metadata": {
        "id": "i52LB3sxx_hc"
      },
      "execution_count": null,
      "outputs": []
    },
    {
      "cell_type": "code",
      "source": [
        "df_features.shape"
      ],
      "metadata": {
        "colab": {
          "base_uri": "https://localhost:8080/"
        },
        "id": "DN_97vhhyEBk",
        "outputId": "2d9851f4-70eb-4b76-d5a4-b206c5e804c8"
      },
      "execution_count": null,
      "outputs": [
        {
          "output_type": "execute_result",
          "data": {
            "text/plain": [
              "(4760, 5)"
            ]
          },
          "metadata": {},
          "execution_count": 12
        }
      ]
    },
    {
      "cell_type": "code",
      "source": [
        "df_features"
      ],
      "metadata": {
        "colab": {
          "base_uri": "https://localhost:8080/",
          "height": 493
        },
        "id": "lvEr1sacyThe",
        "outputId": "0926a1d5-bf8b-4610-990f-f6b9a1e7e780"
      },
      "execution_count": null,
      "outputs": [
        {
          "output_type": "execute_result",
          "data": {
            "text/plain": [
              "                           Movie_Genre  \\\n",
              "0                         Crime Comedy   \n",
              "1     Adventure Action Science Fiction   \n",
              "2                     Animation Family   \n",
              "3                 Comedy Drama Romance   \n",
              "4                                Drama   \n",
              "...                                ...   \n",
              "4755                            Horror   \n",
              "4756               Comedy Family Drama   \n",
              "4757                    Thriller Drama   \n",
              "4758                            Family   \n",
              "4759                       Documentary   \n",
              "\n",
              "                                         Movie_Keywords  \\\n",
              "0             hotel new year's eve witch bet hotel room   \n",
              "1           android galaxy hermit death star lightsaber   \n",
              "2     father son relationship harbor underwater fish...   \n",
              "3     vietnam veteran hippie mentally disabled runni...   \n",
              "4     male nudity female nudity adultery midlife cri...   \n",
              "...                                                 ...   \n",
              "4755                                                      \n",
              "4756                                                      \n",
              "4757                     christian film sex trafficking   \n",
              "4758                                                      \n",
              "4759  music actors legendary perfomer classic hollyw...   \n",
              "\n",
              "                                          Movie_Tagline  \\\n",
              "0     Twelve outrageous guests. Four scandalous requ...   \n",
              "1          A long time ago in a galaxy far, far away...   \n",
              "2     There are 3.7 trillion fish in the ocean, they...   \n",
              "3     The world will never be the same, once you've ...   \n",
              "4                                          Look closer.   \n",
              "...                                                 ...   \n",
              "4755                The hot spot where Satan's waitin'.   \n",
              "4756           It’s better to stand out than to fit in.   \n",
              "4757           She never knew it could happen to her...   \n",
              "4758                                                      \n",
              "4759                                                      \n",
              "\n",
              "                                             Movie_Cast     Movie_Director  \n",
              "0     Tim Roth Antonio Banderas Jennifer Beals Madon...     Allison Anders  \n",
              "1     Mark Hamill Harrison Ford Carrie Fisher Peter ...       George Lucas  \n",
              "2     Albert Brooks Ellen DeGeneres Alexander Gould ...     Andrew Stanton  \n",
              "3     Tom Hanks Robin Wright Gary Sinise Mykelti Wil...    Robert Zemeckis  \n",
              "4     Kevin Spacey Annette Bening Thora Birch Wes Be...         Sam Mendes  \n",
              "...                                                 ...                ...  \n",
              "4755  Lisa Hart Carroll Michael Des Barres Paul Drak...         Pece Dingo  \n",
              "4756  Roni Akurati Brighton Sharbino Jason Lee Anjul...       Frank Lotito  \n",
              "4757  Nicole Smolen Kim Baldwin Ariana Stephens Brys...       Jaco Booyens  \n",
              "4758                                                                        \n",
              "4759                                    Tony Oppedisano  Simon Napier-Bell  \n",
              "\n",
              "[4760 rows x 5 columns]"
            ],
            "text/html": [
              "\n",
              "  <div id=\"df-fb7bf7b8-e642-4fba-b6bd-37e76d2e375b\" class=\"colab-df-container\">\n",
              "    <div>\n",
              "<style scoped>\n",
              "    .dataframe tbody tr th:only-of-type {\n",
              "        vertical-align: middle;\n",
              "    }\n",
              "\n",
              "    .dataframe tbody tr th {\n",
              "        vertical-align: top;\n",
              "    }\n",
              "\n",
              "    .dataframe thead th {\n",
              "        text-align: right;\n",
              "    }\n",
              "</style>\n",
              "<table border=\"1\" class=\"dataframe\">\n",
              "  <thead>\n",
              "    <tr style=\"text-align: right;\">\n",
              "      <th></th>\n",
              "      <th>Movie_Genre</th>\n",
              "      <th>Movie_Keywords</th>\n",
              "      <th>Movie_Tagline</th>\n",
              "      <th>Movie_Cast</th>\n",
              "      <th>Movie_Director</th>\n",
              "    </tr>\n",
              "  </thead>\n",
              "  <tbody>\n",
              "    <tr>\n",
              "      <th>0</th>\n",
              "      <td>Crime Comedy</td>\n",
              "      <td>hotel new year's eve witch bet hotel room</td>\n",
              "      <td>Twelve outrageous guests. Four scandalous requ...</td>\n",
              "      <td>Tim Roth Antonio Banderas Jennifer Beals Madon...</td>\n",
              "      <td>Allison Anders</td>\n",
              "    </tr>\n",
              "    <tr>\n",
              "      <th>1</th>\n",
              "      <td>Adventure Action Science Fiction</td>\n",
              "      <td>android galaxy hermit death star lightsaber</td>\n",
              "      <td>A long time ago in a galaxy far, far away...</td>\n",
              "      <td>Mark Hamill Harrison Ford Carrie Fisher Peter ...</td>\n",
              "      <td>George Lucas</td>\n",
              "    </tr>\n",
              "    <tr>\n",
              "      <th>2</th>\n",
              "      <td>Animation Family</td>\n",
              "      <td>father son relationship harbor underwater fish...</td>\n",
              "      <td>There are 3.7 trillion fish in the ocean, they...</td>\n",
              "      <td>Albert Brooks Ellen DeGeneres Alexander Gould ...</td>\n",
              "      <td>Andrew Stanton</td>\n",
              "    </tr>\n",
              "    <tr>\n",
              "      <th>3</th>\n",
              "      <td>Comedy Drama Romance</td>\n",
              "      <td>vietnam veteran hippie mentally disabled runni...</td>\n",
              "      <td>The world will never be the same, once you've ...</td>\n",
              "      <td>Tom Hanks Robin Wright Gary Sinise Mykelti Wil...</td>\n",
              "      <td>Robert Zemeckis</td>\n",
              "    </tr>\n",
              "    <tr>\n",
              "      <th>4</th>\n",
              "      <td>Drama</td>\n",
              "      <td>male nudity female nudity adultery midlife cri...</td>\n",
              "      <td>Look closer.</td>\n",
              "      <td>Kevin Spacey Annette Bening Thora Birch Wes Be...</td>\n",
              "      <td>Sam Mendes</td>\n",
              "    </tr>\n",
              "    <tr>\n",
              "      <th>...</th>\n",
              "      <td>...</td>\n",
              "      <td>...</td>\n",
              "      <td>...</td>\n",
              "      <td>...</td>\n",
              "      <td>...</td>\n",
              "    </tr>\n",
              "    <tr>\n",
              "      <th>4755</th>\n",
              "      <td>Horror</td>\n",
              "      <td></td>\n",
              "      <td>The hot spot where Satan's waitin'.</td>\n",
              "      <td>Lisa Hart Carroll Michael Des Barres Paul Drak...</td>\n",
              "      <td>Pece Dingo</td>\n",
              "    </tr>\n",
              "    <tr>\n",
              "      <th>4756</th>\n",
              "      <td>Comedy Family Drama</td>\n",
              "      <td></td>\n",
              "      <td>It’s better to stand out than to fit in.</td>\n",
              "      <td>Roni Akurati Brighton Sharbino Jason Lee Anjul...</td>\n",
              "      <td>Frank Lotito</td>\n",
              "    </tr>\n",
              "    <tr>\n",
              "      <th>4757</th>\n",
              "      <td>Thriller Drama</td>\n",
              "      <td>christian film sex trafficking</td>\n",
              "      <td>She never knew it could happen to her...</td>\n",
              "      <td>Nicole Smolen Kim Baldwin Ariana Stephens Brys...</td>\n",
              "      <td>Jaco Booyens</td>\n",
              "    </tr>\n",
              "    <tr>\n",
              "      <th>4758</th>\n",
              "      <td>Family</td>\n",
              "      <td></td>\n",
              "      <td></td>\n",
              "      <td></td>\n",
              "      <td></td>\n",
              "    </tr>\n",
              "    <tr>\n",
              "      <th>4759</th>\n",
              "      <td>Documentary</td>\n",
              "      <td>music actors legendary perfomer classic hollyw...</td>\n",
              "      <td></td>\n",
              "      <td>Tony Oppedisano</td>\n",
              "      <td>Simon Napier-Bell</td>\n",
              "    </tr>\n",
              "  </tbody>\n",
              "</table>\n",
              "<p>4760 rows × 5 columns</p>\n",
              "</div>\n",
              "    <div class=\"colab-df-buttons\">\n",
              "\n",
              "  <div class=\"colab-df-container\">\n",
              "    <button class=\"colab-df-convert\" onclick=\"convertToInteractive('df-fb7bf7b8-e642-4fba-b6bd-37e76d2e375b')\"\n",
              "            title=\"Convert this dataframe to an interactive table.\"\n",
              "            style=\"display:none;\">\n",
              "\n",
              "  <svg xmlns=\"http://www.w3.org/2000/svg\" height=\"24px\" viewBox=\"0 -960 960 960\">\n",
              "    <path d=\"M120-120v-720h720v720H120Zm60-500h600v-160H180v160Zm220 220h160v-160H400v160Zm0 220h160v-160H400v160ZM180-400h160v-160H180v160Zm440 0h160v-160H620v160ZM180-180h160v-160H180v160Zm440 0h160v-160H620v160Z\"/>\n",
              "  </svg>\n",
              "    </button>\n",
              "\n",
              "  <style>\n",
              "    .colab-df-container {\n",
              "      display:flex;\n",
              "      gap: 12px;\n",
              "    }\n",
              "\n",
              "    .colab-df-convert {\n",
              "      background-color: #E8F0FE;\n",
              "      border: none;\n",
              "      border-radius: 50%;\n",
              "      cursor: pointer;\n",
              "      display: none;\n",
              "      fill: #1967D2;\n",
              "      height: 32px;\n",
              "      padding: 0 0 0 0;\n",
              "      width: 32px;\n",
              "    }\n",
              "\n",
              "    .colab-df-convert:hover {\n",
              "      background-color: #E2EBFA;\n",
              "      box-shadow: 0px 1px 2px rgba(60, 64, 67, 0.3), 0px 1px 3px 1px rgba(60, 64, 67, 0.15);\n",
              "      fill: #174EA6;\n",
              "    }\n",
              "\n",
              "    .colab-df-buttons div {\n",
              "      margin-bottom: 4px;\n",
              "    }\n",
              "\n",
              "    [theme=dark] .colab-df-convert {\n",
              "      background-color: #3B4455;\n",
              "      fill: #D2E3FC;\n",
              "    }\n",
              "\n",
              "    [theme=dark] .colab-df-convert:hover {\n",
              "      background-color: #434B5C;\n",
              "      box-shadow: 0px 1px 3px 1px rgba(0, 0, 0, 0.15);\n",
              "      filter: drop-shadow(0px 1px 2px rgba(0, 0, 0, 0.3));\n",
              "      fill: #FFFFFF;\n",
              "    }\n",
              "  </style>\n",
              "\n",
              "    <script>\n",
              "      const buttonEl =\n",
              "        document.querySelector('#df-fb7bf7b8-e642-4fba-b6bd-37e76d2e375b button.colab-df-convert');\n",
              "      buttonEl.style.display =\n",
              "        google.colab.kernel.accessAllowed ? 'block' : 'none';\n",
              "\n",
              "      async function convertToInteractive(key) {\n",
              "        const element = document.querySelector('#df-fb7bf7b8-e642-4fba-b6bd-37e76d2e375b');\n",
              "        const dataTable =\n",
              "          await google.colab.kernel.invokeFunction('convertToInteractive',\n",
              "                                                    [key], {});\n",
              "        if (!dataTable) return;\n",
              "\n",
              "        const docLinkHtml = 'Like what you see? Visit the ' +\n",
              "          '<a target=\"_blank\" href=https://colab.research.google.com/notebooks/data_table.ipynb>data table notebook</a>'\n",
              "          + ' to learn more about interactive tables.';\n",
              "        element.innerHTML = '';\n",
              "        dataTable['output_type'] = 'display_data';\n",
              "        await google.colab.output.renderOutput(dataTable, element);\n",
              "        const docLink = document.createElement('div');\n",
              "        docLink.innerHTML = docLinkHtml;\n",
              "        element.appendChild(docLink);\n",
              "      }\n",
              "    </script>\n",
              "  </div>\n",
              "\n",
              "\n",
              "<div id=\"df-6c0fe07e-f4f1-4d23-8751-5a7c2c1db4a8\">\n",
              "  <button class=\"colab-df-quickchart\" onclick=\"quickchart('df-6c0fe07e-f4f1-4d23-8751-5a7c2c1db4a8')\"\n",
              "            title=\"Suggest charts.\"\n",
              "            style=\"display:none;\">\n",
              "\n",
              "<svg xmlns=\"http://www.w3.org/2000/svg\" height=\"24px\"viewBox=\"0 0 24 24\"\n",
              "     width=\"24px\">\n",
              "    <g>\n",
              "        <path d=\"M19 3H5c-1.1 0-2 .9-2 2v14c0 1.1.9 2 2 2h14c1.1 0 2-.9 2-2V5c0-1.1-.9-2-2-2zM9 17H7v-7h2v7zm4 0h-2V7h2v10zm4 0h-2v-4h2v4z\"/>\n",
              "    </g>\n",
              "</svg>\n",
              "  </button>\n",
              "\n",
              "<style>\n",
              "  .colab-df-quickchart {\n",
              "    background-color: #E8F0FE;\n",
              "    border: none;\n",
              "    border-radius: 50%;\n",
              "    cursor: pointer;\n",
              "    display: none;\n",
              "    fill: #1967D2;\n",
              "    height: 32px;\n",
              "    padding: 0 0 0 0;\n",
              "    width: 32px;\n",
              "  }\n",
              "\n",
              "  .colab-df-quickchart:hover {\n",
              "    background-color: #E2EBFA;\n",
              "    box-shadow: 0px 1px 2px rgba(60, 64, 67, 0.3), 0px 1px 3px 1px rgba(60, 64, 67, 0.15);\n",
              "    fill: #174EA6;\n",
              "  }\n",
              "\n",
              "  [theme=dark] .colab-df-quickchart {\n",
              "    background-color: #3B4455;\n",
              "    fill: #D2E3FC;\n",
              "  }\n",
              "\n",
              "  [theme=dark] .colab-df-quickchart:hover {\n",
              "    background-color: #434B5C;\n",
              "    box-shadow: 0px 1px 3px 1px rgba(0, 0, 0, 0.15);\n",
              "    filter: drop-shadow(0px 1px 2px rgba(0, 0, 0, 0.3));\n",
              "    fill: #FFFFFF;\n",
              "  }\n",
              "</style>\n",
              "\n",
              "  <script>\n",
              "    async function quickchart(key) {\n",
              "      const charts = await google.colab.kernel.invokeFunction(\n",
              "          'suggestCharts', [key], {});\n",
              "    }\n",
              "    (() => {\n",
              "      let quickchartButtonEl =\n",
              "        document.querySelector('#df-6c0fe07e-f4f1-4d23-8751-5a7c2c1db4a8 button');\n",
              "      quickchartButtonEl.style.display =\n",
              "        google.colab.kernel.accessAllowed ? 'block' : 'none';\n",
              "    })();\n",
              "  </script>\n",
              "</div>\n",
              "    </div>\n",
              "  </div>\n"
            ]
          },
          "metadata": {},
          "execution_count": 13
        }
      ]
    },
    {
      "cell_type": "code",
      "source": [
        "X=df_features['Movie_Genre']+''+df_features['Movie_Cast']+''+df_features['Movie_Tagline']+''+df_features['Movie_Director']+''+df_features['Movie_Keywords']+''\n"
      ],
      "metadata": {
        "id": "K-skwuFyycqm"
      },
      "execution_count": null,
      "outputs": []
    },
    {
      "cell_type": "code",
      "source": [
        "X\n"
      ],
      "metadata": {
        "colab": {
          "base_uri": "https://localhost:8080/"
        },
        "id": "yF1_pwwfyhSe",
        "outputId": "bb826d24-54b6-42e9-ca6c-1edbd13d7641"
      },
      "execution_count": null,
      "outputs": [
        {
          "output_type": "execute_result",
          "data": {
            "text/plain": [
              "0       Crime ComedyTim Roth Antonio Banderas Jennifer...\n",
              "1       Adventure Action Science FictionMark Hamill Ha...\n",
              "2       Animation FamilyAlbert Brooks Ellen DeGeneres ...\n",
              "3       Comedy Drama RomanceTom Hanks Robin Wright Gar...\n",
              "4       DramaKevin Spacey Annette Bening Thora Birch W...\n",
              "                              ...                        \n",
              "4755    HorrorLisa Hart Carroll Michael Des Barres Pau...\n",
              "4756    Comedy Family DramaRoni Akurati Brighton Sharb...\n",
              "4757    Thriller DramaNicole Smolen Kim Baldwin Ariana...\n",
              "4758                                               Family\n",
              "4759    DocumentaryTony OppedisanoSimon Napier-Bellmus...\n",
              "Length: 4760, dtype: object"
            ]
          },
          "metadata": {},
          "execution_count": 16
        }
      ]
    },
    {
      "cell_type": "code",
      "source": [
        "X.shape"
      ],
      "metadata": {
        "colab": {
          "base_uri": "https://localhost:8080/"
        },
        "id": "4PTB0qbyyqWh",
        "outputId": "62b6b75c-fdb1-4675-93b5-e66b107cb380"
      },
      "execution_count": null,
      "outputs": [
        {
          "output_type": "execute_result",
          "data": {
            "text/plain": [
              "(4760,)"
            ]
          },
          "metadata": {},
          "execution_count": 18
        }
      ]
    },
    {
      "cell_type": "markdown",
      "source": [
        "# ***Get Feature Text Conversion to Tokens***"
      ],
      "metadata": {
        "id": "o9xqVJq0y2J6"
      }
    },
    {
      "cell_type": "code",
      "source": [
        "from sklearn.feature_extraction.text import TfidfVectorizer"
      ],
      "metadata": {
        "id": "nFWWlN3vzZP_"
      },
      "execution_count": null,
      "outputs": []
    },
    {
      "cell_type": "code",
      "source": [
        "tfidf = TfidfVectorizer()"
      ],
      "metadata": {
        "id": "zewZRx-TzskR"
      },
      "execution_count": null,
      "outputs": []
    },
    {
      "cell_type": "code",
      "source": [
        "X = tfidf.fit_transform(X)"
      ],
      "metadata": {
        "id": "YCfE-y0iz3R0"
      },
      "execution_count": null,
      "outputs": []
    },
    {
      "cell_type": "code",
      "source": [
        "X.shape"
      ],
      "metadata": {
        "colab": {
          "base_uri": "https://localhost:8080/"
        },
        "id": "X4INWBphz_Ol",
        "outputId": "1a1e4b4f-ad13-480f-e570-171c7759334b"
      },
      "execution_count": null,
      "outputs": [
        {
          "output_type": "execute_result",
          "data": {
            "text/plain": [
              "(4760, 27074)"
            ]
          },
          "metadata": {},
          "execution_count": 23
        }
      ]
    },
    {
      "cell_type": "code",
      "source": [
        "print(X)"
      ],
      "metadata": {
        "colab": {
          "base_uri": "https://localhost:8080/"
        },
        "id": "ZAKfLvhn0Ctv",
        "outputId": "083bf961-f05c-44c1-d465-f6a138967456"
      },
      "execution_count": null,
      "outputs": [
        {
          "output_type": "stream",
          "name": "stdout",
          "text": [
            "  (0, 20653)\t0.1451268417517612\n",
            "  (0, 11882)\t0.1349658668172113\n",
            "  (0, 2276)\t0.1617492547522594\n",
            "  (0, 26478)\t0.1476011495789609\n",
            "  (0, 884)\t0.1952087218244829\n",
            "  (0, 736)\t0.14632961257569405\n",
            "  (0, 14507)\t0.08994578684948355\n",
            "  (0, 17716)\t0.06192355235246714\n",
            "  (0, 7938)\t0.2978995905895737\n",
            "  (0, 26769)\t0.25941439915039166\n",
            "  (0, 17357)\t0.19490100665381044\n",
            "  (0, 26276)\t0.17482506361817107\n",
            "  (0, 9152)\t0.08701204880679807\n",
            "  (0, 26227)\t0.11153766095166844\n",
            "  (0, 12789)\t0.13284561168297043\n",
            "  (0, 23663)\t0.10712425451539821\n",
            "  (0, 17810)\t0.0726928209335389\n",
            "  (0, 5917)\t0.11954622464064595\n",
            "  (0, 8978)\t0.11742596950640509\n",
            "  (0, 11435)\t0.20107807369169134\n",
            "  (0, 12239)\t0.15272800376302492\n",
            "  (0, 2120)\t0.1952087218244829\n",
            "  (0, 14750)\t0.15038550899377665\n",
            "  (0, 17814)\t0.08551736308765953\n",
            "  (0, 877)\t0.07573436056879124\n",
            "  :\t:\n",
            "  (4757, 1664)\t0.1915681281492375\n",
            "  (4757, 5179)\t0.19560344694437848\n",
            "  (4757, 7053)\t0.24749248475836516\n",
            "  (4757, 10773)\t0.21391552035670539\n",
            "  (4757, 21655)\t0.16127667033129192\n",
            "  (4757, 8917)\t0.12324778345522737\n",
            "  (4757, 13625)\t0.23102322558212332\n",
            "  (4757, 11210)\t0.17168303681930144\n",
            "  (4757, 13504)\t0.1766529274828755\n",
            "  (4757, 23787)\t0.10836635571002573\n",
            "  (4757, 24242)\t0.09653836443019484\n",
            "  (4757, 12449)\t0.12268313729074866\n",
            "  (4757, 17353)\t0.14759249188297335\n",
            "  (4758, 8146)\t1.0\n",
            "  (4759, 22079)\t0.32675903512412224\n",
            "  (4759, 18472)\t0.32675903512412224\n",
            "  (4759, 2124)\t0.32675903512412224\n",
            "  (4759, 17841)\t0.32675903512412224\n",
            "  (4759, 6556)\t0.32675903512412224\n",
            "  (4759, 298)\t0.3116606426916022\n",
            "  (4759, 14249)\t0.3116606426916022\n",
            "  (4759, 11619)\t0.26003889800230534\n",
            "  (4759, 4312)\t0.2751372904348254\n",
            "  (4759, 17185)\t0.30094816277947384\n",
            "  (4759, 9327)\t0.1949035625007065\n"
          ]
        }
      ]
    },
    {
      "cell_type": "markdown",
      "source": [
        "# ***Get similarity score using cosine similarity***"
      ],
      "metadata": {
        "id": "icqTT6670P2q"
      }
    },
    {
      "cell_type": "code",
      "source": [
        "from sklearn.metrics.pairwise import cosine_similarity"
      ],
      "metadata": {
        "id": "0ecG68Ca0c2W"
      },
      "execution_count": null,
      "outputs": []
    },
    {
      "cell_type": "code",
      "source": [
        "Similarity_Score = cosine_similarity(X)"
      ],
      "metadata": {
        "id": "or1KkJzS15YC"
      },
      "execution_count": null,
      "outputs": []
    },
    {
      "cell_type": "code",
      "source": [
        "Similarity_Score"
      ],
      "metadata": {
        "colab": {
          "base_uri": "https://localhost:8080/"
        },
        "id": "jyzNmDXC2EM0",
        "outputId": "5f733670-6ca1-411e-f230-22ea9b9db4c4"
      },
      "execution_count": null,
      "outputs": [
        {
          "output_type": "execute_result",
          "data": {
            "text/plain": [
              "array([[1.        , 0.01416456, 0.0374901 , ..., 0.        , 0.        ,\n",
              "        0.        ],\n",
              "       [0.01416456, 1.        , 0.0082241 , ..., 0.        , 0.        ,\n",
              "        0.        ],\n",
              "       [0.0374901 , 0.0082241 , 1.        , ..., 0.        , 0.        ,\n",
              "        0.        ],\n",
              "       ...,\n",
              "       [0.        , 0.        , 0.        , ..., 1.        , 0.        ,\n",
              "        0.        ],\n",
              "       [0.        , 0.        , 0.        , ..., 0.        , 1.        ,\n",
              "        0.        ],\n",
              "       [0.        , 0.        , 0.        , ..., 0.        , 0.        ,\n",
              "        1.        ]])"
            ]
          },
          "metadata": {},
          "execution_count": 39
        }
      ]
    },
    {
      "cell_type": "code",
      "source": [
        "Similarity_Score.shape"
      ],
      "metadata": {
        "colab": {
          "base_uri": "https://localhost:8080/"
        },
        "id": "jWlRb52F2azz",
        "outputId": "aaa284a7-18c8-4195-f30e-4613f876bc40"
      },
      "execution_count": null,
      "outputs": [
        {
          "output_type": "execute_result",
          "data": {
            "text/plain": [
              "(4760, 4760)"
            ]
          },
          "metadata": {},
          "execution_count": 40
        }
      ]
    },
    {
      "cell_type": "markdown",
      "source": [
        "# ***Get Movie Name as Input from User & Validate for Closest Spelling***"
      ],
      "metadata": {
        "id": "g8maPcjQ2jGc"
      }
    },
    {
      "cell_type": "code",
      "source": [
        "Favourite_Movie_Name=input('Enter your favourite movie name:')"
      ],
      "metadata": {
        "colab": {
          "base_uri": "https://localhost:8080/"
        },
        "id": "jAHecZ3M24_p",
        "outputId": "bd13d6eb-efa5-4a9c-89bb-9f5a08ce7d09"
      },
      "execution_count": null,
      "outputs": [
        {
          "name": "stdout",
          "output_type": "stream",
          "text": [
            "Enter your favourite movie name:avtaar\n"
          ]
        }
      ]
    },
    {
      "cell_type": "code",
      "source": [
        "All_Movies_Title_List=df['Movie_Title'].tolist()"
      ],
      "metadata": {
        "id": "1EsXu1y93KcD"
      },
      "execution_count": null,
      "outputs": []
    },
    {
      "cell_type": "code",
      "source": [
        "import difflib"
      ],
      "metadata": {
        "id": "GQJhfJTF3OG8"
      },
      "execution_count": null,
      "outputs": []
    },
    {
      "cell_type": "code",
      "source": [
        "Movie_Recommendation=difflib.get_close_matches(Favourite_Movie_Name,All_Movies_Title_List)\n",
        "print(Movie_Recommendation)"
      ],
      "metadata": {
        "colab": {
          "base_uri": "https://localhost:8080/"
        },
        "id": "b7lHZZ543SU1",
        "outputId": "6e2f7ea2-f78f-436c-db05-c4e143951703"
      },
      "execution_count": null,
      "outputs": [
        {
          "output_type": "stream",
          "name": "stdout",
          "text": [
            "['Avatar', 'Gattaca']\n"
          ]
        }
      ]
    },
    {
      "cell_type": "code",
      "source": [
        "Close_Match=Movie_Recommendation[0]\n",
        "print(Close_Match)"
      ],
      "metadata": {
        "colab": {
          "base_uri": "https://localhost:8080/"
        },
        "id": "behgJ7-43Vwa",
        "outputId": "58f22639-4bb5-42ed-8da4-1ad179464e24"
      },
      "execution_count": null,
      "outputs": [
        {
          "output_type": "stream",
          "name": "stdout",
          "text": [
            "Avatar\n"
          ]
        }
      ]
    },
    {
      "cell_type": "code",
      "source": [
        "Index_of_Close_Match_Movie=df[df.Movie_Title==Close_Match]['Movie_ID'].values[0]\n",
        "print(Index_of_Close_Match_Movie)"
      ],
      "metadata": {
        "colab": {
          "base_uri": "https://localhost:8080/"
        },
        "id": "fM0i1lnF30pp",
        "outputId": "6d998bbe-a6a0-4756-fe35-c8fa8f6a49c8"
      },
      "execution_count": null,
      "outputs": [
        {
          "output_type": "stream",
          "name": "stdout",
          "text": [
            "2692\n"
          ]
        }
      ]
    },
    {
      "cell_type": "code",
      "source": [
        "# getting a list of similar movies\n",
        "Recommendation_Score = list(enumerate(Similarity_Score[Index_of_Close_Match_Movie]))\n",
        "print(Recommendation_Score)"
      ],
      "metadata": {
        "colab": {
          "base_uri": "https://localhost:8080/"
        },
        "id": "2wWsJovN4HuT",
        "outputId": "dcc14c08-cbcc-42de-fa53-d8f49ebbea5d"
      },
      "execution_count": null,
      "outputs": [
        {
          "output_type": "stream",
          "name": "stdout",
          "text": [
            "[(0, 0.01094864665824994), (1, 0.0), (2, 0.0), (3, 0.008673413641898805), (4, 0.0), (5, 0.012622851860104424), (6, 0.0), (7, 0.013633265414024286), (8, 0.004179840739541013), (9, 0.005904300438104764), (10, 0.0), (11, 0.003892417312984327), (12, 0.003999160567020942), (13, 0.013575604646465095), (14, 0.0), (15, 0.02271383866091535), (16, 0.0032280355745444205), (17, 0.0), (18, 0.0034873144515422646), (19, 0.009941515679848235), (20, 0.0), (21, 0.014641576209408948), (22, 0.006199065481401452), (23, 0.0038022488026572218), (24, 0.0), (25, 0.028981193042397428), (26, 0.0), (27, 0.0), (28, 0.0), (29, 0.00970134927178818), (30, 0.0), (31, 0.003455066103387636), (32, 0.008855161468010872), (33, 0.01898399307064979), (34, 0.004049298917472185), (35, 0.005767027474175922), (36, 0.0), (37, 0.0), (38, 0.0), (39, 0.0), (40, 0.0069649240774342916), (41, 0.003920136432805362), (42, 0.0), (43, 0.013361627638458363), (44, 0.03663092487482436), (45, 0.04687727055140986), (46, 0.014109621553115658), (47, 0.0), (48, 0.013760246172940273), (49, 0.0), (50, 0.0), (51, 0.012470068012453105), (52, 0.011729639417937565), (53, 0.0), (54, 0.0), (55, 0.0), (56, 0.006358695646805897), (57, 0.01033351381520232), (58, 0.0), (59, 0.0), (60, 0.008614631829066015), (61, 0.01784396736370516), (62, 0.06443227800543808), (63, 0.008292573479697845), (64, 0.0), (65, 0.031673453819872556), (66, 0.0), (67, 0.04074085783011909), (68, 0.022648807910750204), (69, 0.0), (70, 0.0), (71, 0.003723738026982225), (72, 0.0), (73, 0.0), (74, 0.004020968302791113), (75, 0.01313414590431945), (76, 0.0), (77, 0.0), (78, 0.005574838892297649), (79, 0.009930856838470135), (80, 0.0), (81, 0.0), (82, 0.009894454664640314), (83, 0.015100365085745722), (84, 0.02516886870702351), (85, 0.017840464661215548), (86, 0.012958180091241714), (87, 0.012921242538016452), (88, 0.012211506148698396), (89, 0.03757490822406303), (90, 0.0), (91, 0.0), (92, 0.0035265379585142117), (93, 0.0), (94, 0.0), (95, 0.0), (96, 0.0035189971017535984), (97, 0.003231641348763765), (98, 0.0), (99, 0.0), (100, 0.0), (101, 0.0), (102, 0.0), (103, 0.0033534419352258395), (104, 0.009894856848650414), (105, 0.008697558592200328), (106, 0.01664676288785039), (107, 0.004171344628566656), (108, 0.036562921002253855), (109, 0.03376290465472184), (110, 0.04267116096079757), (111, 0.0034251641304578794), (112, 0.027219718218824122), (113, 0.0082718672595609), (114, 0.0036461443900030134), (115, 0.0), (116, 0.019931068320427438), (117, 0.0), (118, 0.0), (119, 0.009639846892898263), (120, 0.013203783967612445), (121, 0.0034326900294894855), (122, 0.007971158148860237), (123, 0.018914735336484842), (124, 0.022571818462739923), (125, 0.007722065454710917), (126, 0.03206508383707334), (127, 0.003552379465031439), (128, 0.0), (129, 0.0025931211011067635), (130, 0.011317832586893962), (131, 0.006387617337731187), (132, 0.003345546359720373), (133, 0.0), (134, 0.0), (135, 0.0), (136, 0.0034575794826798094), (137, 0.04924112600400269), (138, 0.023533356868695975), (139, 0.0), (140, 0.0), (141, 0.0), (142, 0.008399114507862597), (143, 0.0), (144, 0.014234286342797319), (145, 0.017466189227389427), (146, 0.0), (147, 0.01659978331049386), (148, 0.007966850271320004), (149, 0.011865577469523086), (150, 0.0), (151, 0.0), (152, 0.0), (153, 0.0), (154, 0.0), (155, 0.004666769792479161), (156, 0.00813872056831745), (157, 0.0), (158, 0.0), (159, 0.005073103533735664), (160, 0.013262272115488718), (161, 0.014630727042024508), (162, 0.009451816198226147), (163, 0.0), (164, 0.0059923898400308356), (165, 0.0031941571327077254), (166, 0.03183347428269769), (167, 0.0), (168, 0.005079914133335347), (169, 0.00371576939542954), (170, 0.008084231590149583), (171, 0.0), (172, 0.04061365007389373), (173, 0.010270457787663612), (174, 0.03669621168156949), (175, 0.02056057327655618), (176, 0.026422284975342998), (177, 0.005417974245854654), (178, 0.003925551637330272), (179, 0.030643553827430944), (180, 0.009387972478683771), (181, 0.017288238673002807), (182, 0.00613196350556707), (183, 0.009243077985365307), (184, 0.0034040992666084045), (185, 0.03879300717099527), (186, 0.0), (187, 0.0), (188, 0.0), (189, 0.0), (190, 0.0032756628406771563), (191, 0.0), (192, 0.003985749286155156), (193, 0.02789856431391651), (194, 0.0032566673742601606), (195, 0.0031719866807822903), (196, 0.0), (197, 0.00954907997522729), (198, 0.003706120643569252), (199, 0.01712330990308466), (200, 0.0034594942553766005), (201, 0.009192069672027006), (202, 0.0024645712456522646), (203, 0.014022207645309844), (204, 0.019178795807972937), (205, 0.0), (206, 0.004013269389621535), (207, 0.009888127914978073), (208, 0.011098289564791097), (209, 0.015532326332685899), (210, 0.039426682471042654), (211, 0.0), (212, 0.0), (213, 0.04697756667007586), (214, 0.0), (215, 0.0035584760393577884), (216, 0.0038670796635444644), (217, 0.0), (218, 0.017054360828134458), (219, 0.0), (220, 0.0), (221, 0.0035241072920320074), (222, 0.014329331459106214), (223, 0.0), (224, 0.0098047091039766), (225, 0.0), (226, 0.0), (227, 0.052728198068831646), (228, 0.00287340723386893), (229, 0.0), (230, 0.0060326967392632805), (231, 0.013057345827958058), (232, 0.006605503021863048), (233, 0.0), (234, 0.0), (235, 0.0), (236, 0.011677675261562884), (237, 0.0), (238, 0.0037335592654519486), (239, 0.0), (240, 0.02383859486654652), (241, 0.02561951514867415), (242, 0.009161532869028127), (243, 0.007153399600830895), (244, 0.008617882000413102), (245, 0.0), (246, 0.0), (247, 0.0), (248, 0.005898890331694965), (249, 0.0), (250, 0.026294569760957977), (251, 0.016316947989569012), (252, 0.015274728577028307), (253, 0.0), (254, 0.06125592515168568), (255, 0.0038730375995925273), (256, 0.0029905694844777992), (257, 0.0), (258, 0.0), (259, 0.0), (260, 0.0), (261, 0.017062610174164855), (262, 0.0), (263, 0.005971487406143434), (264, 0.0), (265, 0.0), (266, 0.007624206713772362), (267, 0.0032944733409822073), (268, 0.0), (269, 0.024685697687910187), (270, 0.012766306208949509), (271, 0.007801786144388907), (272, 0.0), (273, 0.006068895341533567), (274, 0.00422586379771142), (275, 0.0), (276, 0.011751850736698707), (277, 0.00543745466910864), (278, 0.0), (279, 0.0), (280, 0.009975615855115163), (281, 0.009854868819303515), (282, 0.05166694939999783), (283, 0.007143171658891381), (284, 0.023165826737842427), (285, 0.008044350975672939), (286, 0.0033844405198612056), (287, 0.014130308525723511), (288, 0.005244481367626913), (289, 0.0), (290, 0.0), (291, 0.0), (292, 0.04845800144131694), (293, 0.0), (294, 0.0), (295, 0.0), (296, 0.012748700446884961), (297, 0.0), (298, 0.0), (299, 0.0), (300, 0.005989290211768888), (301, 0.006545027512970094), (302, 0.0), (303, 0.0), (304, 0.0), (305, 0.0), (306, 0.0), (307, 0.009231179084896105), (308, 0.0), (309, 0.008161671011134793), (310, 0.0), (311, 0.0), (312, 0.0), (313, 0.006305545420911466), (314, 0.0), (315, 0.0), (316, 0.0), (317, 0.01104729625976447), (318, 0.00417760821506236), (319, 0.0), (320, 0.0), (321, 0.006134476783839672), (322, 0.006150397546431847), (323, 0.0), (324, 0.0), (325, 0.0035675411255853785), (326, 0.004479806703165914), (327, 0.005656701615351461), (328, 0.043361633492880185), (329, 0.012124139928912855), (330, 0.01998014939744293), (331, 0.0), (332, 0.009521566459023582), (333, 0.0077897474721625205), (334, 0.020981784833098285), (335, 0.0), (336, 0.0045655016710442805), (337, 0.0), (338, 0.0), (339, 0.0), (340, 0.006775664132414346), (341, 0.006543055011378871), (342, 0.01078284513384005), (343, 0.01599821259388454), (344, 0.0), (345, 0.01688870837804499), (346, 0.006185299918052316), (347, 0.0), (348, 0.0036726546414567276), (349, 0.003552160895926258), (350, 0.004040402860475472), (351, 0.0029645635490760224), (352, 0.0), (353, 0.009824942772986246), (354, 0.005726512534073124), (355, 0.0034819534282908757), (356, 0.009459601037181943), (357, 0.0032955101557208557), (358, 0.015823109549180654), (359, 0.0034724547436041733), (360, 0.008739001401095915), (361, 0.0), (362, 0.0), (363, 0.006648787540931612), (364, 0.019064197471759203), (365, 0.0), (366, 0.0), (367, 0.0), (368, 0.010002172276252833), (369, 0.0067566970573119545), (370, 0.012406465227227168), (371, 0.023069765190513025), (372, 0.0035102453511372334), (373, 0.0035877679470500763), (374, 0.015887783958979093), (375, 0.0), (376, 0.0), (377, 0.0), (378, 0.0), (379, 0.0), (380, 0.0), (381, 0.026425309423435912), (382, 0.0), (383, 0.021906657448030675), (384, 0.05338060041541266), (385, 0.009232101662863222), (386, 0.006513109310426386), (387, 0.03661088593946393), (388, 0.003515996133630605), (389, 0.0), (390, 0.0), (391, 0.0), (392, 0.0), (393, 0.0), (394, 0.0), (395, 0.0), (396, 0.008535432086372773), (397, 0.0), (398, 0.024174598042280622), (399, 0.0), (400, 0.0036490007843894296), (401, 0.0), (402, 0.007388900158369708), (403, 0.008748878760644261), (404, 0.0), (405, 0.0), (406, 0.010248694475211463), (407, 0.013330621733060122), (408, 0.04492138616629097), (409, 0.01707976228900903), (410, 0.003363288867985122), (411, 0.0), (412, 0.040845324291042095), (413, 0.00643526342040658), (414, 0.0046871731967015745), (415, 0.0), (416, 0.0033959367483865945), (417, 0.0), (418, 0.009219461891823755), (419, 0.004276045580926743), (420, 0.0), (421, 0.02620377512726063), (422, 0.0), (423, 0.0), (424, 0.056866976392926774), (425, 0.0), (426, 0.0), (427, 0.0), (428, 0.031032717730294666), (429, 0.012801009805533014), (430, 0.03060782212616698), (431, 0.004343248977191283), (432, 0.0), (433, 0.013363774926726156), (434, 0.01162051137712017), (435, 0.007122183371458547), (436, 0.004154068715992998), (437, 0.016198525052536498), (438, 0.040337685838823356), (439, 0.0), (440, 0.0), (441, 0.00854600333903309), (442, 0.017769910642105292), (443, 0.004230416377454406), (444, 0.0), (445, 0.0054707546191712945), (446, 0.006504491720732588), (447, 0.008843345118053191), (448, 0.004368148362367929), (449, 0.006003589842764282), (450, 0.013834549748293387), (451, 0.0), (452, 0.012404275082710858), (453, 0.003158847994893294), (454, 0.0), (455, 0.04468262432479941), (456, 0.0039028725363001713), (457, 0.0034266603703491166), (458, 0.014460727788531517), (459, 0.02700849259994492), (460, 0.0), (461, 0.010125976546674964), (462, 0.0353521445094846), (463, 0.009140838352311642), (464, 0.010290295768051357), (465, 0.02816638916350917), (466, 0.0), (467, 0.0), (468, 0.005986097913141654), (469, 0.0), (470, 0.010384256030118248), (471, 0.00355245017542137), (472, 0.0106148890997028), (473, 0.0), (474, 0.0), (475, 0.0035911457698343426), (476, 0.0), (477, 0.005067738134511172), (478, 0.0), (479, 0.003628596272549638), (480, 0.0032941360282604556), (481, 0.003965872196021352), (482, 0.010422730184333033), (483, 0.009073150287373113), (484, 0.0), (485, 0.009151233790180286), (486, 0.0), (487, 0.0), (488, 0.003551199328679099), (489, 0.0), (490, 0.003702156529951383), (491, 0.0), (492, 0.0), (493, 0.003984132596195766), (494, 0.008759167312677008), (495, 0.0034093461397325456), (496, 0.013821401088580631), (497, 0.0), (498, 0.0), (499, 0.0), (500, 0.008322032634853578), (501, 0.007805533857643586), (502, 0.012725819810618388), (503, 0.0), (504, 0.003677238178697906), (505, 0.0), (506, 0.0), (507, 0.0), (508, 0.0), (509, 0.003777847489455091), (510, 0.015287050872843516), (511, 0.011511293875624022), (512, 0.0), (513, 0.0), (514, 0.0), (515, 0.024777338959528102), (516, 0.0), (517, 0.0), (518, 0.0), (519, 0.04587592645010561), (520, 0.0), (521, 0.006207359086140878), (522, 0.029086948383515828), (523, 0.006523138505615598), (524, 0.0), (525, 0.0), (526, 0.0), (527, 0.010018984967436131), (528, 0.0), (529, 0.0), (530, 0.02582014208176582), (531, 0.0), (532, 0.0), (533, 0.014114866727868929), (534, 0.013374787442189978), (535, 0.0), (536, 0.0), (537, 0.006939595344684912), (538, 0.010344909536326318), (539, 0.0), (540, 0.03136023183680965), (541, 0.0), (542, 0.008930932578873452), (543, 0.012961087236067825), (544, 0.009270553057329519), (545, 0.0131996395997742), (546, 0.0), (547, 0.016128442044811023), (548, 0.0), (549, 0.0), (550, 0.0), (551, 0.016947737915002356), (552, 0.0), (553, 0.017709911497735757), (554, 0.0), (555, 0.010459821743308954), (556, 0.0), (557, 0.0), (558, 0.00356381294572826), (559, 0.0), (560, 0.0), (561, 0.004690881411185524), (562, 0.002908182123707306), (563, 0.003423738869975085), (564, 0.00396984142104651), (565, 0.0), (566, 0.021377835805324576), (567, 0.0), (568, 0.006011709709808648), (569, 0.0), (570, 0.0), (571, 0.0029217582483373086), (572, 0.0), (573, 0.0), (574, 0.0), (575, 0.0), (576, 0.004144278061960722), (577, 0.0), (578, 0.03538133929592775), (579, 0.0037994921636506146), (580, 0.0038970738344633517), (581, 0.0), (582, 0.007301462116142161), (583, 0.00580625548626384), (584, 0.013328223945796216), (585, 0.0), (586, 0.01495474646237055), (587, 0.004010738228389286), (588, 0.0037926162371909383), (589, 0.003491291191984177), (590, 0.019509198675879184), (591, 0.0), (592, 0.0), (593, 0.0), (594, 0.0034493232456699863), (595, 0.0), (596, 0.00411968270050177), (597, 0.005769653840637283), (598, 0.0035618254630276694), (599, 0.0), (600, 0.006547293424786512), (601, 0.0), (602, 0.0), (603, 0.0), (604, 0.0033447545001212805), (605, 0.003403451645702671), (606, 0.003727773632159853), (607, 0.002919701829316602), (608, 0.0034538100145777434), (609, 0.013040310730451131), (610, 0.0), (611, 0.0031978100944291274), (612, 0.003959766498103176), (613, 0.023085950945273617), (614, 0.00426012105630297), (615, 0.040688920507009126), (616, 0.008185542029330875), (617, 0.003250985237642109), (618, 0.00613958715493792), (619, 0.0), (620, 0.011797663949689816), (621, 0.0), (622, 0.012911455375976667), (623, 0.003931604132254861), (624, 0.0), (625, 0.0), (626, 0.0031495012808155027), (627, 0.005122202762631603), (628, 0.08020631705043388), (629, 0.02643143710752574), (630, 0.0), (631, 0.0063801536863942535), (632, 0.03183803833687056), (633, 0.0), (634, 0.0), (635, 0.0068313288078797295), (636, 0.0037944697439187443), (637, 0.03881761295884984), (638, 0.01713579039244227), (639, 0.0), (640, 0.0), (641, 0.025389881460081698), (642, 0.0032021440713910945), (643, 0.017950597108954275), (644, 0.0037877611216703844), (645, 0.0), (646, 0.0), (647, 0.0), (648, 0.011562218236946547), (649, 0.0), (650, 0.0), (651, 0.009498152637201256), (652, 0.003862697408476456), (653, 0.010903747792778066), (654, 0.009102931328670462), (655, 0.0035463017601095733), (656, 0.0), (657, 0.018907008554481994), (658, 0.0), (659, 0.0034594426691979797), (660, 0.0038558794280904884), (661, 0.0), (662, 0.0), (663, 0.0), (664, 0.005612434493898871), (665, 0.0), (666, 0.0), (667, 0.009446950982077935), (668, 0.007002358312777346), (669, 0.017510701780878726), (670, 0.0222791059418831), (671, 0.006325124330326177), (672, 0.003408074217838278), (673, 0.03231559606446986), (674, 0.0), (675, 0.009483268437767622), (676, 0.01196460553848891), (677, 0.01589605070706733), (678, 0.0), (679, 0.0), (680, 0.0), (681, 0.0), (682, 0.03988854171570214), (683, 0.009690741381633661), (684, 0.014583898393363584), (685, 0.0), (686, 0.0), (687, 0.0), (688, 0.004148090985711287), (689, 0.009987906214296906), (690, 0.0), (691, 0.019959315938661012), (692, 0.012941775617417411), (693, 0.003691804866524279), (694, 0.030939229929307067), (695, 0.007936282102986265), (696, 0.003695517098218509), (697, 0.00977390825866967), (698, 0.003666831835167332), (699, 0.0), (700, 0.0), (701, 0.013731309339067946), (702, 0.0), (703, 0.0033006750073045587), (704, 0.0), (705, 0.008850599800058988), (706, 0.021041481887844084), (707, 0.0031869188119096866), (708, 0.0), (709, 0.0), (710, 0.0360413537916729), (711, 0.0), (712, 0.003284699411512082), (713, 0.0), (714, 0.0), (715, 0.0069096674974472696), (716, 0.004125694362715093), (717, 0.0), (718, 0.0), (719, 0.008362414161920354), (720, 0.0), (721, 0.004347933388070324), (722, 0.0034179448465014683), (723, 0.0), (724, 0.0), (725, 0.0), (726, 0.0), (727, 0.0036280906163477875), (728, 0.00397590686012241), (729, 0.004130011850513318), (730, 0.0), (731, 0.0), (732, 0.008756388275527119), (733, 0.010958167630023339), (734, 0.009217506872088888), (735, 0.005324185975942079), (736, 0.0), (737, 0.006854856016723973), (738, 0.0), (739, 0.004139644333976423), (740, 0.0), (741, 0.0), (742, 0.009341883060625418), (743, 0.0039278907285054685), (744, 0.0034337017890086843), (745, 0.0), (746, 0.0), (747, 0.0), (748, 0.006488187199742838), (749, 0.0036635402437360308), (750, 0.0037500545997576637), (751, 0.0), (752, 0.006542219566552778), (753, 0.009842833475731524), (754, 0.0), (755, 0.003709029582997271), (756, 0.0), (757, 0.017081650106363387), (758, 0.006197938397451915), (759, 0.0), (760, 0.01065288925599712), (761, 0.0038800205478878662), (762, 0.010971409155325811), (763, 0.019930699883402816), (764, 0.0), (765, 0.0), (766, 0.0057716778035769795), (767, 0.0), (768, 0.017451350372074154), (769, 0.003708939356962338), (770, 0.0), (771, 0.0), (772, 0.0), (773, 0.0), (774, 0.003899269166860347), (775, 0.00987871104929495), (776, 0.01666046479552915), (777, 0.0), (778, 0.00628026940905789), (779, 0.015387357034882917), (780, 0.0), (781, 0.0), (782, 0.006394819769839582), (783, 0.003887123865666119), (784, 0.0), (785, 0.0), (786, 0.0), (787, 0.03268103786989048), (788, 0.036668393631468336), (789, 0.0), (790, 0.008241356539222346), (791, 0.0), (792, 0.003909067520215143), (793, 0.0), (794, 0.017120433705702955), (795, 0.019883877508793533), (796, 0.01826962548343943), (797, 0.0), (798, 0.0035261654950828046), (799, 0.01216866604642732), (800, 0.009006517923220103), (801, 0.008085422898363453), (802, 0.0), (803, 0.0), (804, 0.0034164995058813554), (805, 0.0), (806, 0.012413705971324358), (807, 0.0), (808, 0.014161273287792353), (809, 0.0063482540293610555), (810, 0.0), (811, 0.0), (812, 0.0316778280137331), (813, 0.004304796942553069), (814, 0.012672892261895627), (815, 0.0033144327022919663), (816, 0.011313833579514683), (817, 0.006281326093108924), (818, 0.03466913408306832), (819, 0.0), (820, 0.0), (821, 0.0063188312050854335), (822, 0.0), (823, 0.0), (824, 0.026012904326760136), (825, 0.0), (826, 0.00400246439479846), (827, 0.00822168467558008), (828, 0.008242969946338831), (829, 0.007996204812825852), (830, 0.038427110160970196), (831, 0.0026677528046217063), (832, 0.0213911508698331), (833, 0.014143715919656486), (834, 0.006122810333243355), (835, 0.00594111536869385), (836, 0.02862616112558876), (837, 0.0), (838, 0.009597725672398878), (839, 0.0), (840, 0.0), (841, 0.0), (842, 0.010547108899988165), (843, 0.008270575908570285), (844, 0.014509077052969483), (845, 0.0), (846, 0.0), (847, 0.011180061277956723), (848, 0.0), (849, 0.0), (850, 0.009948046628369513), (851, 0.0032738659074660484), (852, 0.02893355388805902), (853, 0.01154590617288491), (854, 0.0035780488355468087), (855, 0.0), (856, 0.003401175552147766), (857, 0.004075395875518751), (858, 0.020325118416696465), (859, 0.0), (860, 0.014534191058599624), (861, 0.0032524627053642325), (862, 0.0), (863, 0.0), (864, 0.025144463999697424), (865, 0.0038009813951083876), (866, 0.011580898669682614), (867, 0.015653053350638928), (868, 0.0), (869, 0.008864196013630189), (870, 0.018138037366321934), (871, 0.0038720250862049094), (872, 0.003921825956681956), (873, 0.05127902609728128), (874, 0.03833733685292379), (875, 0.0), (876, 0.004111609924114266), (877, 0.0468768979842219), (878, 0.01204770563110569), (879, 0.012777596237070733), (880, 0.0036586507300161463), (881, 0.0), (882, 0.0), (883, 0.0), (884, 0.0), (885, 0.023157908503414714), (886, 0.003496445206973043), (887, 0.0), (888, 0.004020725538783074), (889, 0.0), (890, 0.0), (891, 0.0), (892, 0.0), (893, 0.0), (894, 0.003680469847458125), (895, 0.011457890607140623), (896, 0.013266942707077612), (897, 0.009990632775711602), (898, 0.0), (899, 0.011423375802972018), (900, 0.009237940727582755), (901, 0.0), (902, 0.0), (903, 0.03389032332537223), (904, 0.04211138449696779), (905, 0.009918530851385849), (906, 0.012590121168743675), (907, 0.0035045880099493737), (908, 0.008809892170549248), (909, 0.0), (910, 0.0034813810369467273), (911, 0.027993729225402435), (912, 0.0), (913, 0.0), (914, 0.0), (915, 0.008147253721992993), (916, 0.013892399723938919), (917, 0.02200008217357021), (918, 0.009049262040719533), (919, 0.0), (920, 0.0), (921, 0.0061642600005803756), (922, 0.0), (923, 0.0037866860764470354), (924, 0.008679527064723178), (925, 0.004378540839151736), (926, 0.0), (927, 0.0), (928, 0.0), (929, 0.016517535807326865), (930, 0.003929701528701225), (931, 0.008875786842653038), (932, 0.0), (933, 0.0), (934, 0.015406188700676077), (935, 0.03130588992077006), (936, 0.008928492540962773), (937, 0.014402078969226375), (938, 0.0), (939, 0.008218756444349959), (940, 0.007053328221515874), (941, 0.0), (942, 0.022463855192916646), (943, 0.0), (944, 0.003496962359886639), (945, 0.0), (946, 0.0), (947, 0.017372738531813314), (948, 0.010646226128087776), (949, 0.007228795880707994), (950, 0.0), (951, 0.003430751534098149), (952, 0.023687965296014926), (953, 0.003038823376884859), (954, 0.0), (955, 0.0), (956, 0.0), (957, 0.014737675466822206), (958, 0.0058557392626864815), (959, 0.0035624312118992143), (960, 0.0), (961, 0.0), (962, 0.00982188444072095), (963, 0.009297043824263568), (964, 0.0), (965, 0.0), (966, 0.009531705613001032), (967, 0.02057775732453716), (968, 0.01501089367356513), (969, 0.003688809656013111), (970, 0.005294155454464736), (971, 0.0), (972, 0.0), (973, 0.0), (974, 0.0), (975, 0.0034879046180666005), (976, 0.02454835772726898), (977, 0.0), (978, 0.0), (979, 0.005625368589628076), (980, 0.00369197541132881), (981, 0.0033480148730173297), (982, 0.0), (983, 0.0), (984, 0.0), (985, 0.0042898782565689835), (986, 0.013323124383669952), (987, 0.0), (988, 0.012204002401418662), (989, 0.012177970447293504), (990, 0.0), (991, 0.004050445166609826), (992, 0.0), (993, 0.0), (994, 0.009203796248440045), (995, 0.0), (996, 0.0), (997, 0.0), (998, 0.004121990151679182), (999, 0.004212080691898334), (1000, 0.01130051704301983), (1001, 0.003546581057204055), (1002, 0.003469594506186091), (1003, 0.015499222062694587), (1004, 0.0), (1005, 0.007883114489670322), (1006, 0.010599752194967563), (1007, 0.003984050439987997), (1008, 0.0), (1009, 0.009226895840232938), (1010, 0.0), (1011, 0.0), (1012, 0.006171053054530713), (1013, 0.0), (1014, 0.0072678379645279255), (1015, 0.010238239329221183), (1016, 0.0), (1017, 0.009787863489573993), (1018, 0.013078156650172049), (1019, 0.010021654042986508), (1020, 0.010156018208799446), (1021, 0.05897843901134437), (1022, 0.0), (1023, 0.046571618715683195), (1024, 0.036198625224568036), (1025, 0.0), (1026, 0.0035899775436657438), (1027, 0.0036221536463956782), (1028, 0.0), (1029, 0.0), (1030, 0.04590025676407), (1031, 0.0), (1032, 0.0), (1033, 0.01745398695937428), (1034, 0.003568287614897426), (1035, 0.012218175686559609), (1036, 0.0), (1037, 0.005293550039152608), (1038, 0.0), (1039, 0.0), (1040, 0.003417499370932775), (1041, 0.003472708913831925), (1042, 0.0), (1043, 0.024981764594457917), (1044, 0.0036200327306584266), (1045, 0.01534596017128673), (1046, 0.028557145604151582), (1047, 0.0), (1048, 0.0064615676218630165), (1049, 0.004439964282436416), (1050, 0.011258281402967047), (1051, 0.0), (1052, 0.020229656655991416), (1053, 0.014930847620313863), (1054, 0.0), (1055, 0.0), (1056, 0.0), (1057, 0.025599323258274135), (1058, 0.010927473608718418), (1059, 0.024634261219471664), (1060, 0.028106589082425915), (1061, 0.007854916266904356), (1062, 0.0), (1063, 0.03160715088937667), (1064, 0.015834009659455188), (1065, 0.003448184647010677), (1066, 0.0), (1067, 0.0), (1068, 0.028824966959386536), (1069, 0.00719370654245902), (1070, 0.0497015300936166), (1071, 0.003987269902512863), (1072, 0.0), (1073, 0.0), (1074, 0.01448665715887838), (1075, 0.01026611862116107), (1076, 0.0), (1077, 0.009934371051668526), (1078, 0.0032393313793275982), (1079, 0.0033723052321344323), (1080, 0.003391698977758395), (1081, 0.0), (1082, 0.0), (1083, 0.003865182821392851), (1084, 0.0035791064546879287), (1085, 0.03598437002958935), (1086, 0.0), (1087, 0.006255368817614987), (1088, 0.003287710495048228), (1089, 0.0), (1090, 0.010838879703627388), (1091, 0.0), (1092, 0.0), (1093, 0.0), (1094, 0.006321456721088321), (1095, 0.028709956293884325), (1096, 0.006126983654908172), (1097, 0.0), (1098, 0.0), (1099, 0.006651959856546134), (1100, 0.0), (1101, 0.0), (1102, 0.003715748429731356), (1103, 0.0), (1104, 0.0), (1105, 0.0), (1106, 0.0), (1107, 0.0034776185021738403), (1108, 0.0), (1109, 0.004105477433905152), (1110, 0.0), (1111, 0.0062793737538309035), (1112, 0.01479068272387597), (1113, 0.0), (1114, 0.011423235478941586), (1115, 0.007719939683269149), (1116, 0.01594807168657032), (1117, 0.0), (1118, 0.06228120462229529), (1119, 0.013339497871192502), (1120, 0.0), (1121, 0.0), (1122, 0.00378125951032179), (1123, 0.003669893210880693), (1124, 0.00671801383980092), (1125, 0.0094451733450376), (1126, 0.0), (1127, 0.0), (1128, 0.015041585553330846), (1129, 0.012394722484956038), (1130, 0.0), (1131, 0.00373581817919758), (1132, 0.020086512887426487), (1133, 0.0), (1134, 0.0551283626434633), (1135, 0.0), (1136, 0.008819916504960081), (1137, 0.0), (1138, 0.003702098912278559), (1139, 0.0), (1140, 0.0038925318451193116), (1141, 0.020001611842596422), (1142, 0.0), (1143, 0.0), (1144, 0.005069050983050961), (1145, 0.0), (1146, 0.03066938462846812), (1147, 0.0), (1148, 0.01005508614946094), (1149, 0.0), (1150, 0.0), (1151, 0.0), (1152, 0.014279089233406962), (1153, 0.0), (1154, 0.0), (1155, 0.0), (1156, 0.0), (1157, 0.011732201929810056), (1158, 0.0), (1159, 0.0), (1160, 0.012537150996100505), (1161, 0.003995488595655307), (1162, 0.013762243031241479), (1163, 0.0038056082119441044), (1164, 0.0), (1165, 0.0), (1166, 0.0), (1167, 0.0), (1168, 0.0), (1169, 0.0), (1170, 0.003671272053437549), (1171, 0.0), (1172, 0.006405017151827594), (1173, 0.019765077175449085), (1174, 0.0), (1175, 0.01888812867712813), (1176, 0.003776762586317748), (1177, 0.003506003051117657), (1178, 0.0), (1179, 0.0038498332762363606), (1180, 0.0), (1181, 0.023411680425566413), (1182, 0.010369722637405399), (1183, 0.012173298024073211), (1184, 0.013930593587982234), (1185, 0.009073969319262104), (1186, 0.026045802678292783), (1187, 0.004385481519896377), (1188, 0.0038841119896405566), (1189, 0.0), (1190, 0.0), (1191, 0.0036960619929980888), (1192, 0.010258291445810133), (1193, 0.0), (1194, 0.005582252448130357), (1195, 0.006536431558393599), (1196, 0.0), (1197, 0.0), (1198, 0.0), (1199, 0.003242422101909981), (1200, 0.0), (1201, 0.0), (1202, 0.015985288091817706), (1203, 0.0), (1204, 0.0), (1205, 0.02792859100372192), (1206, 0.009251165137705629), (1207, 0.0), (1208, 0.004595618259284179), (1209, 0.003413120970471506), (1210, 0.0), (1211, 0.0), (1212, 0.0), (1213, 0.0), (1214, 0.0), (1215, 0.00871517206824888), (1216, 0.016873190325824912), (1217, 0.003312774077805099), (1218, 0.0), (1219, 0.003415164837658926), (1220, 0.00939415055935742), (1221, 0.0), (1222, 0.0), (1223, 0.0037111610644304095), (1224, 0.013166914511194349), (1225, 0.003978724203430203), (1226, 0.0060917301443539455), (1227, 0.0), (1228, 0.0), (1229, 0.003795525203966215), (1230, 0.00842200735536537), (1231, 0.008499975165988282), (1232, 0.012775128590486656), (1233, 0.0), (1234, 0.009017465400946308), (1235, 0.0), (1236, 0.007930062613756067), (1237, 0.011275137336331719), (1238, 0.006116011239356863), (1239, 0.01259935806086958), (1240, 0.0), (1241, 0.03821788798257403), (1242, 0.0), (1243, 0.05232698126836424), (1244, 0.0), (1245, 0.0182710475503111), (1246, 0.0), (1247, 0.003660074356592179), (1248, 0.04098890268164286), (1249, 0.011008595433214726), (1250, 0.006437262053301793), (1251, 0.0032950629239922907), (1252, 0.01243490401424972), (1253, 0.0), (1254, 0.012752618287592951), (1255, 0.009532359611403423), (1256, 0.0), (1257, 0.042010852178727486), (1258, 0.0), (1259, 0.0), (1260, 0.0), (1261, 0.04661563030786012), (1262, 0.006430631518318071), (1263, 0.0), (1264, 0.0046018659782774834), (1265, 0.0), (1266, 0.00652383392958309), (1267, 0.005902586698728486), (1268, 0.0), (1269, 0.0), (1270, 0.016355869504972788), (1271, 0.0), (1272, 0.029516616122239603), (1273, 0.003428914876766402), (1274, 0.01697670572447934), (1275, 0.01408187823977836), (1276, 0.0066124260689767785), (1277, 0.0), (1278, 0.013734050742337772), (1279, 0.005283126095585135), (1280, 0.0), (1281, 0.0), (1282, 0.0), (1283, 0.025529236055509146), (1284, 0.0), (1285, 0.0), (1286, 0.0038830317512754185), (1287, 0.0), (1288, 0.0), (1289, 0.0), (1290, 0.011259459207136812), (1291, 0.0), (1292, 0.04073801531008502), (1293, 0.011839832062913568), (1294, 0.0), (1295, 0.0), (1296, 0.0), (1297, 0.0), (1298, 0.0), (1299, 0.0), (1300, 0.007416141765749048), (1301, 0.0), (1302, 0.006346725157114567), (1303, 0.0030355953658109595), (1304, 0.0), (1305, 0.0031208411512702976), (1306, 0.0073221896363545105), (1307, 0.006023530055139223), (1308, 0.009149584799771151), (1309, 0.0), (1310, 0.011600566597057181), (1311, 0.037588019547472526), (1312, 0.005728860633276245), (1313, 0.0036908904941038135), (1314, 0.022403380287249763), (1315, 0.0), (1316, 0.005755240208337398), (1317, 0.012597142553061911), (1318, 0.0032663911217505922), (1319, 0.0), (1320, 0.04328703542311396), (1321, 0.0), (1322, 0.0), (1323, 0.0), (1324, 0.0038989128431919356), (1325, 0.004232316005605006), (1326, 0.0), (1327, 0.005892116664091567), (1328, 0.0), (1329, 0.006119297790333312), (1330, 0.0), (1331, 0.013863679332062446), (1332, 0.0), (1333, 0.0), (1334, 0.012710691520431115), (1335, 0.0037682793299352625), (1336, 0.0), (1337, 0.012381270857214896), (1338, 0.0036955048926139017), (1339, 0.009001805433835849), (1340, 0.0034678813806601635), (1341, 0.07638911041943205), (1342, 0.012847775966200466), (1343, 0.01027979396730714), (1344, 0.0), (1345, 0.006414534872285334), (1346, 0.0), (1347, 0.0), (1348, 0.007890633558543098), (1349, 0.004144191708802163), (1350, 0.003947156746233767), (1351, 0.02236814917432635), (1352, 0.003500123470341078), (1353, 0.0), (1354, 0.0), (1355, 0.0), (1356, 0.0030917748425280424), (1357, 0.003442414599687454), (1358, 0.041378640749144796), (1359, 0.0065971239245446655), (1360, 0.012296627613076948), (1361, 0.01513081607212686), (1362, 0.0), (1363, 0.0), (1364, 0.003866999363852095), (1365, 0.018021402273849463), (1366, 0.0), (1367, 0.030255436645043453), (1368, 0.0), (1369, 0.017546057220258197), (1370, 0.003258272295574264), (1371, 0.009323128019117825), (1372, 0.0034928960467845243), (1373, 0.0), (1374, 0.006258996463573864), (1375, 0.0034974569223379473), (1376, 0.012150456556532404), (1377, 0.015993038016468182), (1378, 0.003797104171993569), (1379, 0.034000646791916875), (1380, 0.0), (1381, 0.0), (1382, 0.010298152232013533), (1383, 0.08066924086386743), (1384, 0.014259021927443079), (1385, 0.01826358755402818), (1386, 0.017957637587296543), (1387, 0.011183127831353834), (1388, 0.009160767702948287), (1389, 0.0346215911994025), (1390, 0.0), (1391, 0.0), (1392, 0.0), (1393, 0.03561646247482407), (1394, 0.0032662165217679615), (1395, 0.0), (1396, 0.006363294008796982), (1397, 0.021820532897301386), (1398, 0.03122796529470661), (1399, 0.0), (1400, 0.003950473546198542), (1401, 0.013154052373749201), (1402, 0.0), (1403, 0.01738378522396696), (1404, 0.0), (1405, 0.029047065337236663), (1406, 0.008720829269720275), (1407, 0.006602642273361357), (1408, 0.0035856025805707896), (1409, 0.0), (1410, 0.003680410229219569), (1411, 0.0), (1412, 0.020195494476056425), (1413, 0.009905112596505566), (1414, 0.0033226775288356276), (1415, 0.0032623723964919434), (1416, 0.0), (1417, 0.01489104449559663), (1418, 0.009983417604762962), (1419, 0.008845952302727928), (1420, 0.006181660290935554), (1421, 0.0036205683675258962), (1422, 0.0036981655344530714), (1423, 0.0032763326905400044), (1424, 0.0), (1425, 0.006133023065431913), (1426, 0.0), (1427, 0.0030560601819015548), (1428, 0.0), (1429, 0.004500417634303719), (1430, 0.023968643117711776), (1431, 0.0), (1432, 0.00934552620845572), (1433, 0.0), (1434, 0.0), (1435, 0.0), (1436, 0.009022939643654445), (1437, 0.0), (1438, 0.0036541483323037), (1439, 0.0), (1440, 0.00891744209630304), (1441, 0.0), (1442, 0.00729375236671973), (1443, 0.01274865304632027), (1444, 0.0), (1445, 0.015760126028086338), (1446, 0.009691627706475631), (1447, 0.0), (1448, 0.0037011840327747366), (1449, 0.0), (1450, 0.0), (1451, 0.0), (1452, 0.0), (1453, 0.0050780449616219), (1454, 0.003846431177136814), (1455, 0.008618047045822407), (1456, 0.0), (1457, 0.0), (1458, 0.0), (1459, 0.0), (1460, 0.0), (1461, 0.006401599819143446), (1462, 0.00352021216116853), (1463, 0.0037959641116597134), (1464, 0.030141524318183135), (1465, 0.01087997885205211), (1466, 0.0), (1467, 0.0), (1468, 0.0), (1469, 0.0), (1470, 0.0), (1471, 0.018600953238353), (1472, 0.0036757412319155676), (1473, 0.0), (1474, 0.004102741795322994), (1475, 0.010142991599253652), (1476, 0.0036427260452062114), (1477, 0.009057785824407104), (1478, 0.0035507358183468297), (1479, 0.0), (1480, 0.0), (1481, 0.003563431048149932), (1482, 0.0), (1483, 0.00372081922439287), (1484, 0.0), (1485, 0.0), (1486, 0.006731026539494006), (1487, 0.0), (1488, 0.003628902096608186), (1489, 0.004175929861947855), (1490, 0.0), (1491, 0.0), (1492, 0.020501862587578176), (1493, 0.012136698088903147), (1494, 0.006346529250931254), (1495, 0.0), (1496, 0.0), (1497, 0.0), (1498, 0.004426565479715284), (1499, 0.02866656733746512), (1500, 0.023774623647046574), (1501, 0.006144343946008234), (1502, 0.0), (1503, 0.003480311096160992), (1504, 0.0), (1505, 0.021608071015850903), (1506, 0.041079542576835826), (1507, 0.0), (1508, 0.0), (1509, 0.0068456240482698645), (1510, 0.015695233575450995), (1511, 0.0), (1512, 0.015207284074180264), (1513, 0.0040457840787993605), (1514, 0.00924717939036769), (1515, 0.020960647843462084), (1516, 0.0), (1517, 0.0), (1518, 0.003972247834781996), (1519, 0.009661782178746886), (1520, 0.0), (1521, 0.0), (1522, 0.0), (1523, 0.01489101487462896), (1524, 0.0), (1525, 0.0), (1526, 0.00648002532405426), (1527, 0.03813214834704224), (1528, 0.0), (1529, 0.0), (1530, 0.022016340271758784), (1531, 0.0), (1532, 0.0), (1533, 0.0036862765296844812), (1534, 0.0), (1535, 0.0), (1536, 0.0), (1537, 0.0040858276031709015), (1538, 0.005698905545573053), (1539, 0.00906552469106649), (1540, 0.0), (1541, 0.0), (1542, 0.008875912219934817), (1543, 0.003436734638660024), (1544, 0.0253019049779777), (1545, 0.0), (1546, 0.0), (1547, 0.004413715559959686), (1548, 0.0), (1549, 0.0), (1550, 0.0), (1551, 0.0063063227539097415), (1552, 0.006070276934026808), (1553, 0.005430264914747733), (1554, 0.0), (1555, 0.0), (1556, 0.0), (1557, 0.0), (1558, 0.0036305014652136644), (1559, 0.0), (1560, 0.03021268029938998), (1561, 0.0), (1562, 0.0), (1563, 0.0), (1564, 0.0), (1565, 0.003256788278551864), (1566, 0.0), (1567, 0.006115657894568289), (1568, 0.03056737876242557), (1569, 0.0), (1570, 0.0038818971626117527), (1571, 0.00565841212992434), (1572, 0.02529137751430173), (1573, 0.0), (1574, 0.0), (1575, 0.0), (1576, 0.0), (1577, 0.0), (1578, 0.0), (1579, 0.0165505115992805), (1580, 0.0), (1581, 0.0), (1582, 0.003540530148993952), (1583, 0.0066408274185169505), (1584, 0.0), (1585, 0.024038680672653794), (1586, 0.0), (1587, 0.0), (1588, 0.0), (1589, 0.0), (1590, 0.0), (1591, 0.009710481414145529), (1592, 0.0), (1593, 0.0), (1594, 0.0), (1595, 0.011506792191660073), (1596, 0.0), (1597, 0.003534532553123495), (1598, 0.003699262360652935), (1599, 0.0), (1600, 0.0), (1601, 0.0), (1602, 0.0), (1603, 0.0), (1604, 0.0), (1605, 0.0033773007570037797), (1606, 0.0), (1607, 0.0), (1608, 0.0035178204863938333), (1609, 0.01604799535267029), (1610, 0.0), (1611, 0.0), (1612, 0.006219220505839148), (1613, 0.0), (1614, 0.0), (1615, 0.0), (1616, 0.003278525651229025), (1617, 0.0), (1618, 0.0), (1619, 0.01071943237296133), (1620, 0.003640543419800733), (1621, 0.012369474495592463), (1622, 0.0), (1623, 0.0), (1624, 0.003136404011601219), (1625, 0.0), (1626, 0.0), (1627, 0.003231785997696771), (1628, 0.003907650362361338), (1629, 0.018828386252790864), (1630, 0.00848305094700954), (1631, 0.0), (1632, 0.0), (1633, 0.0), (1634, 0.029844612937496427), (1635, 0.0), (1636, 0.0), (1637, 0.0), (1638, 0.0), (1639, 0.0), (1640, 0.0), (1641, 0.0), (1642, 0.0), (1643, 0.003919897375485011), (1644, 0.006271831251307398), (1645, 0.003625818200812908), (1646, 0.0), (1647, 0.005886589747045695), (1648, 0.030062264082822553), (1649, 0.0), (1650, 0.005696425768264366), (1651, 0.0), (1652, 0.04254936279188608), (1653, 0.003686074446912036), (1654, 0.01217854109862317), (1655, 0.012020059619507828), (1656, 0.0), (1657, 0.0), (1658, 0.011786825184630836), (1659, 0.0), (1660, 0.0), (1661, 0.0), (1662, 0.0056872271962132214), (1663, 0.0), (1664, 0.005893006762687037), (1665, 0.011996821508827827), (1666, 0.0036324216957779798), (1667, 0.003465066198770004), (1668, 0.0), (1669, 0.0), (1670, 0.0), (1671, 0.020666020319883967), (1672, 0.0), (1673, 0.0), (1674, 0.01028834436066591), (1675, 0.017237321279087926), (1676, 0.036853406045712224), (1677, 0.0029635367969175724), (1678, 0.010091895827097984), (1679, 0.0), (1680, 0.008127507359100582), (1681, 0.0), (1682, 0.015199547205565489), (1683, 0.0), (1684, 0.005522199979939142), (1685, 0.010723642374910053), (1686, 0.0), (1687, 0.003921679421850301), (1688, 0.0063070056456145), (1689, 0.0), (1690, 0.009065191308201223), (1691, 0.0), (1692, 0.006167420230408744), (1693, 0.003697095189909591), (1694, 0.007742744937145615), (1695, 0.004963065103635865), (1696, 0.00608453152904311), (1697, 0.0), (1698, 0.0), (1699, 0.0), (1700, 0.0), (1701, 0.004901293371837229), (1702, 0.0), (1703, 0.00381129556879785), (1704, 0.0), (1705, 0.009353805602640885), (1706, 0.003729747582232474), (1707, 0.024096213789984947), (1708, 0.007347352557115737), (1709, 0.0), (1710, 0.009682288292729348), (1711, 0.004711968440214172), (1712, 0.007227107324197422), (1713, 0.03855208323354605), (1714, 0.01159427254041256), (1715, 0.005687261253465976), (1716, 0.013556109666688894), (1717, 0.003741268767859199), (1718, 0.00663419835508709), (1719, 0.0033332593803789175), (1720, 0.026150316574082694), (1721, 0.01179965116002549), (1722, 0.003861932235108532), (1723, 0.005823964533799423), (1724, 0.0), (1725, 0.0), (1726, 0.0), (1727, 0.009290361544882369), (1728, 0.0), (1729, 0.0), (1730, 0.009744635565614822), (1731, 0.0), (1732, 0.0), (1733, 0.0), (1734, 0.0), (1735, 0.009156881175727088), (1736, 0.00926940744960119), (1737, 0.00667925096650358), (1738, 0.0), (1739, 0.011414611280327917), (1740, 0.003772382255656941), (1741, 0.014906253429942437), (1742, 0.0), (1743, 0.008309499111580082), (1744, 0.003576032147100661), (1745, 0.0), (1746, 0.005932558743067952), (1747, 0.007873866485541992), (1748, 0.004415836593155949), (1749, 0.023187100137968895), (1750, 0.03185974791020338), (1751, 0.0), (1752, 0.03387172432749137), (1753, 0.0), (1754, 0.009406593636371875), (1755, 0.0), (1756, 0.0), (1757, 0.023754266781665694), (1758, 0.0), (1759, 0.014381917539362443), (1760, 0.0034572828984455115), (1761, 0.006384702139599624), (1762, 0.009079638107272584), (1763, 0.027213002573314042), (1764, 0.009279485637351368), (1765, 0.0), (1766, 0.0), (1767, 0.0), (1768, 0.0037406643305558126), (1769, 0.0), (1770, 0.0069202505026323404), (1771, 0.0), (1772, 0.0), (1773, 0.0063313565459330425), (1774, 0.01415299691108386), (1775, 0.0), (1776, 0.007719879546639403), (1777, 0.0), (1778, 0.0), (1779, 0.010510940053139801), (1780, 0.0), (1781, 0.0), (1782, 0.0033908933571879284), (1783, 0.0), (1784, 0.0), (1785, 0.0), (1786, 0.0), (1787, 0.011829764790193754), (1788, 0.023616547023795495), (1789, 0.0), (1790, 0.0074956410661849915), (1791, 0.0), (1792, 0.0), (1793, 0.00589434175954579), (1794, 0.0), (1795, 0.03048970624702078), (1796, 0.0034548955885691205), (1797, 0.008097983414073513), (1798, 0.010354416818893774), (1799, 0.00703719110534526), (1800, 0.0), (1801, 0.0), (1802, 0.012627506272837642), (1803, 0.0), (1804, 0.0), (1805, 0.0), (1806, 0.00996069642939225), (1807, 0.006113844784660134), (1808, 0.0), (1809, 0.027760116155164376), (1810, 0.0), (1811, 0.0), (1812, 0.00660716148199992), (1813, 0.00360488637869561), (1814, 0.0), (1815, 0.010168328096172387), (1816, 0.007837924526884733), (1817, 0.016227609809915024), (1818, 0.0057574636914777795), (1819, 0.0035227279730783477), (1820, 0.0), (1821, 0.04718021781482855), (1822, 0.004035762194072728), (1823, 0.0), (1824, 0.0), (1825, 0.0), (1826, 0.0), (1827, 0.003402937535770206), (1828, 0.003243787605136605), (1829, 0.0), (1830, 0.0033437741127798955), (1831, 0.0), (1832, 0.009393365016736134), (1833, 0.005626198709835214), (1834, 0.0), (1835, 0.0), (1836, 0.0), (1837, 0.0), (1838, 0.015887839504545007), (1839, 0.0), (1840, 0.0), (1841, 0.006859358938198989), (1842, 0.0), (1843, 0.014423967435029007), (1844, 0.0), (1845, 0.023279224391147234), (1846, 0.0), (1847, 0.017834307021160054), (1848, 0.0), (1849, 0.006114586215819799), (1850, 0.04245924615448772), (1851, 0.004000642928454376), (1852, 0.006149686969876805), (1853, 0.013446696182099049), (1854, 0.008347729083369069), (1855, 0.0), (1856, 0.0), (1857, 0.0), (1858, 0.00955059447493489), (1859, 0.0), (1860, 0.006449041761186861), (1861, 0.019918733006230073), (1862, 0.0), (1863, 0.005329936008287329), (1864, 0.00955757774268369), (1865, 0.019424216939366384), (1866, 0.003969901108476783), (1867, 0.006109066552994864), (1868, 0.031197309330070446), (1869, 0.0033810066391729327), (1870, 0.011376023017453097), (1871, 0.040778558698630875), (1872, 0.015355732216941026), (1873, 0.006484115384295145), (1874, 0.009322403376699566), (1875, 0.00911434826564327), (1876, 0.010337613258106467), (1877, 0.0), (1878, 0.017656815243234335), (1879, 0.0), (1880, 0.014524214323370211), (1881, 0.0), (1882, 0.00359205872332114), (1883, 0.0), (1884, 0.003605580052697736), (1885, 0.03393364479378985), (1886, 0.06691912138646205), (1887, 0.0), (1888, 0.0), (1889, 0.0), (1890, 0.0), (1891, 0.0038081926261742107), (1892, 0.0036302285383272587), (1893, 0.00392196112595263), (1894, 0.0), (1895, 0.013984257334058548), (1896, 0.004067323589644374), (1897, 0.01090918188521953), (1898, 0.0), (1899, 0.0), (1900, 0.0), (1901, 0.0), (1902, 0.003853440991616839), (1903, 0.005796700782885207), (1904, 0.0), (1905, 0.004036387967526734), (1906, 0.014981164570109092), (1907, 0.004014715194262915), (1908, 0.006295509189784544), (1909, 0.004229035414727039), (1910, 0.0), (1911, 0.006447203090604123), (1912, 0.0), (1913, 0.005943739500527541), (1914, 0.0), (1915, 0.0), (1916, 0.003913453087835404), (1917, 0.0), (1918, 0.003904896669997139), (1919, 0.012208603283711296), (1920, 0.009015370880560402), (1921, 0.0), (1922, 0.00871896809861314), (1923, 0.004142902263177809), (1924, 0.004110885254712594), (1925, 0.0), (1926, 0.0), (1927, 0.014783036317357386), (1928, 0.0), (1929, 0.0), (1930, 0.0), (1931, 0.0038221537504035917), (1932, 0.0), (1933, 0.0), (1934, 0.008861057280345832), (1935, 0.02296809400231558), (1936, 0.006287130395294924), (1937, 0.008685309277916645), (1938, 0.0), (1939, 0.0), (1940, 0.0), (1941, 0.0), (1942, 0.01908332245468828), (1943, 0.0032324775169040067), (1944, 0.0), (1945, 0.015428507063622966), (1946, 0.003935542514406637), (1947, 0.0044467018954900414), (1948, 0.008847423110266258), (1949, 0.009144448440460556), (1950, 0.008477686871056742), (1951, 0.010651938096330416), (1952, 0.0), (1953, 0.0), (1954, 0.0), (1955, 0.0), (1956, 0.0), (1957, 0.010617464643086187), (1958, 0.0), (1959, 0.0), (1960, 0.004063602443981442), (1961, 0.0), (1962, 0.0), (1963, 0.0), (1964, 0.003420520737094248), (1965, 0.0), (1966, 0.0), (1967, 0.012637565837525405), (1968, 0.004152352247215069), (1969, 0.003672292745150907), (1970, 0.049204266848430475), (1971, 0.011159935973478325), (1972, 0.0), (1973, 0.02451678777533376), (1974, 0.0), (1975, 0.0), (1976, 0.026760006653936377), (1977, 0.04085675596518789), (1978, 0.0), (1979, 0.0), (1980, 0.0), (1981, 0.0), (1982, 0.031516096408843265), (1983, 0.003791470801923175), (1984, 0.0), (1985, 0.018711608492418163), (1986, 0.006289428001127119), (1987, 0.0), (1988, 0.012094285941287176), (1989, 0.003064671242650182), (1990, 0.02434768617167512), (1991, 0.0), (1992, 0.008322159691076166), (1993, 0.0), (1994, 0.04597114043190339), (1995, 0.00455127924471689), (1996, 0.016783778953922687), (1997, 0.01318745428808602), (1998, 0.0), (1999, 0.026383021925327873), (2000, 0.013073759756404128), (2001, 0.0), (2002, 0.0), (2003, 0.0), (2004, 0.003479496220002647), (2005, 0.011238496452300618), (2006, 0.0), (2007, 0.0), (2008, 0.00999812999211937), (2009, 0.0), (2010, 0.0030838173337924013), (2011, 0.025113317905254097), (2012, 0.0), (2013, 0.005057888666634338), (2014, 0.03209719690152574), (2015, 0.0), (2016, 0.013212366847479343), (2017, 0.0), (2018, 0.01983443103083975), (2019, 0.0), (2020, 0.005409883768889387), (2021, 0.0), (2022, 0.005139736110223568), (2023, 0.025867345806730217), (2024, 0.01216373088664869), (2025, 0.0), (2026, 0.05524929115312266), (2027, 0.016089630490089463), (2028, 0.0), (2029, 0.003612887219061906), (2030, 0.0), (2031, 0.003402310241536097), (2032, 0.0), (2033, 0.0), (2034, 0.0032260182877637948), (2035, 0.018468710971168846), (2036, 0.0), (2037, 0.026936862928949153), (2038, 0.0), (2039, 0.003106412633581817), (2040, 0.020342199248131708), (2041, 0.0), (2042, 0.0), (2043, 0.0), (2044, 0.0), (2045, 0.009894340699360335), (2046, 0.0), (2047, 0.0), (2048, 0.003939317968387809), (2049, 0.011313012067416646), (2050, 0.0), (2051, 0.011336901452481549), (2052, 0.012965895146722315), (2053, 0.012802214505581944), (2054, 0.0), (2055, 0.022683319386369208), (2056, 0.005988819201481633), (2057, 0.0), (2058, 0.005705706269394189), (2059, 0.0), (2060, 0.0), (2061, 0.0037174993425314598), (2062, 0.005881030433852821), (2063, 0.0), (2064, 0.00467828346038668), (2065, 0.011150262683702514), (2066, 0.0), (2067, 0.003976990009885424), (2068, 0.003771900346481521), (2069, 0.0036102945525154097), (2070, 0.015916354771005732), (2071, 0.0), (2072, 0.0), (2073, 0.0038309225972416087), (2074, 0.005530419667053298), (2075, 0.00478221557040102), (2076, 0.007321276607967302), (2077, 0.0), (2078, 0.0), (2079, 0.0), (2080, 0.008945775787643934), (2081, 0.0), (2082, 0.035888664074123625), (2083, 0.0039228409497863385), (2084, 0.0), (2085, 0.0), (2086, 0.0), (2087, 0.009965156281644752), (2088, 0.003842219173814162), (2089, 0.004313412222142847), (2090, 0.0), (2091, 0.0038435076282987337), (2092, 0.0), (2093, 0.0), (2094, 0.005811058071997926), (2095, 0.006161175594607343), (2096, 0.011100601924699235), (2097, 0.013589583709300863), (2098, 0.005755014939130488), (2099, 0.0), (2100, 0.0), (2101, 0.006884383165350355), (2102, 0.029237952078557703), (2103, 0.009629541693599008), (2104, 0.003942695701869471), (2105, 0.003905750697941133), (2106, 0.0), (2107, 0.0), (2108, 0.004411276673986262), (2109, 0.03205890004485926), (2110, 0.013985689045375602), (2111, 0.0), (2112, 0.05744929905747846), (2113, 0.005218230535913311), (2114, 0.028850814592523255), (2115, 0.0), (2116, 0.011535208955931676), (2117, 0.0035765240171585326), (2118, 0.0), (2119, 0.014138572184909468), (2120, 0.0), (2121, 0.009671706048628737), (2122, 0.036652727592795385), (2123, 0.03362861847326982), (2124, 0.0), (2125, 0.0), (2126, 0.00915226247187206), (2127, 0.0031957539207743547), (2128, 0.0), (2129, 0.0), (2130, 0.0), (2131, 0.00351249256803808), (2132, 0.003152613696337366), (2133, 0.04645528905266909), (2134, 0.004262910141260449), (2135, 0.0), (2136, 0.0), (2137, 0.0), (2138, 0.0), (2139, 0.0), (2140, 0.0), (2141, 0.0), (2142, 0.0), (2143, 0.00932082103679982), (2144, 0.010335743833386035), (2145, 0.011704964204023602), (2146, 0.0), (2147, 0.0), (2148, 0.0), (2149, 0.017720254814709947), (2150, 0.0), (2151, 0.0), (2152, 0.0), (2153, 0.0), (2154, 0.01217415093075539), (2155, 0.010135288201149353), (2156, 0.005497376951542831), (2157, 0.02483787377934688), (2158, 0.0), (2159, 0.004062535090349212), (2160, 0.0060958855827839215), (2161, 0.01606507670526678), (2162, 0.004104774212774917), (2163, 0.0), (2164, 0.0), (2165, 0.0), (2166, 0.0), (2167, 0.017087279398480537), (2168, 0.0), (2169, 0.003753673946178157), (2170, 0.0), (2171, 0.0), (2172, 0.0), (2173, 0.0), (2174, 0.009852624350906222), (2175, 0.005829001951528521), (2176, 0.004280833308631988), (2177, 0.012864496424675775), (2178, 0.0), (2179, 0.0), (2180, 0.0), (2181, 0.0), (2182, 0.0), (2183, 0.0), (2184, 0.0), (2185, 0.0055912607416715955), (2186, 0.0), (2187, 0.0), (2188, 0.004330824068572942), (2189, 0.0), (2190, 0.0), (2191, 0.04637933340107516), (2192, 0.0), (2193, 0.0064627216059930685), (2194, 0.0), (2195, 0.0036443649138898086), (2196, 0.009296912333045863), (2197, 0.0054439439046948005), (2198, 0.03069843038240084), (2199, 0.004843384514143226), (2200, 0.0), (2201, 0.003426397106707118), (2202, 0.006125194296855603), (2203, 0.0057970285138303455), (2204, 0.0), (2205, 0.005860318812864914), (2206, 0.00859913369081125), (2207, 0.0), (2208, 0.0), (2209, 0.007045119786907782), (2210, 0.02110271023401569), (2211, 0.008434028389983077), (2212, 0.03942663716561853), (2213, 0.0), (2214, 0.05072100583827866), (2215, 0.0), (2216, 0.012451115659042238), (2217, 0.0), (2218, 0.0), (2219, 0.0), (2220, 0.0), (2221, 0.02543720126113255), (2222, 0.0), (2223, 0.004222848560019839), (2224, 0.011739662278340751), (2225, 0.0), (2226, 0.003670307164904775), (2227, 0.0), (2228, 0.0), (2229, 0.004257558875056498), (2230, 0.0037372253011748024), (2231, 0.0), (2232, 0.0), (2233, 0.0), (2234, 0.0), (2235, 0.009093477241602168), (2236, 0.005628018436586075), (2237, 0.019282769343543373), (2238, 0.0), (2239, 0.006040717074165163), (2240, 0.0033342680340148613), (2241, 0.0), (2242, 0.00396583501351095), (2243, 0.0), (2244, 0.006864207159271339), (2245, 0.0), (2246, 0.0), (2247, 0.0), (2248, 0.045499261465893684), (2249, 0.0), (2250, 0.01222840048114458), (2251, 0.005153296424942106), (2252, 0.0), (2253, 0.0), (2254, 0.013157874294359436), (2255, 0.004807739515971237), (2256, 0.0), (2257, 0.004772171695072049), (2258, 0.01608117924552693), (2259, 0.0), (2260, 0.004188809906623179), (2261, 0.0), (2262, 0.0), (2263, 0.0), (2264, 0.007798416580808167), (2265, 0.009499541155199544), (2266, 0.004385524223031725), (2267, 0.0), (2268, 0.0), (2269, 0.004290611965058498), (2270, 0.0), (2271, 0.0), (2272, 0.0), (2273, 0.0), (2274, 0.0), (2275, 0.011930654762210247), (2276, 0.023346531689045838), (2277, 0.010377571250726846), (2278, 0.0), (2279, 0.012487981378804833), (2280, 0.008362118572479264), (2281, 0.0), (2282, 0.0), (2283, 0.0), (2284, 0.01287482557779377), (2285, 0.005665806731795244), (2286, 0.0048784800591984406), (2287, 0.003387401048063693), (2288, 0.0), (2289, 0.004005270609283534), (2290, 0.015013772843756587), (2291, 0.005604650230812366), (2292, 0.0), (2293, 0.0), (2294, 0.04845126422460433), (2295, 0.003601988260327842), (2296, 0.0), (2297, 0.0), (2298, 0.014984126612239556), (2299, 0.0), (2300, 0.0), (2301, 0.020658518303649433), (2302, 0.004322905726616907), (2303, 0.006640973278195503), (2304, 0.0), (2305, 0.0), (2306, 0.007815790659512111), (2307, 0.0), (2308, 0.0), (2309, 0.006446986009647279), (2310, 0.0), (2311, 0.0), (2312, 0.0), (2313, 0.003799560688001571), (2314, 0.0), (2315, 0.0), (2316, 0.03735953026880594), (2317, 0.0), (2318, 0.06050141456021892), (2319, 0.0039105617572407995), (2320, 0.004300446617062926), (2321, 0.03729226296980491), (2322, 0.0), (2323, 0.0), (2324, 0.0), (2325, 0.0), (2326, 0.0), (2327, 0.0), (2328, 0.0), (2329, 0.0), (2330, 0.0), (2331, 0.0), (2332, 0.0), (2333, 0.0), (2334, 0.012811582504653477), (2335, 0.006246445122952533), (2336, 0.0), (2337, 0.0), (2338, 0.003394549903952614), (2339, 0.006890914464331342), (2340, 0.0), (2341, 0.0), (2342, 0.0), (2343, 0.0), (2344, 0.003926251574259126), (2345, 0.0), (2346, 0.009846610904441637), (2347, 0.017126687159341944), (2348, 0.0038489062340690394), (2349, 0.005071957551691268), (2350, 0.004666595620149817), (2351, 0.0), (2352, 0.0), (2353, 0.015499586509660088), (2354, 0.0), (2355, 0.0034428365523503247), (2356, 0.0), (2357, 0.0), (2358, 0.0), (2359, 0.0032096920043587157), (2360, 0.0), (2361, 0.003994371058936305), (2362, 0.021145240160844493), (2363, 0.0), (2364, 0.0), (2365, 0.033311318567746794), (2366, 0.013804020305875506), (2367, 0.0034895611731747505), (2368, 0.017857753517707815), (2369, 0.0), (2370, 0.0), (2371, 0.0), (2372, 0.0), (2373, 0.0), (2374, 0.04264891864820511), (2375, 0.03920971756359455), (2376, 0.01498784562262157), (2377, 0.0), (2378, 0.0), (2379, 0.005095470861049122), (2380, 0.0), (2381, 0.0), (2382, 0.0), (2383, 0.0), (2384, 0.0), (2385, 0.0), (2386, 0.004062410886818936), (2387, 0.0), (2388, 0.004549482759209134), (2389, 0.0), (2390, 0.004089023038117772), (2391, 0.003976993258536612), (2392, 0.0), (2393, 0.0038809752088145113), (2394, 0.004047098626289016), (2395, 0.0), (2396, 0.0), (2397, 0.0036758393760156823), (2398, 0.0), (2399, 0.0034581991667851078), (2400, 0.004139931539925445), (2401, 0.0), (2402, 0.003923980926065248), (2403, 0.0071894392328529415), (2404, 0.0), (2405, 0.0039057187939678132), (2406, 0.014416495327232865), (2407, 0.004935470255800712), (2408, 0.025814447106233707), (2409, 0.0), (2410, 0.0), (2411, 0.00423122491615042), (2412, 0.010943522945476743), (2413, 0.026291333064245172), (2414, 0.0), (2415, 0.004727162555861511), (2416, 0.0), (2417, 0.007255619611774938), (2418, 0.006669372352923694), (2419, 0.0), (2420, 0.0), (2421, 0.0062701092777337755), (2422, 0.0036709225761176255), (2423, 0.004653594952016033), (2424, 0.0), (2425, 0.0), (2426, 0.005923129385856351), (2427, 0.004284516868447409), (2428, 0.004404455900239092), (2429, 0.0), (2430, 0.003666798003461245), (2431, 0.0), (2432, 0.0), (2433, 0.0), (2434, 0.004442158503559329), (2435, 0.0), (2436, 0.010707787882787197), (2437, 0.004377080327380156), (2438, 0.004634626768167372), (2439, 0.005569665493944382), (2440, 0.014407431560533809), (2441, 0.0030237485971984536), (2442, 0.0), (2443, 0.026428974123429372), (2444, 0.0), (2445, 0.0), (2446, 0.0), (2447, 0.010662251391387153), (2448, 0.004663121482230565), (2449, 0.024328657868651255), (2450, 0.0), (2451, 0.0), (2452, 0.0), (2453, 0.003463471447794441), (2454, 0.0), (2455, 0.0), (2456, 0.0), (2457, 0.003383626301834916), (2458, 0.0), (2459, 0.004461057893895364), (2460, 0.01359479427850987), (2461, 0.0036813935637289206), (2462, 0.0), (2463, 0.006212245517615406), (2464, 0.010689924449942958), (2465, 0.0), (2466, 0.003935936487006623), (2467, 0.027723143809953776), (2468, 0.009945873585485243), (2469, 0.019765691797557574), (2470, 0.0), (2471, 0.0), (2472, 0.0), (2473, 0.009596332081817722), (2474, 0.01347043340581849), (2475, 0.004238009752754815), (2476, 0.029383230533703803), (2477, 0.004062600294979424), (2478, 0.004268589902393018), (2479, 0.0), (2480, 0.006194687369993442), (2481, 0.025706697405179744), (2482, 0.0034818798896969184), (2483, 0.0), (2484, 0.024124638482401404), (2485, 0.0), (2486, 0.010126476213796998), (2487, 0.02480526060345184), (2488, 0.004422223537991457), (2489, 0.01286189362813452), (2490, 0.005326103229531283), (2491, 0.0), (2492, 0.003760834392553592), (2493, 0.0), (2494, 0.010426470967401697), (2495, 0.0), (2496, 0.003561495463871892), (2497, 0.0), (2498, 0.0), (2499, 0.0), (2500, 0.0), (2501, 0.0), (2502, 0.0033406832580661237), (2503, 0.006266303369506562), (2504, 0.0), (2505, 0.007247785142915802), (2506, 0.0), (2507, 0.0), (2508, 0.0), (2509, 0.0031687697882104957), (2510, 0.007036707117637816), (2511, 0.0), (2512, 0.012384105463094021), (2513, 0.017725751502088043), (2514, 0.0), (2515, 0.0), (2516, 0.0), (2517, 0.005915107034528947), (2518, 0.0), (2519, 0.0), (2520, 0.003397333403393331), (2521, 0.0), (2522, 0.013589832174888496), (2523, 0.0), (2524, 0.00992587363399321), (2525, 0.0), (2526, 0.003102248433802379), (2527, 0.0034971159548451442), (2528, 0.0035133285601782966), (2529, 0.0053004311625493425), (2530, 0.004414854683188845), (2531, 0.003906322756057039), (2532, 0.0), (2533, 0.0), (2534, 0.0017208731398238098), (2535, 0.004623358403806537), (2536, 0.0), (2537, 0.0), (2538, 0.069007416054952), (2539, 0.0), (2540, 0.0343467320482637), (2541, 0.0), (2542, 0.0), (2543, 0.0), (2544, 0.0), (2545, 0.0067175610158372295), (2546, 0.009077959875872392), (2547, 0.0), (2548, 0.0), (2549, 0.0), (2550, 0.04726342813361009), (2551, 0.0), (2552, 0.0), (2553, 0.018217656423760376), (2554, 0.003843590511274506), (2555, 0.008344498345946045), (2556, 0.003557030148571768), (2557, 0.0), (2558, 0.07837987788714146), (2559, 0.004916294958050123), (2560, 0.02413497218484924), (2561, 0.0), (2562, 0.0), (2563, 0.008281269861069163), (2564, 0.0), (2565, 0.006609618658066216), (2566, 0.0), (2567, 0.0), (2568, 0.013597775922449599), (2569, 0.0), (2570, 0.004395370786608498), (2571, 0.0), (2572, 0.005991097056523449), (2573, 0.0), (2574, 0.0), (2575, 0.0), (2576, 0.0), (2577, 0.0), (2578, 0.0), (2579, 0.004146599701126643), (2580, 0.003293318265485786), (2581, 0.0), (2582, 0.01852889769674127), (2583, 0.0), (2584, 0.0), (2585, 0.0), (2586, 0.0), (2587, 0.005516196739084963), (2588, 0.0), (2589, 0.0), (2590, 0.0), (2591, 0.0033295636215147327), (2592, 0.004117142508906467), (2593, 0.0037354668188631407), (2594, 0.0), (2595, 0.0), (2596, 0.0), (2597, 0.0), (2598, 0.017781203659152), (2599, 0.0), (2600, 0.0), (2601, 0.010996251508988008), (2602, 0.011051077786100264), (2603, 0.008741974454350336), (2604, 0.0), (2605, 0.0), (2606, 0.0036290563640189173), (2607, 0.016981872659023543), (2608, 0.0), (2609, 0.0039190425925859345), (2610, 0.0), (2611, 0.0034357521727489725), (2612, 0.003652914153567118), (2613, 0.0), (2614, 0.03292864827890702), (2615, 0.0), (2616, 0.0), (2617, 0.007589945830758908), (2618, 0.014158626786922208), (2619, 0.0), (2620, 0.0), (2621, 0.021226852069505316), (2622, 0.032025847454718856), (2623, 0.0043146202617809545), (2624, 0.0), (2625, 0.00418156311107244), (2626, 0.0), (2627, 0.0), (2628, 0.0), (2629, 0.004171557018447444), (2630, 0.044096198641433514), (2631, 0.0), (2632, 0.009825059698963717), (2633, 0.01034449473421976), (2634, 0.0036040931465722292), (2635, 0.0), (2636, 0.0), (2637, 0.0), (2638, 0.0208332023465639), (2639, 0.014705280689290038), (2640, 0.006359560151808978), (2641, 0.0), (2642, 0.003653053122752101), (2643, 0.004973411726698248), (2644, 0.014666054878994231), (2645, 0.016226401257885048), (2646, 0.021390564813965462), (2647, 0.01901808185559013), (2648, 0.0), (2649, 0.023747309562592283), (2650, 0.015345882318870588), (2651, 0.0), (2652, 0.003749721140338078), (2653, 0.04554293790664386), (2654, 0.01624514041316599), (2655, 0.005039410653299629), (2656, 0.0), (2657, 0.0), (2658, 0.0), (2659, 0.0), (2660, 0.004192660688515655), (2661, 0.0039413351007299745), (2662, 0.0), (2663, 0.0), (2664, 0.004127990074329269), (2665, 0.005209456928425245), (2666, 0.0), (2667, 0.0), (2668, 0.010054807268878679), (2669, 0.0), (2670, 0.0), (2671, 0.0), (2672, 0.0), (2673, 0.0), (2674, 0.0035555244347939183), (2675, 0.0), (2676, 0.0), (2677, 0.0), (2678, 0.005751427858338542), (2679, 0.0), (2680, 0.0059327785351508955), (2681, 0.0), (2682, 0.0), (2683, 0.0), (2684, 0.0), (2685, 0.0), (2686, 0.0), (2687, 0.0036191172226721006), (2688, 0.010902595266580765), (2689, 0.01884870401441159), (2690, 0.0), (2691, 0.006437866040925405), (2692, 0.9999999999999999), (2693, 0.0), (2694, 0.04219307333073587), (2695, 0.012643842697342186), (2696, 0.004375783102623089), (2697, 0.00305003643770805), (2698, 0.009476777059588389), (2699, 0.02460070614540713), (2700, 0.0), (2701, 0.0), (2702, 0.004221468971820276), (2703, 0.0), (2704, 0.0), (2705, 0.004163841519359378), (2706, 0.032984630923884255), (2707, 0.0), (2708, 0.006655876418596178), (2709, 0.0), (2710, 0.029445361551563933), (2711, 0.0), (2712, 0.01716178166315396), (2713, 0.02532525345764865), (2714, 0.0039210243479511275), (2715, 0.0), (2716, 0.03579332673161742), (2717, 0.0), (2718, 0.023731639891647876), (2719, 0.0), (2720, 0.0), (2721, 0.0), (2722, 0.0), (2723, 0.028469601301572573), (2724, 0.003402204583607244), (2725, 0.0), (2726, 0.006507591862759795), (2727, 0.010431611892058672), (2728, 0.0), (2729, 0.0), (2730, 0.0), (2731, 0.00496466892324904), (2732, 0.006450585749375566), (2733, 0.0), (2734, 0.0), (2735, 0.0), (2736, 0.0), (2737, 0.0), (2738, 0.0), (2739, 0.009192719174607636), (2740, 0.011147722896002035), (2741, 0.0034566235358725866), (2742, 0.013933655031780966), (2743, 0.0035199661397917557), (2744, 0.009995931313218916), (2745, 0.044482239588888854), (2746, 0.003786116335790588), (2747, 0.0034061411685204187), (2748, 0.00434427421013287), (2749, 0.0), (2750, 0.0), (2751, 0.028331643126239904), (2752, 0.008449515725407622), (2753, 0.0), (2754, 0.0), (2755, 0.0038649505974413544), (2756, 0.0), (2757, 0.0), (2758, 0.003216508758039713), (2759, 0.0061353124106428725), (2760, 0.018549738278943052), (2761, 0.026092071058951064), (2762, 0.025866487684257814), (2763, 0.0), (2764, 0.005108272730273339), (2765, 0.0), (2766, 0.0029271785603820644), (2767, 0.021759121898601876), (2768, 0.00506847948520531), (2769, 0.011714439088825431), (2770, 0.0), (2771, 0.0033555577039775545), (2772, 0.004360328446992736), (2773, 0.0), (2774, 0.004999007076154558), (2775, 0.005066503591416184), (2776, 0.004040463202335348), (2777, 0.026887802584039354), (2778, 0.004583457387635819), (2779, 0.003660523951453007), (2780, 0.009255468962675473), (2781, 0.0), (2782, 0.032624018219447416), (2783, 0.0), (2784, 0.0125697900803118), (2785, 0.0), (2786, 0.0), (2787, 0.0), (2788, 0.0), (2789, 0.005293408332198372), (2790, 0.0), (2791, 0.02461515944293194), (2792, 0.0), (2793, 0.0), (2794, 0.0), (2795, 0.01634755232640636), (2796, 0.004409533695444779), (2797, 0.004534700217851861), (2798, 0.010156348960033604), (2799, 0.0), (2800, 0.0034854099260005745), (2801, 0.0), (2802, 0.02915931203081758), (2803, 0.009229664618486413), (2804, 0.0), (2805, 0.013015462785721854), (2806, 0.0), (2807, 0.030122852750370587), (2808, 0.018698744966313706), (2809, 0.007778064663803333), (2810, 0.0), (2811, 0.0), (2812, 0.01003129824310586), (2813, 0.0), (2814, 0.0), (2815, 0.0), (2816, 0.006399506180767205), (2817, 0.0), (2818, 0.0), (2819, 0.0), (2820, 0.005649158039690295), (2821, 0.003964999977579709), (2822, 0.023249638058018083), (2823, 0.01740858452181335), (2824, 0.0), (2825, 0.0), (2826, 0.0), (2827, 0.0), (2828, 0.0), (2829, 0.0), (2830, 0.004151971244145627), (2831, 0.009767435918127851), (2832, 0.005635482837278568), (2833, 0.0), (2834, 0.004499507077350178), (2835, 0.0), (2836, 0.0), (2837, 0.0), (2838, 0.004655675277139957), (2839, 0.0), (2840, 0.004146297833912512), (2841, 0.018916818289644977), (2842, 0.0), (2843, 0.007127705314236448), (2844, 0.008167605445035163), (2845, 0.0033542325135991822), (2846, 0.0), (2847, 0.0), (2848, 0.004452131517457981), (2849, 0.009851837529310594), (2850, 0.0), (2851, 0.0), (2852, 0.0), (2853, 0.0), (2854, 0.003972795935267704), (2855, 0.0), (2856, 0.0), (2857, 0.004293501306805018), (2858, 0.0), (2859, 0.04073310636872967), (2860, 0.0), (2861, 0.0), (2862, 0.003548817886524488), (2863, 0.0), (2864, 0.0), (2865, 0.0), (2866, 0.0), (2867, 0.019061626424442393), (2868, 0.011734575781646243), (2869, 0.0398679603606684), (2870, 0.005145037729936178), (2871, 0.008170150463864616), (2872, 0.004351241165329063), (2873, 0.006982624809229538), (2874, 0.013676694665587678), (2875, 0.0), (2876, 0.0298368885417215), (2877, 0.0), (2878, 0.003832080296632609), (2879, 0.004682864779975438), (2880, 0.0), (2881, 0.004337657106147097), (2882, 0.0), (2883, 0.005017742410378792), (2884, 0.0), (2885, 0.01915666761330614), (2886, 0.012380186263293243), (2887, 0.030252601056947503), (2888, 0.004121706193125041), (2889, 0.004943593368437767), (2890, 0.004482137268622281), (2891, 0.0), (2892, 0.00351940094620934), (2893, 0.044029419546308325), (2894, 0.003792925300549771), (2895, 0.0), (2896, 0.0), (2897, 0.008246084599193713), (2898, 0.0), (2899, 0.0034939568812034634), (2900, 0.0), (2901, 0.004855490783608125), (2902, 0.0), (2903, 0.06102886261787477), (2904, 0.0037337039404255158), (2905, 0.0), (2906, 0.0), (2907, 0.00360158685551251), (2908, 0.0342643407822555), (2909, 0.0), (2910, 0.012891890737149253), (2911, 0.003846960704331304), (2912, 0.025543856525005876), (2913, 0.00771451509061382), (2914, 0.004624482971628074), (2915, 0.011165037827645143), (2916, 0.004299003292212911), (2917, 0.012946140579366681), (2918, 0.008551899411872264), (2919, 0.012785570797865513), (2920, 0.02824345581795574), (2921, 0.0), (2922, 0.0), (2923, 0.0), (2924, 0.0043583887946247), (2925, 0.01030399633505525), (2926, 0.0040685943904722926), (2927, 0.0), (2928, 0.0), (2929, 0.005690849523320711), (2930, 0.0), (2931, 0.01760908218172574), (2932, 0.01665154828124185), (2933, 0.008865224505495636), (2934, 0.012641288736072674), (2935, 0.005777713766522312), (2936, 0.0071753505964554445), (2937, 0.0), (2938, 0.0), (2939, 0.01043376852672274), (2940, 0.0), (2941, 0.0), (2942, 0.0055202715824053065), (2943, 0.004147340561641428), (2944, 0.047503098373506504), (2945, 0.0036813787614395545), (2946, 0.003800179099244084), (2947, 0.0), (2948, 0.0), (2949, 0.00397745962274961), (2950, 0.026415580068419743), (2951, 0.0), (2952, 0.0), (2953, 0.0), (2954, 0.0), (2955, 0.0), (2956, 0.0), (2957, 0.0), (2958, 0.0), (2959, 0.0), (2960, 0.0), (2961, 0.01260296008803954), (2962, 0.0), (2963, 0.0), (2964, 0.006535120544844837), (2965, 0.003669865518017331), (2966, 0.004543436332153004), (2967, 0.0), (2968, 0.0), (2969, 0.013738096325058529), (2970, 0.0), (2971, 0.022543724713621587), (2972, 0.03009208839519294), (2973, 0.0), (2974, 0.00435776401742999), (2975, 0.008791190180099372), (2976, 0.003323520368943399), (2977, 0.010253016721792874), (2978, 0.009348983788671245), (2979, 0.0), (2980, 0.00973457254104154), (2981, 0.031727259633079076), (2982, 0.0), (2983, 0.0), (2984, 0.0), (2985, 0.053017992801839164), (2986, 0.00438342978014647), (2987, 0.0), (2988, 0.010302995502865972), (2989, 0.005128336873260977), (2990, 0.0), (2991, 0.0), (2992, 0.005888673021606096), (2993, 0.0), (2994, 0.0), (2995, 0.020503535075521953), (2996, 0.013430006921315265), (2997, 0.0), (2998, 0.005323421880716405), (2999, 0.004094838592533958), (3000, 0.015242718544887205), (3001, 0.0), (3002, 0.0), (3003, 0.0), (3004, 0.034668226900925955), (3005, 0.0), (3006, 0.0), (3007, 0.0), (3008, 0.007114148582456533), (3009, 0.0), (3010, 0.04970438575653415), (3011, 0.0), (3012, 0.004368721811088315), (3013, 0.0042196395247933545), (3014, 0.00361601801051659), (3015, 0.004812612975725233), (3016, 0.0), (3017, 0.0283642905669531), (3018, 0.0), (3019, 0.015283450161177499), (3020, 0.0), (3021, 0.0), (3022, 0.0), (3023, 0.006026107036085886), (3024, 0.003078164136248422), (3025, 0.0), (3026, 0.0), (3027, 0.0033748362456253265), (3028, 0.02875841790394021), (3029, 0.0), (3030, 0.0), (3031, 0.0), (3032, 0.004212124627203151), (3033, 0.00618424129370349), (3034, 0.0), (3035, 0.0), (3036, 0.019060596363611126), (3037, 0.0041264328112537215), (3038, 0.0), (3039, 0.007048047142798179), (3040, 0.0), (3041, 0.0), (3042, 0.0), (3043, 0.013974343847431337), (3044, 0.004275198094949656), (3045, 0.024916477684301306), (3046, 0.006062409863769537), (3047, 0.0), (3048, 0.0), (3049, 0.0), (3050, 0.0036254439836052106), (3051, 0.005221192946673976), (3052, 0.0), (3053, 0.0771524078897408), (3054, 0.0), (3055, 0.0), (3056, 0.0031704848720521114), (3057, 0.0), (3058, 0.0), (3059, 0.0), (3060, 0.0), (3061, 0.0), (3062, 0.004338692739290442), (3063, 0.0), (3064, 0.0), (3065, 0.008817458823678242), (3066, 0.006196204190904335), (3067, 0.01092877845588805), (3068, 0.022836948238685685), (3069, 0.0), (3070, 0.008011207903681006), (3071, 0.0034583556686458338), (3072, 0.004499130018016268), (3073, 0.0), (3074, 0.004661405334386536), (3075, 0.003911972370200694), (3076, 0.004629988237702908), (3077, 0.0), (3078, 0.0), (3079, 0.0), (3080, 0.0), (3081, 0.004615358917137847), (3082, 0.0), (3083, 0.0), (3084, 0.0), (3085, 0.005996046682927432), (3086, 0.013361863588999925), (3087, 0.0), (3088, 0.0), (3089, 0.0), (3090, 0.0), (3091, 0.01802660047521966), (3092, 0.0), (3093, 0.0), (3094, 0.011547106632559364), (3095, 0.016147305714691102), (3096, 0.008638277957989549), (3097, 0.004039239663346902), (3098, 0.016089706752753816), (3099, 0.007738590205976226), (3100, 0.0), (3101, 0.0), (3102, 0.03267448389232716), (3103, 0.0), (3104, 0.0), (3105, 0.0), (3106, 0.0), (3107, 0.0), (3108, 0.009036141809971553), (3109, 0.0), (3110, 0.009566323358657655), (3111, 0.01893582176070781), (3112, 0.004058605437891856), (3113, 0.0), (3114, 0.005886478711079666), (3115, 0.0), (3116, 0.004139933373684798), (3117, 0.0), (3118, 0.008567395031467532), (3119, 0.011939364498921093), (3120, 0.0034291546192117563), (3121, 0.0), (3122, 0.0036223099310471337), (3123, 0.004532783525856824), (3124, 0.0), (3125, 0.00382061068474575), (3126, 0.0), (3127, 0.0282938951133052), (3128, 0.0), (3129, 0.013106181198577581), (3130, 0.0), (3131, 0.0), (3132, 0.0), (3133, 0.0), (3134, 0.0), (3135, 0.0), (3136, 0.0), (3137, 0.006845695527664666), (3138, 0.0), (3139, 0.0), (3140, 0.004705576412376476), (3141, 0.0), (3142, 0.011948004060909744), (3143, 0.0), (3144, 0.019111757600354676), (3145, 0.0), (3146, 0.00412182042440012), (3147, 0.003485961952591577), (3148, 0.0042164762433525675), (3149, 0.0), (3150, 0.0), (3151, 0.009711524340099056), (3152, 0.00822185408748081), (3153, 0.019103934811729215), (3154, 0.025775295421684552), (3155, 0.008961560459737073), (3156, 0.0), (3157, 0.02764427536953932), (3158, 0.0), (3159, 0.0), (3160, 0.0), (3161, 0.0), (3162, 0.0), (3163, 0.0), (3164, 0.005290809576245899), (3165, 0.004420327488600411), (3166, 0.005092476218579417), (3167, 0.023827517880432775), (3168, 0.0), (3169, 0.0), (3170, 0.003781636810095247), (3171, 0.012367917061642177), (3172, 0.0), (3173, 0.0), (3174, 0.025974220917144446), (3175, 0.0), (3176, 0.0), (3177, 0.0), (3178, 0.005622692999717276), (3179, 0.0), (3180, 0.0), (3181, 0.0), (3182, 0.003766564328263675), (3183, 0.004036240623461544), (3184, 0.003911067952506554), (3185, 0.0), (3186, 0.0), (3187, 0.0038890375511250546), (3188, 0.0), (3189, 0.0), (3190, 0.0), (3191, 0.0), (3192, 0.009603539504214715), (3193, 0.0), (3194, 0.00355647187783448), (3195, 0.0036936811585703685), (3196, 0.004157227456525196), (3197, 0.0), (3198, 0.004032869491805858), (3199, 0.0029171945641597043), (3200, 0.003154670960501435), (3201, 0.0), (3202, 0.0), (3203, 0.04784694241610142), (3204, 0.0), (3205, 0.004799994802585188), (3206, 0.0), (3207, 0.0), (3208, 0.0), (3209, 0.040187227245422584), (3210, 0.012943320234435002), (3211, 0.0), (3212, 0.0), (3213, 0.012686595388648319), (3214, 0.0040150832412179805), (3215, 0.005442513421154562), (3216, 0.0), (3217, 0.0), (3218, 0.010702712999224324), (3219, 0.004869892503127622), (3220, 0.0035875905049231626), (3221, 0.0), (3222, 0.020555935599116528), (3223, 0.0), (3224, 0.0), (3225, 0.0), (3226, 0.01579766384115776), (3227, 0.003877455932637364), (3228, 0.011610648992006582), (3229, 0.0), (3230, 0.0), (3231, 0.0), (3232, 0.008300648926093442), (3233, 0.003777418312118715), (3234, 0.004012526110050575), (3235, 0.003983473311354369), (3236, 0.0), (3237, 0.009882501808042555), (3238, 0.0), (3239, 0.0), (3240, 0.009480653251967291), (3241, 0.003853052828238544), (3242, 0.0), (3243, 0.0), (3244, 0.005691856790401249), (3245, 0.009847795390172796), (3246, 0.005870563508142276), (3247, 0.0), (3248, 0.031615698517185896), (3249, 0.04073692563039396), (3250, 0.0), (3251, 0.0), (3252, 0.0), (3253, 0.014134459695752022), (3254, 0.025092594960130308), (3255, 0.03345164985792947), (3256, 0.007367813241384574), (3257, 0.005338011724288861), (3258, 0.004262978187437182), (3259, 0.009385954483605843), (3260, 0.0), (3261, 0.0), (3262, 0.005115265032912198), (3263, 0.0), (3264, 0.00659434528674701), (3265, 0.006320646439206202), (3266, 0.0), (3267, 0.008141293783042399), (3268, 0.0037234528522013827), (3269, 0.0), (3270, 0.0), (3271, 0.0), (3272, 0.0), (3273, 0.004126976173568054), (3274, 0.0042642366776137475), (3275, 0.015518106904276333), (3276, 0.04275821117620367), (3277, 0.0), (3278, 0.0035584927268211813), (3279, 0.012889434694830037), (3280, 0.030738428957884124), (3281, 0.0), (3282, 0.004515365531911421), (3283, 0.0), (3284, 0.014708155382890834), (3285, 0.023566673081609892), (3286, 0.0), (3287, 0.0), (3288, 0.006136525610534996), (3289, 0.0), (3290, 0.0), (3291, 0.005265620746880657), (3292, 0.0), (3293, 0.003483432271677222), (3294, 0.046463459153748415), (3295, 0.014418766683502312), (3296, 0.00425642722855412), (3297, 0.012942640494355971), (3298, 0.0036686583022941185), (3299, 0.012210691717160393), (3300, 0.0035229940905610875), (3301, 0.003057413950402323), (3302, 0.004548081679734336), (3303, 0.0037699155273259954), (3304, 0.003459740119219359), (3305, 0.0), (3306, 0.01674701434741924), (3307, 0.0), (3308, 0.004383216815346877), (3309, 0.0061319019944053935), (3310, 0.0), (3311, 0.0034417194375320477), (3312, 0.009756630415967239), (3313, 0.028909886311493847), (3314, 0.003887023853910391), (3315, 0.0036099742871481873), (3316, 0.007727841011615683), (3317, 0.010312827280987081), (3318, 0.003371009343053785), (3319, 0.022655681921101414), (3320, 0.0), (3321, 0.0), (3322, 0.0), (3323, 0.0), (3324, 0.0), (3325, 0.0061454434396613754), (3326, 0.03144811351585984), (3327, 0.0033546362352180276), (3328, 0.031872944516291565), (3329, 0.00578095171987539), (3330, 0.0037560713955027696), (3331, 0.0031975278576681673), (3332, 0.0), (3333, 0.0), (3334, 0.009035719489803301), (3335, 0.0), (3336, 0.0), (3337, 0.0), (3338, 0.0), (3339, 0.0), (3340, 0.0), (3341, 0.0), (3342, 0.003475283697175482), (3343, 0.0), (3344, 0.023282031385319264), (3345, 0.0217259838971883), (3346, 0.010052275947126507), (3347, 0.0032340118640206434), (3348, 0.0), (3349, 0.003902202308931436), (3350, 0.0), (3351, 0.033530785955235336), (3352, 0.020454542597111693), (3353, 0.0038586681304597623), (3354, 0.0), (3355, 0.00443703510787577), (3356, 0.013521530854696087), (3357, 0.004603748181766927), (3358, 0.0), (3359, 0.004316580922345122), (3360, 0.01434659022753891), (3361, 0.0), (3362, 0.01564553300570807), (3363, 0.004474476415523858), (3364, 0.004402071591804512), (3365, 0.0027609698543618662), (3366, 0.0), (3367, 0.0), (3368, 0.0), (3369, 0.0), (3370, 0.011966428651036417), (3371, 0.0), (3372, 0.0), (3373, 0.00997370033531397), (3374, 0.01278795280473785), (3375, 0.015118558551825952), (3376, 0.028418730418913945), (3377, 0.027274329411733533), (3378, 0.0), (3379, 0.0036602971853075023), (3380, 0.0032810575639513973), (3381, 0.0), (3382, 0.009209868133410109), (3383, 0.0), (3384, 0.007280959739006664), (3385, 0.05277311305318548), (3386, 0.010394920593299828), (3387, 0.006915806512873417), (3388, 0.003896917008108281), (3389, 0.009157163360692317), (3390, 0.0), (3391, 0.004137042906803907), (3392, 0.0), (3393, 0.003264279129148221), (3394, 0.0), (3395, 0.017129174392415656), (3396, 0.0), (3397, 0.0), (3398, 0.0), (3399, 0.009511118688887998), (3400, 0.0), (3401, 0.0), (3402, 0.003605422095930234), (3403, 0.01901254652597071), (3404, 0.0), (3405, 0.0), (3406, 0.004047270982094161), (3407, 0.009609386926840867), (3408, 0.04249708009963441), (3409, 0.038549143580413406), (3410, 0.0050106511254854515), (3411, 0.0), (3412, 0.0), (3413, 0.004395526768862994), (3414, 0.0), (3415, 0.0), (3416, 0.006311984069004167), (3417, 0.004121312122462107), (3418, 0.00851598334998727), (3419, 0.0), (3420, 0.028097893937490962), (3421, 0.013835453854683542), (3422, 0.0), (3423, 0.007281720042065867), (3424, 0.0), (3425, 0.004202393584173029), (3426, 0.005990387625056327), (3427, 0.04137571119093578), (3428, 0.026320921790128002), (3429, 0.0), (3430, 0.032466270184861756), (3431, 0.0), (3432, 0.0), (3433, 0.017600481176341932), (3434, 0.0), (3435, 0.003667602687285391), (3436, 0.0037524007128280135), (3437, 0.012861326506192618), (3438, 0.0), (3439, 0.0), (3440, 0.0), (3441, 0.0), (3442, 0.0), (3443, 0.0), (3444, 0.0), (3445, 0.0037809716439038644), (3446, 0.018388084362335435), (3447, 0.026386008583318323), (3448, 0.0), (3449, 0.0038881881891090274), (3450, 0.024011516914207855), (3451, 0.0), (3452, 0.0), (3453, 0.009871203736632918), (3454, 0.0), (3455, 0.0), (3456, 0.004348941549258978), (3457, 0.006565781972379785), (3458, 0.0043366927290517), (3459, 0.0), (3460, 0.0033930418752245242), (3461, 0.0), (3462, 0.015051534534995113), (3463, 0.032958387980998614), (3464, 0.0), (3465, 0.008248899553136079), (3466, 0.02283955696461133), (3467, 0.0), (3468, 0.0), (3469, 0.019229344961569386), (3470, 0.029239500872066452), (3471, 0.017939185519506042), (3472, 0.0), (3473, 0.0), (3474, 0.003454781834783206), (3475, 0.0), (3476, 0.0), (3477, 0.003635663881174875), (3478, 0.0), (3479, 0.004925209743678175), (3480, 0.034269123305475546), (3481, 0.0), (3482, 0.0), (3483, 0.01946805878407463), (3484, 0.0), (3485, 0.0), (3486, 0.034017994539343406), (3487, 0.0036248622760256936), (3488, 0.025320571354466515), (3489, 0.0), (3490, 0.0), (3491, 0.0), (3492, 0.021262905851272024), (3493, 0.004011209433568872), (3494, 0.0), (3495, 0.0), (3496, 0.004103034968965506), (3497, 0.0), (3498, 0.03261253010076699), (3499, 0.0), (3500, 0.0036638110964759465), (3501, 0.004186784563225781), (3502, 0.0), (3503, 0.003500867915036332), (3504, 0.018357381019813268), (3505, 0.0), (3506, 0.0042052731902473845), (3507, 0.0), (3508, 0.012083896633341652), (3509, 0.005518697126486915), (3510, 0.0), (3511, 0.0039788609885800155), (3512, 0.0060355477388687), (3513, 0.0), (3514, 0.0), (3515, 0.006682378078457828), (3516, 0.003974699274756799), (3517, 0.0), (3518, 0.04532032952454841), (3519, 0.0), (3520, 0.0), (3521, 0.004548583381741721), (3522, 0.0), (3523, 0.0), (3524, 0.01158251599455129), (3525, 0.0), (3526, 0.003916864143980877), (3527, 0.003985172967698066), (3528, 0.016242177421669685), (3529, 0.0), (3530, 0.0), (3531, 0.0), (3532, 0.0), (3533, 0.0), (3534, 0.0031702698941654056), (3535, 0.010518610469941196), (3536, 0.006507625108274023), (3537, 0.0), (3538, 0.0), (3539, 0.0), (3540, 0.0), (3541, 0.016332256872404707), (3542, 0.0038307303921079217), (3543, 0.0), (3544, 0.0), (3545, 0.0), (3546, 0.0028379639867674215), (3547, 0.0), (3548, 0.0), (3549, 0.0), (3550, 0.0), (3551, 0.0037550295181104057), (3552, 0.047342124360667856), (3553, 0.019322623585953047), (3554, 0.0), (3555, 0.0), (3556, 0.02998010275360792), (3557, 0.0037176867639295745), (3558, 0.01585318770476446), (3559, 0.02578917168888089), (3560, 0.004163954900733184), (3561, 0.0), (3562, 0.0), (3563, 0.0034453803598708936), (3564, 0.0037891730456706373), (3565, 0.0), (3566, 0.00615623917306772), (3567, 0.0), (3568, 0.0), (3569, 0.0032840645268327317), (3570, 0.0), (3571, 0.0037850434548509413), (3572, 0.03184841637216124), (3573, 0.0), (3574, 0.026590719974476033), (3575, 0.0032583451935966285), (3576, 0.0), (3577, 0.004376147591915999), (3578, 0.0), (3579, 0.00903100063369348), (3580, 0.014659563884960198), (3581, 0.0), (3582, 0.00857166674880123), (3583, 0.0), (3584, 0.0), (3585, 0.0), (3586, 0.009228279757057967), (3587, 0.0), (3588, 0.0), (3589, 0.0), (3590, 0.004302061204385346), (3591, 0.0), (3592, 0.0), (3593, 0.0), (3594, 0.006196152969747188), (3595, 0.0), (3596, 0.0065004519460278715), (3597, 0.01499814865998225), (3598, 0.0056894833340402975), (3599, 0.006848780965484981), (3600, 0.0), (3601, 0.004055623361364722), (3602, 0.0), (3603, 0.0), (3604, 0.0), (3605, 0.0), (3606, 0.0), (3607, 0.0), (3608, 0.0), (3609, 0.0), (3610, 0.0), (3611, 0.0), (3612, 0.013181780228768376), (3613, 0.004618338457979911), (3614, 0.003431183014703316), (3615, 0.0), (3616, 0.0), (3617, 0.0), (3618, 0.00406100374132397), (3619, 0.0), (3620, 0.0046637396574788865), (3621, 0.0), (3622, 0.0), (3623, 0.003893987327171681), (3624, 0.003818539356030182), (3625, 0.0), (3626, 0.002997056663518602), (3627, 0.0), (3628, 0.0), (3629, 0.0), (3630, 0.013650407788695819), (3631, 0.0), (3632, 0.00631328104894245), (3633, 0.0), (3634, 0.008972960520321243), (3635, 0.004970607353690122), (3636, 0.0), (3637, 0.011155336623477778), (3638, 0.004444123395564869), (3639, 0.004231005859423603), (3640, 0.004186688672597985), (3641, 0.0036247557451182413), (3642, 0.009202893248024254), (3643, 0.01016070104464409), (3644, 0.0), (3645, 0.010497692303630785), (3646, 0.003559064390701957), (3647, 0.0), (3648, 0.0067047624081281775), (3649, 0.0), (3650, 0.0), (3651, 0.0), (3652, 0.036408909244623144), (3653, 0.0038666100629833893), (3654, 0.0040044106498095065), (3655, 0.05404641193828002), (3656, 0.029446791105825848), (3657, 0.003262341998288508), (3658, 0.0), (3659, 0.009397835335851533), (3660, 0.003567922654203582), (3661, 0.007265629212516666), (3662, 0.0), (3663, 0.0), (3664, 0.0), (3665, 0.017278055887137933), (3666, 0.0038469394108369658), (3667, 0.010559307512155445), (3668, 0.0), (3669, 0.0035984125669983715), (3670, 0.00891757872313872), (3671, 0.0), (3672, 0.0), (3673, 0.003737643861844411), (3674, 0.0), (3675, 0.015238959630977518), (3676, 0.0), (3677, 0.0), (3678, 0.0), (3679, 0.0), (3680, 0.004433519528070914), (3681, 0.0), (3682, 0.0), (3683, 0.0), (3684, 0.015223420730383085), (3685, 0.0), (3686, 0.0), (3687, 0.0), (3688, 0.0), (3689, 0.010185077598703525), (3690, 0.0), (3691, 0.0), (3692, 0.019989737029508098), (3693, 0.0), (3694, 0.013391222330177529), (3695, 0.0), (3696, 0.0037345440560632636), (3697, 0.0), (3698, 0.0), (3699, 0.00911618326122247), (3700, 0.0), (3701, 0.025702774977069014), (3702, 0.0), (3703, 0.0), (3704, 0.004077365656039388), (3705, 0.0034352666073338587), (3706, 0.0035733666244298023), (3707, 0.003795815294417944), (3708, 0.01026944223162103), (3709, 0.0), (3710, 0.0), (3711, 0.02173650980998732), (3712, 0.0), (3713, 0.005328765407591639), (3714, 0.0), (3715, 0.0), (3716, 0.0), (3717, 0.0), (3718, 0.0), (3719, 0.0), (3720, 0.026332763827058653), (3721, 0.0), (3722, 0.0), (3723, 0.0), (3724, 0.0), (3725, 0.0), (3726, 0.0), (3727, 0.003861610244935585), (3728, 0.05692105905252481), (3729, 0.0), (3730, 0.0), (3731, 0.012977780028585833), (3732, 0.0), (3733, 0.006424965778245154), (3734, 0.0035287060496123736), (3735, 0.0), (3736, 0.0), (3737, 0.0), (3738, 0.0), (3739, 0.0037082730347548385), (3740, 0.0), (3741, 0.01016230803383986), (3742, 0.0034374630966644234), (3743, 0.0), (3744, 0.0), (3745, 0.0043821433410217705), (3746, 0.0), (3747, 0.006419820341055817), (3748, 0.005543844806820486), (3749, 0.004028261933324621), (3750, 0.01367955448959676), (3751, 0.02601424027193118), (3752, 0.005663012965613901), (3753, 0.045550102576076286), (3754, 0.004286232589299021), (3755, 0.003475363133454878), (3756, 0.01061189265823282), (3757, 0.0), (3758, 0.0), (3759, 0.0), (3760, 0.0), (3761, 0.0), (3762, 0.0), (3763, 0.0045067335648690116), (3764, 0.0), (3765, 0.0038638870141135422), (3766, 0.00451010655081234), (3767, 0.00912698704658443), (3768, 0.0), (3769, 0.0), (3770, 0.0), (3771, 0.004070520617901159), (3772, 0.004333557888265549), (3773, 0.0), (3774, 0.0), (3775, 0.0), (3776, 0.0), (3777, 0.013075480419575724), (3778, 0.02269487711224796), (3779, 0.04765596323914998), (3780, 0.003908040165874325), (3781, 0.0), (3782, 0.0), (3783, 0.0), (3784, 0.00981334779122067), (3785, 0.0), (3786, 0.0), (3787, 0.0), (3788, 0.0), (3789, 0.0), (3790, 0.0), (3791, 0.0), (3792, 0.0), (3793, 0.0), (3794, 0.008418650879035216), (3795, 0.0), (3796, 0.0), (3797, 0.01112577063800822), (3798, 0.0), (3799, 0.0038062222938827065), (3800, 0.0), (3801, 0.022666288874739208), (3802, 0.0), (3803, 0.0), (3804, 0.0), (3805, 0.0), (3806, 0.0), (3807, 0.0036778860690427793), (3808, 0.0), (3809, 0.003784282461405326), (3810, 0.019135960573097008), (3811, 0.003654409887064205), (3812, 0.0), (3813, 0.004035887246874465), (3814, 0.0), (3815, 0.0), (3816, 0.0), (3817, 0.0), (3818, 0.0), (3819, 0.003589291344396373), (3820, 0.0), (3821, 0.005292115170798908), (3822, 0.010693183672544453), (3823, 0.0), (3824, 0.0), (3825, 0.005869492999376419), (3826, 0.009651873882836413), (3827, 0.004137699604141218), (3828, 0.01556015392269668), (3829, 0.009275090535242475), (3830, 0.0), (3831, 0.0), (3832, 0.004651926530875116), (3833, 0.0), (3834, 0.0), (3835, 0.026153511863505022), (3836, 0.0), (3837, 0.0), (3838, 0.0), (3839, 0.02349753368441837), (3840, 0.0), (3841, 0.0), (3842, 0.008198145275771593), (3843, 0.0), (3844, 0.0), (3845, 0.003909804707651037), (3846, 0.0), (3847, 0.0), (3848, 0.0), (3849, 0.0), (3850, 0.02733998341356838), (3851, 0.0), (3852, 0.02374645920770003), (3853, 0.014183396863261732), (3854, 0.01146269173613013), (3855, 0.0031523317342165135), (3856, 0.0), (3857, 0.016317325534930816), (3858, 0.0), (3859, 0.0), (3860, 0.00806143700494925), (3861, 0.013859495715577382), (3862, 0.013340327569293903), (3863, 0.0), (3864, 0.006009930941686904), (3865, 0.0055494457610957395), (3866, 0.004240954331925781), (3867, 0.004147773592150717), (3868, 0.027304117236356604), (3869, 0.0), (3870, 0.0), (3871, 0.027084869636781066), (3872, 0.0), (3873, 0.0041136985218024336), (3874, 0.0), (3875, 0.017913262062205216), (3876, 0.00375361356737284), (3877, 0.0), (3878, 0.0), (3879, 0.0), (3880, 0.03283852362475091), (3881, 0.0), (3882, 0.0038593111699129884), (3883, 0.004266826433243546), (3884, 0.0), (3885, 0.0), (3886, 0.0), (3887, 0.0), (3888, 0.0038208866457629686), (3889, 0.0), (3890, 0.003643910883684845), (3891, 0.024304994120393664), (3892, 0.00473181460201713), (3893, 0.004145863811517026), (3894, 0.0), (3895, 0.01655792323631642), (3896, 0.0), (3897, 0.0), (3898, 0.0036019369038500716), (3899, 0.0), (3900, 0.003744391247516365), (3901, 0.004424229957158835), (3902, 0.0040254862332619965), (3903, 0.01131907432768421), (3904, 0.029927419463529576), (3905, 0.0), (3906, 0.0), (3907, 0.0), (3908, 0.0), (3909, 0.005949266216808927), (3910, 0.003411994676952972), (3911, 0.0), (3912, 0.0), (3913, 0.025300996179574296), (3914, 0.0), (3915, 0.004025332697747075), (3916, 0.02215223865047735), (3917, 0.003713964170808559), (3918, 0.0), (3919, 0.010621754672779538), (3920, 0.0041297079984279755), (3921, 0.0), (3922, 0.004791969408458922), (3923, 0.02218963249331219), (3924, 0.013406837729125903), (3925, 0.005430467350377271), (3926, 0.006467757619540849), (3927, 0.021557651505655768), (3928, 0.0032777851919221276), (3929, 0.0), (3930, 0.0), (3931, 0.0), (3932, 0.006982872803098311), (3933, 0.0), (3934, 0.018924857292752964), (3935, 0.0), (3936, 0.0), (3937, 0.0), (3938, 0.0), (3939, 0.0), (3940, 0.00522206523691008), (3941, 0.008015715842375837), (3942, 0.0), (3943, 0.0), (3944, 0.0), (3945, 0.0), (3946, 0.051939669548782215), (3947, 0.03792130887731984), (3948, 0.0), (3949, 0.0), (3950, 0.0), (3951, 0.007189638285264577), (3952, 0.004402745553840863), (3953, 0.0033379795468035803), (3954, 0.009297601434404655), (3955, 0.038594542326991804), (3956, 0.003354572057098499), (3957, 0.0053127414710361625), (3958, 0.014635675947638701), (3959, 0.022755372114663646), (3960, 0.0041425843987134715), (3961, 0.026399868391366915), (3962, 0.004125961980656507), (3963, 0.02654225193168849), (3964, 0.0), (3965, 0.0), (3966, 0.0), (3967, 0.0), (3968, 0.0), (3969, 0.0), (3970, 0.0), (3971, 0.0), (3972, 0.0), (3973, 0.04495244092408416), (3974, 0.003514611386665668), (3975, 0.0), (3976, 0.016816821027953104), (3977, 0.0), (3978, 0.01760614213310896), (3979, 0.0), (3980, 0.0), (3981, 0.0), (3982, 0.0), (3983, 0.03415725432795356), (3984, 0.004050982787728627), (3985, 0.0), (3986, 0.0), (3987, 0.0), (3988, 0.0), (3989, 0.0), (3990, 0.005049688076330534), (3991, 0.0), (3992, 0.014170229405655745), (3993, 0.00838664060226826), (3994, 0.0), (3995, 0.0), (3996, 0.0), (3997, 0.0), (3998, 0.005930923069166343), (3999, 0.011187524248122875), (4000, 0.008666097287468557), (4001, 0.0063799929785093345), (4002, 0.0), (4003, 0.0), (4004, 0.02390983018660656), (4005, 0.03258225174158799), (4006, 0.0), (4007, 0.008362915766279426), (4008, 0.006555150404951601), (4009, 0.00582233849019273), (4010, 0.0), (4011, 0.0036807133926967874), (4012, 0.018138513876039573), (4013, 0.0), (4014, 0.004017327762500083), (4015, 0.0), (4016, 0.022216102461014294), (4017, 0.0), (4018, 0.0), (4019, 0.0), (4020, 0.0037236767180085666), (4021, 0.0), (4022, 0.0), (4023, 0.0), (4024, 0.004029075659590709), (4025, 0.010386956904018535), (4026, 0.0), (4027, 0.0), (4028, 0.0), (4029, 0.0), (4030, 0.0), (4031, 0.0), (4032, 0.007207369612585586), (4033, 0.0038572917516380093), (4034, 0.0), (4035, 0.030701335704939107), (4036, 0.003786256146342064), (4037, 0.0), (4038, 0.003878552344575103), (4039, 0.0), (4040, 0.0), (4041, 0.0), (4042, 0.0), (4043, 0.0), (4044, 0.0), (4045, 0.0), (4046, 0.003995973370671029), (4047, 0.0), (4048, 0.009953102905809707), (4049, 0.0), (4050, 0.016849912697882514), (4051, 0.004192084953670604), (4052, 0.006771548392423783), (4053, 0.017957470484166856), (4054, 0.00387349940785118), (4055, 0.0056314879467107845), (4056, 0.0038453281992874002), (4057, 0.005741196098578444), (4058, 0.0), (4059, 0.0), (4060, 0.008316780036094698), (4061, 0.006718831653659555), (4062, 0.05293220960438007), (4063, 0.0), (4064, 0.0), (4065, 0.0), (4066, 0.0033911814584116854), (4067, 0.0), (4068, 0.012563850741563189), (4069, 0.0036046667034158497), (4070, 0.0), (4071, 0.0), (4072, 0.0), (4073, 0.0), (4074, 0.003304587540655696), (4075, 0.0), (4076, 0.0), (4077, 0.00685330445428762), (4078, 0.0), (4079, 0.00414129622483251), (4080, 0.0), (4081, 0.014762802865353059), (4082, 0.005066022907906356), (4083, 0.0), (4084, 0.0), (4085, 0.003574553642573573), (4086, 0.0), (4087, 0.004185827221317151), (4088, 0.017496318160283016), (4089, 0.0), (4090, 0.0), (4091, 0.0), (4092, 0.004198950755559285), (4093, 0.0), (4094, 0.0), (4095, 0.010815478956092767), (4096, 0.030314859298586627), (4097, 0.0), (4098, 0.004013201021019353), (4099, 0.0061051445072737385), (4100, 0.0), (4101, 0.004112459625058974), (4102, 0.0), (4103, 0.0), (4104, 0.02378518256473677), (4105, 0.0), (4106, 0.005786613310438012), (4107, 0.0), (4108, 0.0), (4109, 0.0), (4110, 0.00610197378247283), (4111, 0.004028212918007399), (4112, 0.0), (4113, 0.004046919316783598), (4114, 0.0), (4115, 0.0), (4116, 0.004056660320401139), (4117, 0.004305658507761141), (4118, 0.009774507052862817), (4119, 0.0), (4120, 0.0), (4121, 0.009715085350469797), (4122, 0.0), (4123, 0.04040050600471955), (4124, 0.008692002697062386), (4125, 0.0), (4126, 0.0), (4127, 0.0), (4128, 0.02510841089450022), (4129, 0.0), (4130, 0.0040148438575447355), (4131, 0.0), (4132, 0.0), (4133, 0.0040840727546360275), (4134, 0.009532719282318119), (4135, 0.0037627226124610762), (4136, 0.0), (4137, 0.03707043375919406), (4138, 0.003989579692614897), (4139, 0.0), (4140, 0.0), (4141, 0.030733735600006706), (4142, 0.0), (4143, 0.0034008981186185575), (4144, 0.0), (4145, 0.0), (4146, 0.0), (4147, 0.0), (4148, 0.0), (4149, 0.018165621236469583), (4150, 0.0), (4151, 0.006576918561698878), (4152, 0.0035251250742720356), (4153, 0.0), (4154, 0.0034061205203760963), (4155, 0.0), (4156, 0.019834028709436582), (4157, 0.0), (4158, 0.005442120090153114), (4159, 0.0), (4160, 0.004147340689496088), (4161, 0.0), (4162, 0.0), (4163, 0.004512033735268686), (4164, 0.007940260235193269), (4165, 0.03275725201035645), (4166, 0.0), (4167, 0.0), (4168, 0.0), (4169, 0.0), (4170, 0.0), (4171, 0.002680158128121652), (4172, 0.0), (4173, 0.0), (4174, 0.0), (4175, 0.02766702296005315), (4176, 0.017253849513135824), (4177, 0.028844218325470267), (4178, 0.00379673253491263), (4179, 0.0), (4180, 0.0), (4181, 0.0), (4182, 0.00792105821910556), (4183, 0.003651727981428311), (4184, 0.0), (4185, 0.0), (4186, 0.0), (4187, 0.004062341659387563), (4188, 0.0), (4189, 0.018183517478302873), (4190, 0.0), (4191, 0.0), (4192, 0.01181728964456972), (4193, 0.0), (4194, 0.0), (4195, 0.0), (4196, 0.006902290837750721), (4197, 0.0), (4198, 0.0), (4199, 0.0), (4200, 0.0), (4201, 0.0), (4202, 0.005179128258218745), (4203, 0.011229047918617672), (4204, 0.0), (4205, 0.00941711242654469), (4206, 0.0), (4207, 0.0), (4208, 0.0), (4209, 0.031457043454052036), (4210, 0.00627448770977479), (4211, 0.0), (4212, 0.0), (4213, 0.0), (4214, 0.0), (4215, 0.0), (4216, 0.008471143523121656), (4217, 0.006043321430398209), (4218, 0.0), (4219, 0.0), (4220, 0.0), (4221, 0.0), (4222, 0.0), (4223, 0.0), (4224, 0.0), (4225, 0.0), (4226, 0.007006262537436574), (4227, 0.009594459698779768), (4228, 0.0), (4229, 0.0), (4230, 0.0), (4231, 0.01327513618883486), (4232, 0.00788961248816869), (4233, 0.009262895283885039), (4234, 0.0), (4235, 0.008443232464401552), (4236, 0.005975590852207569), (4237, 0.0), (4238, 0.0), (4239, 0.0), (4240, 0.0), (4241, 0.0), (4242, 0.010562238723479429), (4243, 0.004458098876122639), (4244, 0.004518115265340044), (4245, 0.0), (4246, 0.016544238516288005), (4247, 0.0033165175691700446), (4248, 0.0), (4249, 0.003863215014140931), (4250, 0.0), (4251, 0.0), (4252, 0.0), (4253, 0.0), (4254, 0.0), (4255, 0.010038966097178213), (4256, 0.0), (4257, 0.009339888879428174), (4258, 0.0), (4259, 0.00405617353768403), (4260, 0.0), (4261, 0.0065881209388945145), (4262, 0.0), (4263, 0.0), (4264, 0.0), (4265, 0.0), (4266, 0.0038014572172123994), (4267, 0.0), (4268, 0.05056448006765918), (4269, 0.004204668042655456), (4270, 0.0), (4271, 0.0), (4272, 0.005952650004929369), (4273, 0.0), (4274, 0.0), (4275, 0.0), (4276, 0.0), (4277, 0.0), (4278, 0.0), (4279, 0.0), (4280, 0.0), (4281, 0.016733485677139247), (4282, 0.003535287835674511), (4283, 0.020936601522655543), (4284, 0.0037467387588135284), (4285, 0.0), (4286, 0.003976255015435175), (4287, 0.00384165627027838), (4288, 0.01720382159027807), (4289, 0.0), (4290, 0.0), (4291, 0.0), (4292, 0.0), (4293, 0.004253097381602081), (4294, 0.028002748402496797), (4295, 0.004489506763969106), (4296, 0.0), (4297, 0.0), (4298, 0.0), (4299, 0.0), (4300, 0.0), (4301, 0.0), (4302, 0.0), (4303, 0.006325952768256423), (4304, 0.0), (4305, 0.0), (4306, 0.0), (4307, 0.0), (4308, 0.0), (4309, 0.0036507380177965934), (4310, 0.0), (4311, 0.0032059991577889618), (4312, 0.0), (4313, 0.0), (4314, 0.01470884786990762), (4315, 0.0), (4316, 0.0), (4317, 0.0), (4318, 0.0), (4319, 0.0), (4320, 0.0), (4321, 0.017394526351486923), (4322, 0.0), (4323, 0.0), (4324, 0.0), (4325, 0.008241153656672457), (4326, 0.0), (4327, 0.0), (4328, 0.0), (4329, 0.0), (4330, 0.003988248490614422), (4331, 0.0), (4332, 0.0), (4333, 0.004446109420683551), (4334, 0.0038068637781904615), (4335, 0.009919253161666915), (4336, 0.009888120409662568), (4337, 0.006731628065604508), (4338, 0.0), (4339, 0.0), (4340, 0.0), (4341, 0.0), (4342, 0.005740782207808391), (4343, 0.0), (4344, 0.008506387969344368), (4345, 0.0035728656106149533), (4346, 0.0), (4347, 0.0), (4348, 0.0), (4349, 0.015035569851033558), (4350, 0.003383438361911822), (4351, 0.006839150430847655), (4352, 0.0), (4353, 0.0), (4354, 0.0), (4355, 0.0), (4356, 0.003796750133762147), (4357, 0.003912222221829169), (4358, 0.0), (4359, 0.0), (4360, 0.0), (4361, 0.0), (4362, 0.0037023934101635854), (4363, 0.0), (4364, 0.0), (4365, 0.0), (4366, 0.008043230959708152), (4367, 0.0065454051639944905), (4368, 0.004182885527420724), (4369, 0.004178338706928534), (4370, 0.0), (4371, 0.010605716922675909), (4372, 0.0), (4373, 0.004738726427995326), (4374, 0.011761726988123283), (4375, 0.08536159292817992), (4376, 0.0), (4377, 0.0), (4378, 0.0), (4379, 0.013192392034821688), (4380, 0.017968372814173315), (4381, 0.0), (4382, 0.02070547328701681), (4383, 0.0), (4384, 0.0), (4385, 0.005389191327704124), (4386, 0.0), (4387, 0.012195760681064996), (4388, 0.006325463383361003), (4389, 0.05454199347380152), (4390, 0.0), (4391, 0.0), (4392, 0.0), (4393, 0.0), (4394, 0.0036334457980051723), (4395, 0.017011286760497357), (4396, 0.03505298250349294), (4397, 0.0), (4398, 0.01703192194810535), (4399, 0.014207572698688102), (4400, 0.0), (4401, 0.004042028754961626), (4402, 0.02766943176700447), (4403, 0.015326138351860412), (4404, 0.0), (4405, 0.0), (4406, 0.0), (4407, 0.0), (4408, 0.0), (4409, 0.0), (4410, 0.0), (4411, 0.003257347027485378), (4412, 0.00461056712775205), (4413, 0.0), (4414, 0.0), (4415, 0.0), (4416, 0.0), (4417, 0.0), (4418, 0.0), (4419, 0.004010613442923551), (4420, 0.0038692100636563134), (4421, 0.0), (4422, 0.00392751483983819), (4423, 0.0), (4424, 0.0), (4425, 0.0), (4426, 0.0), (4427, 0.0), (4428, 0.0), (4429, 0.0033734342528890953), (4430, 0.003948311954557004), (4431, 0.0), (4432, 0.003271601408442199), (4433, 0.0), (4434, 0.0), (4435, 0.00935689788521006), (4436, 0.01637604953264664), (4437, 0.0), (4438, 0.0), (4439, 0.0), (4440, 0.007638594017902418), (4441, 0.0), (4442, 0.00852389123635135), (4443, 0.0044934073165309295), (4444, 0.004783579745278508), (4445, 0.0), (4446, 0.0040656787532937985), (4447, 0.0), (4448, 0.004192090959836777), (4449, 0.0), (4450, 0.02478857073382982), (4451, 0.0), (4452, 0.0), (4453, 0.0), (4454, 0.0), (4455, 0.0), (4456, 0.04571597626848057), (4457, 0.0), (4458, 0.0), (4459, 0.005849146940336176), (4460, 0.0), (4461, 0.0), (4462, 0.0), (4463, 0.0), (4464, 0.0), (4465, 0.019747012250443854), (4466, 0.015121330999793042), (4467, 0.006388545821739118), (4468, 0.0), (4469, 0.010875574069970967), (4470, 0.0038985240518315785), (4471, 0.0), (4472, 0.0035838427196587244), (4473, 0.003255866888529625), (4474, 0.009033705764123958), (4475, 0.01291397892571744), (4476, 0.0), (4477, 0.004443024087515095), (4478, 0.0), (4479, 0.0034946834308841506), (4480, 0.0), (4481, 0.008296057418597675), (4482, 0.014493519702861944), (4483, 0.0), (4484, 0.00490301294818615), (4485, 0.0), (4486, 0.006444688824628354), (4487, 0.0037155060122171495), (4488, 0.03621685615564381), (4489, 0.00396612585789143), (4490, 0.004413735509196178), (4491, 0.0), (4492, 0.018699663200365712), (4493, 0.0), (4494, 0.004257900017679294), (4495, 0.0), (4496, 0.0), (4497, 0.0), (4498, 0.0), (4499, 0.0), (4500, 0.0), (4501, 0.00386090932298766), (4502, 0.011404080922799886), (4503, 0.0465895626930033), (4504, 0.014565407719940013), (4505, 0.0), (4506, 0.0), (4507, 0.004142881854026807), (4508, 0.0), (4509, 0.0), (4510, 0.009259424081261344), (4511, 0.009871871237712694), (4512, 0.009561804060882473), (4513, 0.0), (4514, 0.0), (4515, 0.0), (4516, 0.004227840922010483), (4517, 0.004284028948995922), (4518, 0.0), (4519, 0.0), (4520, 0.00406045793032524), (4521, 0.004608449108914852), (4522, 0.004203314769568746), (4523, 0.003485390369052246), (4524, 0.0074206292529067144), (4525, 0.0), (4526, 0.0), (4527, 0.0), (4528, 0.004130257746052381), (4529, 0.0), (4530, 0.0038147616821915717), (4531, 0.009410409442110879), (4532, 0.0), (4533, 0.0037413899665272544), (4534, 0.017251142795921562), (4535, 0.004016225580357639), (4536, 0.0036860685079911967), (4537, 0.0), (4538, 0.0), (4539, 0.0), (4540, 0.0), (4541, 0.0), (4542, 0.0), (4543, 0.0), (4544, 0.0), (4545, 0.0), (4546, 0.005085239295092742), (4547, 0.0), (4548, 0.02434874249751117), (4549, 0.0), (4550, 0.0), (4551, 0.013330799834545552), (4552, 0.0), (4553, 0.008162884186413614), (4554, 0.016921837570883627), (4555, 0.005454022114431214), (4556, 0.0), (4557, 0.009050400735432068), (4558, 0.0), (4559, 0.0), (4560, 0.0), (4561, 0.0), (4562, 0.0), (4563, 0.003895073397184394), (4564, 0.006170240692076957), (4565, 0.0), (4566, 0.003932415986295887), (4567, 0.0), (4568, 0.0), (4569, 0.0), (4570, 0.0), (4571, 0.005763303412300129), (4572, 0.0), (4573, 0.0038714310795594713), (4574, 0.0), (4575, 0.004173163653271712), (4576, 0.005954813954355932), (4577, 0.0), (4578, 0.0), (4579, 0.0), (4580, 0.0), (4581, 0.008826742590433924), (4582, 0.0), (4583, 0.015146941226457303), (4584, 0.0), (4585, 0.0), (4586, 0.0), (4587, 0.0), (4588, 0.03976630872420996), (4589, 0.004326874742657453), (4590, 0.026567064660646286), (4591, 0.0036059930384444187), (4592, 0.0), (4593, 0.004117090215449199), (4594, 0.036279328831193), (4595, 0.0), (4596, 0.010884117074113872), (4597, 0.0), (4598, 0.0), (4599, 0.0), (4600, 0.0), (4601, 0.003942042154293105), (4602, 0.029007653530692772), (4603, 0.010328436392045778), (4604, 0.0), (4605, 0.006883801542335713), (4606, 0.0), (4607, 0.0), (4608, 0.022109476226158838), (4609, 0.0), (4610, 0.01610711868928234), (4611, 0.0), (4612, 0.0), (4613, 0.0), (4614, 0.05603172338969413), (4615, 0.0), (4616, 0.0), (4617, 0.0050032719608468605), (4618, 0.0), (4619, 0.004419838633383532), (4620, 0.0), (4621, 0.0), (4622, 0.0), (4623, 0.008820061013719077), (4624, 0.004051655417992249), (4625, 0.00426251159398922), (4626, 0.0031668960939332416), (4627, 0.01360337367598811), (4628, 0.0), (4629, 0.0038514228771535973), (4630, 0.0), (4631, 0.0), (4632, 0.004400252124787374), (4633, 0.0), (4634, 0.0), (4635, 0.0), (4636, 0.0032566258740703443), (4637, 0.004536350271307426), (4638, 0.00377071009090803), (4639, 0.0), (4640, 0.0036306383776914487), (4641, 0.0), (4642, 0.0), (4643, 0.003962704389810673), (4644, 0.0), (4645, 0.0), (4646, 0.0), (4647, 0.0), (4648, 0.0), (4649, 0.005758939688341627), (4650, 0.004374649321704873), (4651, 0.0), (4652, 0.004860457752794865), (4653, 0.0), (4654, 0.0), (4655, 0.0), (4656, 0.009484029011163124), (4657, 0.004133798841730593), (4658, 0.01786402284836172), (4659, 0.0), (4660, 0.004472609076166817), (4661, 0.0), (4662, 0.0), (4663, 0.026437306178888047), (4664, 0.0), (4665, 0.0), (4666, 0.0), (4667, 0.0), (4668, 0.003881007325286943), (4669, 0.01373549943654357), (4670, 0.003593338305663677), (4671, 0.0), (4672, 0.0), (4673, 0.01179747044474003), (4674, 0.0030024360679095524), (4675, 0.0), (4676, 0.0), (4677, 0.0), (4678, 0.0), (4679, 0.016523292194438897), (4680, 0.0), (4681, 0.0), (4682, 0.04764011573254092), (4683, 0.0), (4684, 0.024059149272789106), (4685, 0.0065564366243500045), (4686, 0.0), (4687, 0.0), (4688, 0.0), (4689, 0.0), (4690, 0.0), (4691, 0.0), (4692, 0.0), (4693, 0.0), (4694, 0.0), (4695, 0.006586878735942013), (4696, 0.0), (4697, 0.0), (4698, 0.0), (4699, 0.004079924322281828), (4700, 0.0), (4701, 0.02192262388992444), (4702, 0.0), (4703, 0.028344592416702636), (4704, 0.0), (4705, 0.0), (4706, 0.004275979645984869), (4707, 0.0), (4708, 0.0), (4709, 0.0), (4710, 0.004891523907027247), (4711, 0.0), (4712, 0.003617181803913156), (4713, 0.004258080001969507), (4714, 0.0), (4715, 0.0), (4716, 0.0), (4717, 0.0), (4718, 0.004227325594012486), (4719, 0.0), (4720, 0.0), (4721, 0.0), (4722, 0.01462883874545383), (4723, 0.0046792447677460255), (4724, 0.010356113959190194), (4725, 0.0), (4726, 0.0056002785531722565), (4727, 0.03616417072875641), (4728, 0.0), (4729, 0.0), (4730, 0.0), (4731, 0.02209614240530889), (4732, 0.0), (4733, 0.00329186187546184), (4734, 0.004179821672097386), (4735, 0.010079004248245671), (4736, 0.0), (4737, 0.0), (4738, 0.00619880728188443), (4739, 0.020624845393993792), (4740, 0.0), (4741, 0.0), (4742, 0.0), (4743, 0.0), (4744, 0.0), (4745, 0.0), (4746, 0.0), (4747, 0.01016769975882808), (4748, 0.005506911366460102), (4749, 0.0), (4750, 0.0), (4751, 0.0), (4752, 0.0027263394947633743), (4753, 0.0), (4754, 0.0), (4755, 0.0), (4756, 0.0), (4757, 0.0), (4758, 0.0), (4759, 0.0)]\n"
          ]
        }
      ]
    },
    {
      "cell_type": "code",
      "source": [
        "len(Recommendation_Score)"
      ],
      "metadata": {
        "colab": {
          "base_uri": "https://localhost:8080/"
        },
        "id": "faY_W_uV4mk8",
        "outputId": "f7532423-e7ac-4e09-a059-579172ecd364"
      },
      "execution_count": null,
      "outputs": [
        {
          "output_type": "execute_result",
          "data": {
            "text/plain": [
              "4760"
            ]
          },
          "metadata": {},
          "execution_count": 63
        }
      ]
    },
    {
      "cell_type": "markdown",
      "source": [
        "# ***Get all movies sort based on their recommendation score***"
      ],
      "metadata": {
        "id": "sww8F3-A5cgk"
      }
    },
    {
      "cell_type": "code",
      "source": [
        "#sorting the movies based on their similarity score\n",
        "Sorted_Similar_Movies=sorted(Recommendation_Score,key=lambda x:x[1],reverse=True)\n",
        "print(Sorted_Similar_Movies)"
      ],
      "metadata": {
        "colab": {
          "base_uri": "https://localhost:8080/"
        },
        "id": "5Ew7vvNd5mtT",
        "outputId": "09fc1e04-290b-415a-8b88-40ded1dc1953"
      },
      "execution_count": null,
      "outputs": [
        {
          "output_type": "stream",
          "name": "stdout",
          "text": [
            "[(2692, 0.9999999999999999), (4375, 0.08536159292817992), (1383, 0.08066924086386743), (628, 0.08020631705043388), (2558, 0.07837987788714146), (3053, 0.0771524078897408), (1341, 0.07638911041943205), (2538, 0.069007416054952), (1886, 0.06691912138646205), (62, 0.06443227800543808), (1118, 0.06228120462229529), (254, 0.06125592515168568), (2903, 0.06102886261787477), (2318, 0.06050141456021892), (1021, 0.05897843901134437), (2112, 0.05744929905747846), (3728, 0.05692105905252481), (424, 0.056866976392926774), (4614, 0.05603172338969413), (2026, 0.05524929115312266), (1134, 0.0551283626434633), (4389, 0.05454199347380152), (3655, 0.05404641193828002), (384, 0.05338060041541266), (2985, 0.053017992801839164), (4062, 0.05293220960438007), (3385, 0.05277311305318548), (227, 0.052728198068831646), (1243, 0.05232698126836424), (3946, 0.051939669548782215), (282, 0.05166694939999783), (873, 0.05127902609728128), (2214, 0.05072100583827866), (4268, 0.05056448006765918), (3010, 0.04970438575653415), (1070, 0.0497015300936166), (137, 0.04924112600400269), (1970, 0.049204266848430475), (292, 0.04845800144131694), (2294, 0.04845126422460433), (3203, 0.04784694241610142), (3779, 0.04765596323914998), (4682, 0.04764011573254092), (2944, 0.047503098373506504), (3552, 0.047342124360667856), (2550, 0.04726342813361009), (1821, 0.04718021781482855), (213, 0.04697756667007586), (45, 0.04687727055140986), (877, 0.0468768979842219), (1261, 0.04661563030786012), (4503, 0.0465895626930033), (1023, 0.046571618715683195), (3294, 0.046463459153748415), (2133, 0.04645528905266909), (2191, 0.04637933340107516), (1994, 0.04597114043190339), (1030, 0.04590025676407), (519, 0.04587592645010561), (4456, 0.04571597626848057), (3753, 0.045550102576076286), (2653, 0.04554293790664386), (2248, 0.045499261465893684), (3518, 0.04532032952454841), (3973, 0.04495244092408416), (408, 0.04492138616629097), (455, 0.04468262432479941), (2745, 0.044482239588888854), (2630, 0.044096198641433514), (2893, 0.044029419546308325), (328, 0.043361633492880185), (1320, 0.04328703542311396), (3276, 0.04275821117620367), (110, 0.04267116096079757), (2374, 0.04264891864820511), (1652, 0.04254936279188608), (3408, 0.04249708009963441), (1850, 0.04245924615448772), (2694, 0.04219307333073587), (904, 0.04211138449696779), (1257, 0.042010852178727486), (1358, 0.041378640749144796), (3427, 0.04137571119093578), (1506, 0.041079542576835826), (1248, 0.04098890268164286), (1977, 0.04085675596518789), (412, 0.040845324291042095), (1871, 0.040778558698630875), (67, 0.04074085783011909), (1292, 0.04073801531008502), (3249, 0.04073692563039396), (2859, 0.04073310636872967), (615, 0.040688920507009126), (172, 0.04061365007389373), (4123, 0.04040050600471955), (438, 0.040337685838823356), (3209, 0.040187227245422584), (682, 0.03988854171570214), (2869, 0.0398679603606684), (4588, 0.03976630872420996), (210, 0.039426682471042654), (2212, 0.03942663716561853), (2375, 0.03920971756359455), (637, 0.03881761295884984), (185, 0.03879300717099527), (3955, 0.038594542326991804), (1713, 0.03855208323354605), (3409, 0.038549143580413406), (830, 0.038427110160970196), (874, 0.03833733685292379), (1241, 0.03821788798257403), (1527, 0.03813214834704224), (3947, 0.03792130887731984), (1311, 0.037588019547472526), (89, 0.03757490822406303), (2316, 0.03735953026880594), (2321, 0.03729226296980491), (4137, 0.03707043375919406), (1676, 0.036853406045712224), (174, 0.03669621168156949), (788, 0.036668393631468336), (2122, 0.036652727592795385), (44, 0.03663092487482436), (387, 0.03661088593946393), (108, 0.036562921002253855), (3652, 0.036408909244623144), (4594, 0.036279328831193), (4488, 0.03621685615564381), (1024, 0.036198625224568036), (4727, 0.03616417072875641), (710, 0.0360413537916729), (1085, 0.03598437002958935), (2082, 0.035888664074123625), (2716, 0.03579332673161742), (1393, 0.03561646247482407), (578, 0.03538133929592775), (462, 0.0353521445094846), (4396, 0.03505298250349294), (818, 0.03466913408306832), (3004, 0.034668226900925955), (1389, 0.0346215911994025), (2540, 0.0343467320482637), (3480, 0.034269123305475546), (2908, 0.0342643407822555), (3983, 0.03415725432795356), (3486, 0.034017994539343406), (1379, 0.034000646791916875), (1885, 0.03393364479378985), (903, 0.03389032332537223), (1752, 0.03387172432749137), (109, 0.03376290465472184), (2123, 0.03362861847326982), (3351, 0.033530785955235336), (3255, 0.03345164985792947), (2365, 0.033311318567746794), (2706, 0.032984630923884255), (3463, 0.032958387980998614), (2614, 0.03292864827890702), (3880, 0.03283852362475091), (4165, 0.03275725201035645), (787, 0.03268103786989048), (3102, 0.03267448389232716), (2782, 0.032624018219447416), (3498, 0.03261253010076699), (4005, 0.03258225174158799), (3430, 0.032466270184861756), (673, 0.03231559606446986), (2014, 0.03209719690152574), (126, 0.03206508383707334), (2109, 0.03205890004485926), (2622, 0.032025847454718856), (3328, 0.031872944516291565), (1750, 0.03185974791020338), (3572, 0.03184841637216124), (632, 0.03183803833687056), (166, 0.03183347428269769), (2981, 0.031727259633079076), (812, 0.0316778280137331), (65, 0.031673453819872556), (3248, 0.031615698517185896), (1063, 0.03160715088937667), (1982, 0.031516096408843265), (4209, 0.031457043454052036), (3326, 0.03144811351585984), (540, 0.03136023183680965), (935, 0.03130588992077006), (1398, 0.03122796529470661), (1868, 0.031197309330070446), (428, 0.031032717730294666), (694, 0.030939229929307067), (3280, 0.030738428957884124), (4141, 0.030733735600006706), (4035, 0.030701335704939107), (2198, 0.03069843038240084), (1146, 0.03066938462846812), (179, 0.030643553827430944), (430, 0.03060782212616698), (1568, 0.03056737876242557), (1795, 0.03048970624702078), (4096, 0.030314859298586627), (1367, 0.030255436645043453), (2887, 0.030252601056947503), (1560, 0.03021268029938998), (1464, 0.030141524318183135), (2807, 0.030122852750370587), (2972, 0.03009208839519294), (1648, 0.030062264082822553), (3556, 0.02998010275360792), (3904, 0.029927419463529576), (1634, 0.029844612937496427), (2876, 0.0298368885417215), (1272, 0.029516616122239603), (3656, 0.029446791105825848), (2710, 0.029445361551563933), (2476, 0.029383230533703803), (3470, 0.029239500872066452), (2102, 0.029237952078557703), (2802, 0.02915931203081758), (522, 0.029086948383515828), (1405, 0.029047065337236663), (4602, 0.029007653530692772), (25, 0.028981193042397428), (852, 0.02893355388805902), (3313, 0.028909886311493847), (2114, 0.028850814592523255), (4177, 0.028844218325470267), (1068, 0.028824966959386536), (3028, 0.02875841790394021), (1095, 0.028709956293884325), (1499, 0.02866656733746512), (836, 0.02862616112558876), (1046, 0.028557145604151582), (2723, 0.028469601301572573), (3376, 0.028418730418913945), (3017, 0.0283642905669531), (4703, 0.028344592416702636), (2751, 0.028331643126239904), (3127, 0.0282938951133052), (2920, 0.02824345581795574), (465, 0.02816638916350917), (1060, 0.028106589082425915), (3420, 0.028097893937490962), (4294, 0.028002748402496797), (911, 0.027993729225402435), (1205, 0.02792859100372192), (193, 0.02789856431391651), (1809, 0.027760116155164376), (2467, 0.027723143809953776), (4402, 0.02766943176700447), (4175, 0.02766702296005315), (3157, 0.02764427536953932), (3850, 0.02733998341356838), (3868, 0.027304117236356604), (3377, 0.027274329411733533), (112, 0.027219718218824122), (1763, 0.027213002573314042), (3871, 0.027084869636781066), (459, 0.02700849259994492), (2037, 0.026936862928949153), (2777, 0.026887802584039354), (1976, 0.026760006653936377), (3574, 0.026590719974476033), (4590, 0.026567064660646286), (3963, 0.02654225193168849), (4663, 0.026437306178888047), (629, 0.02643143710752574), (2443, 0.026428974123429372), (381, 0.026425309423435912), (176, 0.026422284975342998), (2950, 0.026415580068419743), (3961, 0.026399868391366915), (3447, 0.026386008583318323), (1999, 0.026383021925327873), (3720, 0.026332763827058653), (3428, 0.026320921790128002), (250, 0.026294569760957977), (2413, 0.026291333064245172), (421, 0.02620377512726063), (3835, 0.026153511863505022), (1720, 0.026150316574082694), (2761, 0.026092071058951064), (1186, 0.026045802678292783), (3751, 0.02601424027193118), (824, 0.026012904326760136), (3174, 0.025974220917144446), (2023, 0.025867345806730217), (2762, 0.025866487684257814), (530, 0.02582014208176582), (2408, 0.025814447106233707), (3559, 0.02578917168888089), (3154, 0.025775295421684552), (2481, 0.025706697405179744), (3701, 0.025702774977069014), (241, 0.02561951514867415), (1057, 0.025599323258274135), (2912, 0.025543856525005876), (1283, 0.025529236055509146), (2221, 0.02543720126113255), (641, 0.025389881460081698), (2713, 0.02532525345764865), (3488, 0.025320571354466515), (1544, 0.0253019049779777), (3913, 0.025300996179574296), (1572, 0.02529137751430173), (84, 0.02516886870702351), (864, 0.025144463999697424), (2011, 0.025113317905254097), (4128, 0.02510841089450022), (3254, 0.025092594960130308), (1043, 0.024981764594457917), (3045, 0.024916477684301306), (2157, 0.02483787377934688), (2487, 0.02480526060345184), (4450, 0.02478857073382982), (515, 0.024777338959528102), (269, 0.024685697687910187), (1059, 0.024634261219471664), (2791, 0.02461515944293194), (2699, 0.02460070614540713), (976, 0.02454835772726898), (1973, 0.02451678777533376), (4548, 0.02434874249751117), (1990, 0.02434768617167512), (2449, 0.024328657868651255), (3891, 0.024304994120393664), (398, 0.024174598042280622), (2560, 0.02413497218484924), (2484, 0.024124638482401404), (1707, 0.024096213789984947), (4684, 0.024059149272789106), (1585, 0.024038680672653794), (3450, 0.024011516914207855), (1430, 0.023968643117711776), (4004, 0.02390983018660656), (240, 0.02383859486654652), (3167, 0.023827517880432775), (4104, 0.02378518256473677), (1500, 0.023774623647046574), (1757, 0.023754266781665694), (2649, 0.023747309562592283), (3852, 0.02374645920770003), (2718, 0.023731639891647876), (952, 0.023687965296014926), (1788, 0.023616547023795495), (3285, 0.023566673081609892), (138, 0.023533356868695975), (3839, 0.02349753368441837), (1181, 0.023411680425566413), (2276, 0.023346531689045838), (3344, 0.023282031385319264), (1845, 0.023279224391147234), (2822, 0.023249638058018083), (1749, 0.023187100137968895), (284, 0.023165826737842427), (885, 0.023157908503414714), (613, 0.023085950945273617), (371, 0.023069765190513025), (1935, 0.02296809400231558), (3466, 0.02283955696461133), (3068, 0.022836948238685685), (3959, 0.022755372114663646), (15, 0.02271383866091535), (3778, 0.02269487711224796), (2055, 0.022683319386369208), (3801, 0.022666288874739208), (3319, 0.022655681921101414), (68, 0.022648807910750204), (124, 0.022571818462739923), (2971, 0.022543724713621587), (942, 0.022463855192916646), (1314, 0.022403380287249763), (1351, 0.02236814917432635), (670, 0.0222791059418831), (4016, 0.022216102461014294), (3923, 0.02218963249331219), (3916, 0.02215223865047735), (4608, 0.022109476226158838), (4731, 0.02209614240530889), (1530, 0.022016340271758784), (917, 0.02200008217357021), (4701, 0.02192262388992444), (383, 0.021906657448030675), (1397, 0.021820532897301386), (2767, 0.021759121898601876), (3711, 0.02173650980998732), (3345, 0.0217259838971883), (1505, 0.021608071015850903), (3927, 0.021557651505655768), (832, 0.0213911508698331), (2646, 0.021390564813965462), (566, 0.021377835805324576), (3492, 0.021262905851272024), (2621, 0.021226852069505316), (2362, 0.021145240160844493), (2210, 0.02110271023401569), (706, 0.021041481887844084), (334, 0.020981784833098285), (1515, 0.020960647843462084), (4283, 0.020936601522655543), (2638, 0.0208332023465639), (4382, 0.02070547328701681), (1671, 0.020666020319883967), (2301, 0.020658518303649433), (4739, 0.020624845393993792), (967, 0.02057775732453716), (175, 0.02056057327655618), (3222, 0.020555935599116528), (2995, 0.020503535075521953), (1492, 0.020501862587578176), (3352, 0.020454542597111693), (2040, 0.020342199248131708), (858, 0.020325118416696465), (1052, 0.020229656655991416), (1412, 0.020195494476056425), (1132, 0.020086512887426487), (1141, 0.020001611842596422), (3692, 0.019989737029508098), (330, 0.01998014939744293), (691, 0.019959315938661012), (116, 0.019931068320427438), (763, 0.019930699883402816), (1861, 0.019918733006230073), (795, 0.019883877508793533), (2018, 0.01983443103083975), (4156, 0.019834028709436582), (2469, 0.019765691797557574), (1173, 0.019765077175449085), (4465, 0.019747012250443854), (590, 0.019509198675879184), (3483, 0.01946805878407463), (1865, 0.019424216939366384), (3553, 0.019322623585953047), (2237, 0.019282769343543373), (3469, 0.019229344961569386), (204, 0.019178795807972937), (2885, 0.01915666761330614), (3810, 0.019135960573097008), (3144, 0.019111757600354676), (3153, 0.019103934811729215), (1942, 0.01908332245468828), (364, 0.019064197471759203), (2867, 0.019061626424442393), (3036, 0.019060596363611126), (2647, 0.01901808185559013), (3403, 0.01901254652597071), (33, 0.01898399307064979), (3111, 0.01893582176070781), (3934, 0.018924857292752964), (2841, 0.018916818289644977), (123, 0.018914735336484842), (657, 0.018907008554481994), (1175, 0.01888812867712813), (2689, 0.01884870401441159), (1629, 0.018828386252790864), (1985, 0.018711608492418163), (4492, 0.018699663200365712), (2808, 0.018698744966313706), (1471, 0.018600953238353), (2760, 0.018549738278943052), (2582, 0.01852889769674127), (2035, 0.018468710971168846), (3446, 0.018388084362335435), (3504, 0.018357381019813268), (1245, 0.0182710475503111), (796, 0.01826962548343943), (1385, 0.01826358755402818), (2553, 0.018217656423760376), (4189, 0.018183517478302873), (4149, 0.018165621236469583), (4012, 0.018138513876039573), (870, 0.018138037366321934), (3091, 0.01802660047521966), (1365, 0.018021402273849463), (4380, 0.017968372814173315), (1386, 0.017957637587296543), (4053, 0.017957470484166856), (643, 0.017950597108954275), (3471, 0.017939185519506042), (3875, 0.017913262062205216), (4658, 0.01786402284836172), (2368, 0.017857753517707815), (61, 0.01784396736370516), (85, 0.017840464661215548), (1847, 0.017834307021160054), (2598, 0.017781203659152), (442, 0.017769910642105292), (2513, 0.017725751502088043), (2149, 0.017720254814709947), (553, 0.017709911497735757), (1878, 0.017656815243234335), (2931, 0.01760908218172574), (3978, 0.01760614213310896), (3433, 0.017600481176341932), (1369, 0.017546057220258197), (669, 0.017510701780878726), (4088, 0.017496318160283016), (145, 0.017466189227389427), (1033, 0.01745398695937428), (768, 0.017451350372074154), (2823, 0.01740858452181335), (4321, 0.017394526351486923), (1403, 0.01738378522396696), (947, 0.017372738531813314), (181, 0.017288238673002807), (3665, 0.017278055887137933), (4176, 0.017253849513135824), (4534, 0.017251142795921562), (1675, 0.017237321279087926), (4288, 0.01720382159027807), (2712, 0.01716178166315396), (638, 0.01713579039244227), (3395, 0.017129174392415656), (2347, 0.017126687159341944), (199, 0.01712330990308466), (794, 0.017120433705702955), (2167, 0.017087279398480537), (757, 0.017081650106363387), (409, 0.01707976228900903), (261, 0.017062610174164855), (218, 0.017054360828134458), (4398, 0.01703192194810535), (4395, 0.017011286760497357), (2607, 0.016981872659023543), (1274, 0.01697670572447934), (551, 0.016947737915002356), (4554, 0.016921837570883627), (345, 0.01688870837804499), (1216, 0.016873190325824912), (4050, 0.016849912697882514), (3976, 0.016816821027953104), (1996, 0.016783778953922687), (3306, 0.01674701434741924), (4281, 0.016733485677139247), (776, 0.01666046479552915), (2932, 0.01665154828124185), (106, 0.01664676288785039), (147, 0.01659978331049386), (3895, 0.01655792323631642), (1579, 0.0165505115992805), (4246, 0.016544238516288005), (4679, 0.016523292194438897), (929, 0.016517535807326865), (4436, 0.01637604953264664), (1270, 0.016355869504972788), (2795, 0.01634755232640636), (3541, 0.016332256872404707), (3857, 0.016317325534930816), (251, 0.016316947989569012), (2654, 0.01624514041316599), (3528, 0.016242177421669685), (1817, 0.016227609809915024), (2645, 0.016226401257885048), (437, 0.016198525052536498), (3095, 0.016147305714691102), (547, 0.016128442044811023), (4610, 0.01610711868928234), (3098, 0.016089706752753816), (2027, 0.016089630490089463), (2258, 0.01608117924552693), (2161, 0.01606507670526678), (1609, 0.01604799535267029), (343, 0.01599821259388454), (1377, 0.015993038016468182), (1202, 0.015985288091817706), (1116, 0.01594807168657032), (2070, 0.015916354771005732), (677, 0.01589605070706733), (1838, 0.015887839504545007), (374, 0.015887783958979093), (3558, 0.01585318770476446), (1064, 0.015834009659455188), (358, 0.015823109549180654), (3226, 0.01579766384115776), (1445, 0.015760126028086338), (1510, 0.015695233575450995), (867, 0.015653053350638928), (3362, 0.01564553300570807), (3828, 0.01556015392269668), (209, 0.015532326332685899), (3275, 0.015518106904276333), (2353, 0.015499586509660088), (1003, 0.015499222062694587), (1945, 0.015428507063622966), (934, 0.015406188700676077), (779, 0.015387357034882917), (1872, 0.015355732216941026), (1045, 0.01534596017128673), (2650, 0.015345882318870588), (4403, 0.015326138351860412), (510, 0.015287050872843516), (3019, 0.015283450161177499), (252, 0.015274728577028307), (3000, 0.015242718544887205), (3675, 0.015238959630977518), (3684, 0.015223420730383085), (1512, 0.015207284074180264), (1682, 0.015199547205565489), (4583, 0.015146941226457303), (1361, 0.01513081607212686), (4466, 0.015121330999793042), (3375, 0.015118558551825952), (83, 0.015100365085745722), (3462, 0.015051534534995113), (1128, 0.015041585553330846), (4349, 0.015035569851033558), (2290, 0.015013772843756587), (968, 0.01501089367356513), (3597, 0.01499814865998225), (2376, 0.01498784562262157), (2298, 0.014984126612239556), (1906, 0.014981164570109092), (586, 0.01495474646237055), (1053, 0.014930847620313863), (1741, 0.014906253429942437), (1417, 0.01489104449559663), (1523, 0.01489101487462896), (1112, 0.01479068272387597), (1927, 0.014783036317357386), (4081, 0.014762802865353059), (957, 0.014737675466822206), (4314, 0.01470884786990762), (3284, 0.014708155382890834), (2639, 0.014705280689290038), (2644, 0.014666054878994231), (3580, 0.014659563884960198), (21, 0.014641576209408948), (3958, 0.014635675947638701), (161, 0.014630727042024508), (4722, 0.01462883874545383), (684, 0.014583898393363584), (4504, 0.014565407719940013), (860, 0.014534191058599624), (1880, 0.014524214323370211), (844, 0.014509077052969483), (4482, 0.014493519702861944), (1074, 0.01448665715887838), (458, 0.014460727788531517), (1843, 0.014423967435029007), (3295, 0.014418766683502312), (2406, 0.014416495327232865), (2440, 0.014407431560533809), (937, 0.014402078969226375), (1759, 0.014381917539362443), (3360, 0.01434659022753891), (222, 0.014329331459106214), (1152, 0.014279089233406962), (1384, 0.014259021927443079), (144, 0.014234286342797319), (4399, 0.014207572698688102), (3853, 0.014183396863261732), (3992, 0.014170229405655745), (808, 0.014161273287792353), (2618, 0.014158626786922208), (1774, 0.01415299691108386), (833, 0.014143715919656486), (2119, 0.014138572184909468), (3253, 0.014134459695752022), (287, 0.014130308525723511), (533, 0.014114866727868929), (46, 0.014109621553115658), (1275, 0.01408187823977836), (203, 0.014022207645309844), (2110, 0.013985689045375602), (1895, 0.013984257334058548), (3043, 0.013974343847431337), (2742, 0.013933655031780966), (1184, 0.013930593587982234), (916, 0.013892399723938919), (1331, 0.013863679332062446), (3861, 0.013859495715577382), (3421, 0.013835453854683542), (450, 0.013834549748293387), (496, 0.013821401088580631), (2366, 0.013804020305875506), (1162, 0.013762243031241479), (48, 0.013760246172940273), (2969, 0.013738096325058529), (4669, 0.01373549943654357), (1278, 0.013734050742337772), (701, 0.013731309339067946), (3750, 0.01367955448959676), (2874, 0.013676694665587678), (3630, 0.013650407788695819), (7, 0.013633265414024286), (4627, 0.01360337367598811), (2568, 0.013597775922449599), (2460, 0.01359479427850987), (2522, 0.013589832174888496), (2097, 0.013589583709300863), (13, 0.013575604646465095), (1716, 0.013556109666688894), (3356, 0.013521530854696087), (2474, 0.01347043340581849), (1853, 0.013446696182099049), (2996, 0.013430006921315265), (3924, 0.013406837729125903), (3694, 0.013391222330177529), (534, 0.013374787442189978), (433, 0.013363774926726156), (3086, 0.013361863588999925), (43, 0.013361627638458363), (3862, 0.013340327569293903), (1119, 0.013339497871192502), (4551, 0.013330799834545552), (407, 0.013330621733060122), (584, 0.013328223945796216), (986, 0.013323124383669952), (4231, 0.01327513618883486), (896, 0.013266942707077612), (160, 0.013262272115488718), (2016, 0.013212366847479343), (120, 0.013203783967612445), (545, 0.0131996395997742), (4379, 0.013192392034821688), (1997, 0.01318745428808602), (3612, 0.013181780228768376), (1224, 0.013166914511194349), (2254, 0.013157874294359436), (1401, 0.013154052373749201), (75, 0.01313414590431945), (3129, 0.013106181198577581), (1018, 0.013078156650172049), (3777, 0.013075480419575724), (2000, 0.013073759756404128), (231, 0.013057345827958058), (609, 0.013040310730451131), (2805, 0.013015462785721854), (3731, 0.012977780028585833), (2052, 0.012965895146722315), (543, 0.012961087236067825), (86, 0.012958180091241714), (2917, 0.012946140579366681), (3210, 0.012943320234435002), (3297, 0.012942640494355971), (692, 0.012941775617417411), (87, 0.012921242538016452), (4475, 0.01291397892571744), (622, 0.012911455375976667), (2910, 0.012891890737149253), (3279, 0.012889434694830037), (2284, 0.01287482557779377), (2177, 0.012864496424675775), (2489, 0.01286189362813452), (3437, 0.012861326506192618), (1342, 0.012847775966200466), (2334, 0.012811582504653477), (2053, 0.012802214505581944), (429, 0.012801009805533014), (3374, 0.01278795280473785), (2919, 0.012785570797865513), (879, 0.012777596237070733), (1232, 0.012775128590486656), (270, 0.012766306208949509), (1254, 0.012752618287592951), (296, 0.012748700446884961), (1443, 0.01274865304632027), (502, 0.012725819810618388), (1334, 0.012710691520431115), (3213, 0.012686595388648319), (814, 0.012672892261895627), (2695, 0.012643842697342186), (2934, 0.012641288736072674), (1967, 0.012637565837525405), (1802, 0.012627506272837642), (5, 0.012622851860104424), (2961, 0.01260296008803954), (1239, 0.01259935806086958), (1317, 0.012597142553061911), (906, 0.012590121168743675), (2784, 0.0125697900803118), (4068, 0.012563850741563189), (1160, 0.012537150996100505), (2279, 0.012487981378804833), (51, 0.012470068012453105), (2216, 0.012451115659042238), (1252, 0.01243490401424972), (806, 0.012413705971324358), (370, 0.012406465227227168), (452, 0.012404275082710858), (1129, 0.012394722484956038), (2512, 0.012384105463094021), (1337, 0.012381270857214896), (2886, 0.012380186263293243), (1621, 0.012369474495592463), (3171, 0.012367917061642177), (1360, 0.012296627613076948), (2250, 0.01222840048114458), (1035, 0.012218175686559609), (88, 0.012211506148698396), (3299, 0.012210691717160393), (1919, 0.012208603283711296), (988, 0.012204002401418662), (4387, 0.012195760681064996), (1654, 0.01217854109862317), (989, 0.012177970447293504), (2154, 0.01217415093075539), (1183, 0.012173298024073211), (799, 0.01216866604642732), (2024, 0.01216373088664869), (1376, 0.012150456556532404), (1493, 0.012136698088903147), (329, 0.012124139928912855), (1988, 0.012094285941287176), (3508, 0.012083896633341652), (878, 0.01204770563110569), (1655, 0.012020059619507828), (1665, 0.011996821508827827), (3370, 0.011966428651036417), (676, 0.01196460553848891), (3142, 0.011948004060909744), (3119, 0.011939364498921093), (2275, 0.011930654762210247), (149, 0.011865577469523086), (1293, 0.011839832062913568), (1787, 0.011829764790193754), (4192, 0.01181728964456972), (1721, 0.01179965116002549), (620, 0.011797663949689816), (4673, 0.01179747044474003), (1658, 0.011786825184630836), (4374, 0.011761726988123283), (276, 0.011751850736698707), (2224, 0.011739662278340751), (2868, 0.011734575781646243), (1157, 0.011732201929810056), (52, 0.011729639417937565), (2769, 0.011714439088825431), (2145, 0.011704964204023602), (236, 0.011677675261562884), (434, 0.01162051137712017), (3228, 0.011610648992006582), (1310, 0.011600566597057181), (1714, 0.01159427254041256), (3524, 0.01158251599455129), (866, 0.011580898669682614), (648, 0.011562218236946547), (3094, 0.011547106632559364), (853, 0.01154590617288491), (2116, 0.011535208955931676), (511, 0.011511293875624022), (1595, 0.011506792191660073), (3854, 0.01146269173613013), (895, 0.011457890607140623), (899, 0.011423375802972018), (1114, 0.011423235478941586), (1739, 0.011414611280327917), (4502, 0.011404080922799886), (1870, 0.011376023017453097), (2051, 0.011336901452481549), (3903, 0.01131907432768421), (130, 0.011317832586893962), (816, 0.011313833579514683), (2049, 0.011313012067416646), (1000, 0.01130051704301983), (1237, 0.011275137336331719), (1290, 0.011259459207136812), (1050, 0.011258281402967047), (2005, 0.011238496452300618), (4203, 0.011229047918617672), (3999, 0.011187524248122875), (1387, 0.011183127831353834), (847, 0.011180061277956723), (2915, 0.011165037827645143), (1971, 0.011159935973478325), (3637, 0.011155336623477778), (2065, 0.011150262683702514), (2740, 0.011147722896002035), (3797, 0.01112577063800822), (2096, 0.011100601924699235), (208, 0.011098289564791097), (2602, 0.011051077786100264), (317, 0.01104729625976447), (1249, 0.011008595433214726), (2601, 0.010996251508988008), (762, 0.010971409155325811), (733, 0.010958167630023339), (0, 0.01094864665824994), (2412, 0.010943522945476743), (3067, 0.01092877845588805), (1058, 0.010927473608718418), (1897, 0.01090918188521953), (653, 0.010903747792778066), (2688, 0.010902595266580765), (4596, 0.010884117074113872), (1465, 0.01087997885205211), (4469, 0.010875574069970967), (1090, 0.010838879703627388), (4095, 0.010815478956092767), (342, 0.01078284513384005), (1685, 0.010723642374910053), (1619, 0.01071943237296133), (2436, 0.010707787882787197), (3218, 0.010702712999224324), (3822, 0.010693183672544453), (2464, 0.010689924449942958), (2447, 0.010662251391387153), (760, 0.01065288925599712), (1951, 0.010651938096330416), (948, 0.010646226128087776), (3919, 0.010621754672779538), (1957, 0.010617464643086187), (472, 0.0106148890997028), (3756, 0.01061189265823282), (4371, 0.010605716922675909), (1006, 0.010599752194967563), (4242, 0.010562238723479429), (3667, 0.010559307512155445), (842, 0.010547108899988165), (3535, 0.010518610469941196), (1779, 0.010510940053139801), (3645, 0.010497692303630785), (555, 0.010459821743308954), (2939, 0.01043376852672274), (2727, 0.010431611892058672), (2494, 0.010426470967401697), (482, 0.010422730184333033), (3386, 0.010394920593299828), (4025, 0.010386956904018535), (470, 0.010384256030118248), (2277, 0.010377571250726846), (1182, 0.010369722637405399), (4724, 0.010356113959190194), (1798, 0.010354416818893774), (538, 0.010344909536326318), (2633, 0.01034449473421976), (1876, 0.010337613258106467), (2144, 0.010335743833386035), (57, 0.01033351381520232), (4603, 0.010328436392045778), (3317, 0.010312827280987081), (2925, 0.01030399633505525), (2988, 0.010302995502865972), (1382, 0.010298152232013533), (464, 0.010290295768051357), (1674, 0.01028834436066591), (1343, 0.01027979396730714), (173, 0.010270457787663612), (3708, 0.01026944223162103), (1075, 0.01026611862116107), (1192, 0.010258291445810133), (2977, 0.010253016721792874), (406, 0.010248694475211463), (1015, 0.010238239329221183), (3689, 0.010185077598703525), (1815, 0.010168328096172387), (4747, 0.01016769975882808), (3741, 0.01016230803383986), (3643, 0.01016070104464409), (2798, 0.010156348960033604), (1020, 0.010156018208799446), (1475, 0.010142991599253652), (2155, 0.010135288201149353), (2486, 0.010126476213796998), (461, 0.010125976546674964), (1678, 0.010091895827097984), (4735, 0.010079004248245671), (1148, 0.01005508614946094), (2668, 0.010054807268878679), (3346, 0.010052275947126507), (4255, 0.010038966097178213), (2812, 0.01003129824310586), (1019, 0.010021654042986508), (527, 0.010018984967436131), (368, 0.010002172276252833), (2008, 0.00999812999211937), (2744, 0.009995931313218916), (897, 0.009990632775711602), (689, 0.009987906214296906), (1418, 0.009983417604762962), (280, 0.009975615855115163), (3373, 0.00997370033531397), (2087, 0.009965156281644752), (1806, 0.00996069642939225), (4048, 0.009953102905809707), (850, 0.009948046628369513), (2468, 0.009945873585485243), (19, 0.009941515679848235), (1077, 0.009934371051668526), (79, 0.009930856838470135), (2524, 0.00992587363399321), (4335, 0.009919253161666915), (905, 0.009918530851385849), (1413, 0.009905112596505566), (104, 0.009894856848650414), (82, 0.009894454664640314), (2045, 0.009894340699360335), (207, 0.009888127914978073), (4336, 0.009888120409662568), (3237, 0.009882501808042555), (775, 0.00987871104929495), (4511, 0.009871871237712694), (3453, 0.009871203736632918), (281, 0.009854868819303515), (2174, 0.009852624350906222), (2849, 0.009851837529310594), (3245, 0.009847795390172796), (2346, 0.009846610904441637), (753, 0.009842833475731524), (2632, 0.009825059698963717), (353, 0.009824942772986246), (962, 0.00982188444072095), (3784, 0.00981334779122067), (224, 0.0098047091039766), (1017, 0.009787863489573993), (4118, 0.009774507052862817), (697, 0.00977390825866967), (2831, 0.009767435918127851), (3312, 0.009756630415967239), (1730, 0.009744635565614822), (2980, 0.00973457254104154), (4121, 0.009715085350469797), (3151, 0.009711524340099056), (1591, 0.009710481414145529), (29, 0.00970134927178818), (1446, 0.009691627706475631), (683, 0.009690741381633661), (1710, 0.009682288292729348), (2121, 0.009671706048628737), (1519, 0.009661782178746886), (3826, 0.009651873882836413), (119, 0.009639846892898263), (2103, 0.009629541693599008), (3407, 0.009609386926840867), (3192, 0.009603539504214715), (838, 0.009597725672398878), (2473, 0.009596332081817722), (4227, 0.009594459698779768), (3110, 0.009566323358657655), (4512, 0.009561804060882473), (1864, 0.00955757774268369), (1858, 0.00955059447493489), (197, 0.00954907997522729), (4134, 0.009532719282318119), (1255, 0.009532359611403423), (966, 0.009531705613001032), (332, 0.009521566459023582), (3399, 0.009511118688887998), (2265, 0.009499541155199544), (651, 0.009498152637201256), (4656, 0.009484029011163124), (675, 0.009483268437767622), (3240, 0.009480653251967291), (2698, 0.009476777059588389), (356, 0.009459601037181943), (162, 0.009451816198226147), (667, 0.009446950982077935), (1125, 0.0094451733450376), (4205, 0.00941711242654469), (4531, 0.009410409442110879), (1754, 0.009406593636371875), (3659, 0.009397835335851533), (1220, 0.00939415055935742), (1832, 0.009393365016736134), (180, 0.009387972478683771), (3259, 0.009385954483605843), (4435, 0.00935689788521006), (1705, 0.009353805602640885), (2978, 0.009348983788671245), (1432, 0.00934552620845572), (742, 0.009341883060625418), (4257, 0.009339888879428174), (1371, 0.009323128019117825), (1874, 0.009322403376699566), (2143, 0.00932082103679982), (3954, 0.009297601434404655), (963, 0.009297043824263568), (2196, 0.009296912333045863), (1727, 0.009290361544882369), (1764, 0.009279485637351368), (3829, 0.009275090535242475), (544, 0.009270553057329519), (1736, 0.00926940744960119), (4233, 0.009262895283885039), (4510, 0.009259424081261344), (2780, 0.009255468962675473), (1206, 0.009251165137705629), (1514, 0.00924717939036769), (183, 0.009243077985365307), (900, 0.009237940727582755), (385, 0.009232101662863222), (307, 0.009231179084896105), (2803, 0.009229664618486413), (3586, 0.009228279757057967), (1009, 0.009226895840232938), (418, 0.009219461891823755), (734, 0.009217506872088888), (3382, 0.009209868133410109), (994, 0.009203796248440045), (3642, 0.009202893248024254), (2739, 0.009192719174607636), (201, 0.009192069672027006), (242, 0.009161532869028127), (1388, 0.009160767702948287), (3389, 0.009157163360692317), (1735, 0.009156881175727088), (2126, 0.00915226247187206), (485, 0.009151233790180286), (1308, 0.009149584799771151), (1949, 0.009144448440460556), (463, 0.009140838352311642), (3767, 0.00912698704658443), (3699, 0.00911618326122247), (1875, 0.00911434826564327), (654, 0.009102931328670462), (2235, 0.009093477241602168), (1762, 0.009079638107272584), (2546, 0.009077959875872392), (1185, 0.009073969319262104), (483, 0.009073150287373113), (1539, 0.00906552469106649), (1690, 0.009065191308201223), (1477, 0.009057785824407104), (4557, 0.009050400735432068), (918, 0.009049262040719533), (3108, 0.009036141809971553), (3334, 0.009035719489803301), (4474, 0.009033705764123958), (3579, 0.00903100063369348), (1436, 0.009022939643654445), (1234, 0.009017465400946308), (1920, 0.009015370880560402), (800, 0.009006517923220103), (1339, 0.009001805433835849), (3634, 0.008972960520321243), (3155, 0.008961560459737073), (2080, 0.008945775787643934), (542, 0.008930932578873452), (936, 0.008928492540962773), (3670, 0.00891757872313872), (1440, 0.00891744209630304), (1542, 0.008875912219934817), (931, 0.008875786842653038), (2933, 0.008865224505495636), (869, 0.008864196013630189), (1934, 0.008861057280345832), (32, 0.008855161468010872), (705, 0.008850599800058988), (1948, 0.008847423110266258), (1419, 0.008845952302727928), (447, 0.008843345118053191), (4581, 0.008826742590433924), (4623, 0.008820061013719077), (1136, 0.008819916504960081), (3065, 0.008817458823678242), (908, 0.008809892170549248), (2975, 0.008791190180099372), (494, 0.008759167312677008), (732, 0.008756388275527119), (403, 0.008748878760644261), (2603, 0.008741974454350336), (360, 0.008739001401095915), (1406, 0.008720829269720275), (1922, 0.00871896809861314), (1215, 0.00871517206824888), (105, 0.008697558592200328), (4124, 0.008692002697062386), (1937, 0.008685309277916645), (924, 0.008679527064723178), (3, 0.008673413641898805), (4000, 0.008666097287468557), (3096, 0.008638277957989549), (1455, 0.008618047045822407), (244, 0.008617882000413102), (60, 0.008614631829066015), (2206, 0.00859913369081125), (3582, 0.00857166674880123), (3118, 0.008567395031467532), (2918, 0.008551899411872264), (441, 0.00854600333903309), (396, 0.008535432086372773), (4442, 0.00852389123635135), (3418, 0.00851598334998727), (4344, 0.008506387969344368), (1231, 0.008499975165988282), (1630, 0.00848305094700954), (1950, 0.008477686871056742), (4216, 0.008471143523121656), (2752, 0.008449515725407622), (4235, 0.008443232464401552), (2211, 0.008434028389983077), (1230, 0.00842200735536537), (3794, 0.008418650879035216), (142, 0.008399114507862597), (3993, 0.00838664060226826), (4007, 0.008362915766279426), (719, 0.008362414161920354), (2280, 0.008362118572479264), (1854, 0.008347729083369069), (2555, 0.008344498345946045), (1992, 0.008322159691076166), (500, 0.008322032634853578), (4060, 0.008316780036094698), (1743, 0.008309499111580082), (3232, 0.008300648926093442), (4481, 0.008296057418597675), (63, 0.008292573479697845), (2563, 0.008281269861069163), (113, 0.0082718672595609), (843, 0.008270575908570285), (3465, 0.008248899553136079), (2897, 0.008246084599193713), (828, 0.008242969946338831), (790, 0.008241356539222346), (4325, 0.008241153656672457), (3152, 0.00822185408748081), (827, 0.00822168467558008), (939, 0.008218756444349959), (3842, 0.008198145275771593), (616, 0.008185542029330875), (2871, 0.008170150463864616), (2844, 0.008167605445035163), (4553, 0.008162884186413614), (309, 0.008161671011134793), (915, 0.008147253721992993), (3267, 0.008141293783042399), (156, 0.00813872056831745), (1680, 0.008127507359100582), (1797, 0.008097983414073513), (801, 0.008085422898363453), (170, 0.008084231590149583), (3860, 0.00806143700494925), (285, 0.008044350975672939), (4366, 0.008043230959708152), (3941, 0.008015715842375837), (3070, 0.008011207903681006), (829, 0.007996204812825852), (122, 0.007971158148860237), (148, 0.007966850271320004), (4164, 0.007940260235193269), (695, 0.007936282102986265), (1236, 0.007930062613756067), (4182, 0.00792105821910556), (1348, 0.007890633558543098), (4232, 0.00788961248816869), (1005, 0.007883114489670322), (1747, 0.007873866485541992), (1061, 0.007854916266904356), (1816, 0.007837924526884733), (2306, 0.007815790659512111), (501, 0.007805533857643586), (271, 0.007801786144388907), (2264, 0.007798416580808167), (333, 0.0077897474721625205), (2809, 0.007778064663803333), (1694, 0.007742744937145615), (3099, 0.007738590205976226), (3316, 0.007727841011615683), (125, 0.007722065454710917), (1115, 0.007719939683269149), (1776, 0.007719879546639403), (2913, 0.00771451509061382), (4440, 0.007638594017902418), (266, 0.007624206713772362), (2617, 0.007589945830758908), (1790, 0.0074956410661849915), (4524, 0.0074206292529067144), (1300, 0.007416141765749048), (402, 0.007388900158369708), (3256, 0.007367813241384574), (1708, 0.007347352557115737), (1306, 0.0073221896363545105), (2076, 0.007321276607967302), (582, 0.007301462116142161), (1442, 0.00729375236671973), (3423, 0.007281720042065867), (3384, 0.007280959739006664), (1014, 0.0072678379645279255), (3661, 0.007265629212516666), (2417, 0.007255619611774938), (2505, 0.007247785142915802), (949, 0.007228795880707994), (1712, 0.007227107324197422), (4032, 0.007207369612585586), (1069, 0.00719370654245902), (3951, 0.007189638285264577), (2403, 0.0071894392328529415), (2936, 0.0071753505964554445), (243, 0.007153399600830895), (283, 0.007143171658891381), (2843, 0.007127705314236448), (435, 0.007122183371458547), (3008, 0.007114148582456533), (940, 0.007053328221515874), (3039, 0.007048047142798179), (2209, 0.007045119786907782), (1799, 0.00703719110534526), (2510, 0.007036707117637816), (4226, 0.007006262537436574), (668, 0.007002358312777346), (3932, 0.006982872803098311), (2873, 0.006982624809229538), (40, 0.0069649240774342916), (537, 0.006939595344684912), (1770, 0.0069202505026323404), (3387, 0.006915806512873417), (715, 0.0069096674974472696), (4196, 0.006902290837750721), (2339, 0.006890914464331342), (2101, 0.006884383165350355), (4605, 0.006883801542335713), (2244, 0.006864207159271339), (1841, 0.006859358938198989), (737, 0.006854856016723973), (4077, 0.00685330445428762), (3599, 0.006848780965484981), (3137, 0.006845695527664666), (1509, 0.0068456240482698645), (4351, 0.006839150430847655), (635, 0.0068313288078797295), (340, 0.006775664132414346), (4052, 0.006771548392423783), (369, 0.0067566970573119545), (4337, 0.006731628065604508), (1486, 0.006731026539494006), (4061, 0.006718831653659555), (1124, 0.00671801383980092), (2545, 0.0067175610158372295), (3648, 0.0067047624081281775), (3515, 0.006682378078457828), (1737, 0.00667925096650358), (2418, 0.006669372352923694), (2708, 0.006655876418596178), (1099, 0.006651959856546134), (363, 0.006648787540931612), (2303, 0.006640973278195503), (1583, 0.0066408274185169505), (1718, 0.00663419835508709), (1276, 0.0066124260689767785), (2565, 0.006609618658066216), (1812, 0.00660716148199992), (232, 0.006605503021863048), (1407, 0.006602642273361357), (1359, 0.0065971239245446655), (3264, 0.00659434528674701), (4261, 0.0065881209388945145), (4695, 0.006586878735942013), (4151, 0.006576918561698878), (3457, 0.006565781972379785), (4685, 0.0065564366243500045), (4008, 0.006555150404951601), (600, 0.006547293424786512), (4367, 0.0065454051639944905), (301, 0.006545027512970094), (341, 0.006543055011378871), (752, 0.006542219566552778), (1195, 0.006536431558393599), (2964, 0.006535120544844837), (1266, 0.00652383392958309), (523, 0.006523138505615598), (386, 0.006513109310426386), (3536, 0.006507625108274023), (2726, 0.006507591862759795), (446, 0.006504491720732588), (3596, 0.0065004519460278715), (748, 0.006488187199742838), (1873, 0.006484115384295145), (1526, 0.00648002532405426), (3926, 0.006467757619540849), (2193, 0.0064627216059930685), (1048, 0.0064615676218630165), (2732, 0.006450585749375566), (1860, 0.006449041761186861), (1911, 0.006447203090604123), (2309, 0.006446986009647279), (4486, 0.006444688824628354), (2691, 0.006437866040925405), (1250, 0.006437262053301793), (413, 0.00643526342040658), (1262, 0.006430631518318071), (3733, 0.006424965778245154), (3747, 0.006419820341055817), (1345, 0.006414534872285334), (1172, 0.006405017151827594), (1461, 0.006401599819143446), (2816, 0.006399506180767205), (782, 0.006394819769839582), (4467, 0.006388545821739118), (131, 0.006387617337731187), (1761, 0.006384702139599624), (631, 0.0063801536863942535), (4001, 0.0063799929785093345), (1396, 0.006363294008796982), (2640, 0.006359560151808978), (56, 0.006358695646805897), (809, 0.0063482540293610555), (1302, 0.006346725157114567), (1494, 0.006346529250931254), (1773, 0.0063313565459330425), (4303, 0.006325952768256423), (4388, 0.006325463383361003), (671, 0.006325124330326177), (1094, 0.006321456721088321), (3265, 0.006320646439206202), (821, 0.0063188312050854335), (3632, 0.00631328104894245), (3416, 0.006311984069004167), (1688, 0.0063070056456145), (1551, 0.0063063227539097415), (313, 0.006305545420911466), (1908, 0.006295509189784544), (1986, 0.006289428001127119), (1936, 0.006287130395294924), (817, 0.006281326093108924), (778, 0.00628026940905789), (1111, 0.0062793737538309035), (4210, 0.00627448770977479), (1644, 0.006271831251307398), (2421, 0.0062701092777337755), (2503, 0.006266303369506562), (1374, 0.006258996463573864), (1087, 0.006255368817614987), (2335, 0.006246445122952533), (1612, 0.006219220505839148), (2463, 0.006212245517615406), (521, 0.006207359086140878), (22, 0.006199065481401452), (4738, 0.00619880728188443), (758, 0.006197938397451915), (3066, 0.006196204190904335), (3594, 0.006196152969747188), (2480, 0.006194687369993442), (346, 0.006185299918052316), (3033, 0.00618424129370349), (1420, 0.006181660290935554), (1012, 0.006171053054530713), (4564, 0.006170240692076957), (1692, 0.006167420230408744), (921, 0.0061642600005803756), (2095, 0.006161175594607343), (3566, 0.00615623917306772), (322, 0.006150397546431847), (1852, 0.006149686969876805), (3325, 0.0061454434396613754), (1501, 0.006144343946008234), (618, 0.00613958715493792), (3288, 0.006136525610534996), (2759, 0.0061353124106428725), (321, 0.006134476783839672), (1425, 0.006133023065431913), (182, 0.00613196350556707), (3309, 0.0061319019944053935), (1096, 0.006126983654908172), (2202, 0.006125194296855603), (834, 0.006122810333243355), (1329, 0.006119297790333312), (1238, 0.006116011239356863), (1567, 0.006115657894568289), (1849, 0.006114586215819799), (1807, 0.006113844784660134), (1867, 0.006109066552994864), (4099, 0.0061051445072737385), (4110, 0.00610197378247283), (2160, 0.0060958855827839215), (1226, 0.0060917301443539455), (1696, 0.00608453152904311), (1552, 0.006070276934026808), (273, 0.006068895341533567), (3046, 0.006062409863769537), (4217, 0.006043321430398209), (2239, 0.006040717074165163), (3512, 0.0060355477388687), (230, 0.0060326967392632805), (3023, 0.006026107036085886), (1307, 0.006023530055139223), (568, 0.006011709709808648), (3864, 0.006009930941686904), (449, 0.006003589842764282), (3085, 0.005996046682927432), (164, 0.0059923898400308356), (2572, 0.005991097056523449), (3426, 0.005990387625056327), (300, 0.005989290211768888), (2056, 0.005988819201481633), (468, 0.005986097913141654), (4236, 0.005975590852207569), (263, 0.005971487406143434), (4576, 0.005954813954355932), (4272, 0.005952650004929369), (3909, 0.005949266216808927), (1913, 0.005943739500527541), (835, 0.00594111536869385), (2680, 0.0059327785351508955), (1746, 0.005932558743067952), (3998, 0.005930923069166343), (2426, 0.005923129385856351), (2517, 0.005915107034528947), (9, 0.005904300438104764), (1267, 0.005902586698728486), (248, 0.005898890331694965), (1793, 0.00589434175954579), (1664, 0.005893006762687037), (1327, 0.005892116664091567), (2992, 0.005888673021606096), (1647, 0.005886589747045695), (3114, 0.005886478711079666), (2062, 0.005881030433852821), (3246, 0.005870563508142276), (3825, 0.005869492999376419), (2205, 0.005860318812864914), (958, 0.0058557392626864815), (4459, 0.005849146940336176), (2175, 0.005829001951528521), (1723, 0.005823964533799423), (4009, 0.00582233849019273), (2094, 0.005811058071997926), (583, 0.00580625548626384), (2203, 0.0057970285138303455), (1903, 0.005796700782885207), (4106, 0.005786613310438012), (3329, 0.00578095171987539), (2935, 0.005777713766522312), (766, 0.0057716778035769795), (597, 0.005769653840637283), (35, 0.005767027474175922), (4571, 0.005763303412300129), (4649, 0.005758939688341627), (1818, 0.0057574636914777795), (1316, 0.005755240208337398), (2098, 0.005755014939130488), (2678, 0.005751427858338542), (4057, 0.005741196098578444), (4342, 0.005740782207808391), (1312, 0.005728860633276245), (354, 0.005726512534073124), (2058, 0.005705706269394189), (1538, 0.005698905545573053), (1650, 0.005696425768264366), (3244, 0.005691856790401249), (2929, 0.005690849523320711), (3598, 0.0056894833340402975), (1715, 0.005687261253465976), (1662, 0.0056872271962132214), (2285, 0.005665806731795244), (3752, 0.005663012965613901), (1571, 0.00565841212992434), (327, 0.005656701615351461), (2820, 0.005649158039690295), (2832, 0.005635482837278568), (4055, 0.0056314879467107845), (2236, 0.005628018436586075), (1833, 0.005626198709835214), (979, 0.005625368589628076), (3178, 0.005622692999717276), (664, 0.005612434493898871), (2291, 0.005604650230812366), (4726, 0.0056002785531722565), (2185, 0.0055912607416715955), (1194, 0.005582252448130357), (78, 0.005574838892297649), (2439, 0.005569665493944382), (3865, 0.0055494457610957395), (3748, 0.005543844806820486), (2074, 0.005530419667053298), (1684, 0.005522199979939142), (2942, 0.0055202715824053065), (3509, 0.005518697126486915), (2587, 0.005516196739084963), (4748, 0.005506911366460102), (2156, 0.005497376951542831), (445, 0.0054707546191712945), (4555, 0.005454022114431214), (2197, 0.0054439439046948005), (3215, 0.005442513421154562), (4158, 0.005442120090153114), (277, 0.00543745466910864), (3925, 0.005430467350377271), (1553, 0.005430264914747733), (177, 0.005417974245854654), (2020, 0.005409883768889387), (4385, 0.005389191327704124), (3257, 0.005338011724288861), (1863, 0.005329936008287329), (3713, 0.005328765407591639), (2490, 0.005326103229531283), (735, 0.005324185975942079), (2998, 0.005323421880716405), (3957, 0.0053127414710361625), (2529, 0.0053004311625493425), (970, 0.005294155454464736), (1037, 0.005293550039152608), (2789, 0.005293408332198372), (3821, 0.005292115170798908), (3164, 0.005290809576245899), (1279, 0.005283126095585135), (3291, 0.005265620746880657), (288, 0.005244481367626913), (3940, 0.00522206523691008), (3051, 0.005221192946673976), (2113, 0.005218230535913311), (2665, 0.005209456928425245), (4202, 0.005179128258218745), (2251, 0.005153296424942106), (2870, 0.005145037729936178), (2022, 0.005139736110223568), (2989, 0.005128336873260977), (627, 0.005122202762631603), (3262, 0.005115265032912198), (2764, 0.005108272730273339), (2379, 0.005095470861049122), (3166, 0.005092476218579417), (4546, 0.005085239295092742), (168, 0.005079914133335347), (1453, 0.0050780449616219), (159, 0.005073103533735664), (2349, 0.005071957551691268), (1144, 0.005069050983050961), (2768, 0.00506847948520531), (477, 0.005067738134511172), (2775, 0.005066503591416184), (4082, 0.005066022907906356), (2013, 0.005057888666634338), (3990, 0.005049688076330534), (2655, 0.005039410653299629), (2883, 0.005017742410378792), (3410, 0.0050106511254854515), (4617, 0.0050032719608468605), (2774, 0.004999007076154558), (2643, 0.004973411726698248), (3635, 0.004970607353690122), (2731, 0.00496466892324904), (1695, 0.004963065103635865), (2889, 0.004943593368437767), (2407, 0.004935470255800712), (3479, 0.004925209743678175), (2559, 0.004916294958050123), (4484, 0.00490301294818615), (1701, 0.004901293371837229), (4710, 0.004891523907027247), (2286, 0.0048784800591984406), (3219, 0.004869892503127622), (4652, 0.004860457752794865), (2901, 0.004855490783608125), (2199, 0.004843384514143226), (3015, 0.004812612975725233), (2255, 0.004807739515971237), (3205, 0.004799994802585188), (3922, 0.004791969408458922), (4444, 0.004783579745278508), (2075, 0.00478221557040102), (2257, 0.004772171695072049), (4373, 0.004738726427995326), (3892, 0.00473181460201713), (2415, 0.004727162555861511), (1711, 0.004711968440214172), (3140, 0.004705576412376476), (561, 0.004690881411185524), (414, 0.0046871731967015745), (2879, 0.004682864779975438), (4723, 0.0046792447677460255), (2064, 0.00467828346038668), (155, 0.004666769792479161), (2350, 0.004666595620149817), (3620, 0.0046637396574788865), (2448, 0.004663121482230565), (3074, 0.004661405334386536), (2838, 0.004655675277139957), (2423, 0.004653594952016033), (3832, 0.004651926530875116), (2438, 0.004634626768167372), (3076, 0.004629988237702908), (2914, 0.004624482971628074), (2535, 0.004623358403806537), (3613, 0.004618338457979911), (3081, 0.004615358917137847), (4412, 0.00461056712775205), (4521, 0.004608449108914852), (3357, 0.004603748181766927), (1264, 0.0046018659782774834), (1208, 0.004595618259284179), (2778, 0.004583457387635819), (336, 0.0045655016710442805), (1995, 0.00455127924471689), (2388, 0.004549482759209134), (3521, 0.004548583381741721), (3302, 0.004548081679734336), (2966, 0.004543436332153004), (4637, 0.004536350271307426), (2797, 0.004534700217851861), (3123, 0.004532783525856824), (4244, 0.004518115265340044), (3282, 0.004515365531911421), (4163, 0.004512033735268686), (3766, 0.00451010655081234), (3763, 0.0045067335648690116), (1429, 0.004500417634303719), (2834, 0.004499507077350178), (3072, 0.004499130018016268), (4443, 0.0044934073165309295), (4295, 0.004489506763969106), (2890, 0.004482137268622281), (326, 0.004479806703165914), (3363, 0.004474476415523858), (4660, 0.004472609076166817), (2459, 0.004461057893895364), (4243, 0.004458098876122639), (2848, 0.004452131517457981), (1947, 0.0044467018954900414), (4333, 0.004446109420683551), (3638, 0.004444123395564869), (4477, 0.004443024087515095), (2434, 0.004442158503559329), (1049, 0.004439964282436416), (3355, 0.00443703510787577), (3680, 0.004433519528070914), (1498, 0.004426565479715284), (3901, 0.004424229957158835), (2488, 0.004422223537991457), (3165, 0.004420327488600411), (4619, 0.004419838633383532), (1748, 0.004415836593155949), (2530, 0.004414854683188845), (4490, 0.004413735509196178), (1547, 0.004413715559959686), (2108, 0.004411276673986262), (2796, 0.004409533695444779), (2428, 0.004404455900239092), (3952, 0.004402745553840863), (3364, 0.004402071591804512), (4632, 0.004400252124787374), (3413, 0.004395526768862994), (2570, 0.004395370786608498), (2266, 0.004385524223031725), (1187, 0.004385481519896377), (2986, 0.00438342978014647), (3308, 0.004383216815346877), (3745, 0.0043821433410217705), (925, 0.004378540839151736), (2437, 0.004377080327380156), (3577, 0.004376147591915999), (2696, 0.004375783102623089), (4650, 0.004374649321704873), (3012, 0.004368721811088315), (448, 0.004368148362367929), (2772, 0.004360328446992736), (2924, 0.0043583887946247), (2974, 0.00435776401742999), (2872, 0.004351241165329063), (3456, 0.004348941549258978), (721, 0.004347933388070324), (2748, 0.00434427421013287), (431, 0.004343248977191283), (3062, 0.004338692739290442), (2881, 0.004337657106147097), (3458, 0.0043366927290517), (3772, 0.004333557888265549), (2188, 0.004330824068572942), (4589, 0.004326874742657453), (2302, 0.004322905726616907), (3359, 0.004316580922345122), (2623, 0.0043146202617809545), (2089, 0.004313412222142847), (4117, 0.004305658507761141), (813, 0.004304796942553069), (3590, 0.004302061204385346), (2320, 0.004300446617062926), (2916, 0.004299003292212911), (2857, 0.004293501306805018), (2269, 0.004290611965058498), (985, 0.0042898782565689835), (3754, 0.004286232589299021), (2427, 0.004284516868447409), (4517, 0.004284028948995922), (2176, 0.004280833308631988), (419, 0.004276045580926743), (4706, 0.004275979645984869), (3044, 0.004275198094949656), (2478, 0.004268589902393018), (3883, 0.004266826433243546), (3274, 0.0042642366776137475), (3258, 0.004262978187437182), (2134, 0.004262910141260449), (4625, 0.00426251159398922), (614, 0.00426012105630297), (4713, 0.004258080001969507), (4494, 0.004257900017679294), (2229, 0.004257558875056498), (3296, 0.00425642722855412), (4293, 0.004253097381602081), (3866, 0.004240954331925781), (2475, 0.004238009752754815), (1325, 0.004232316005605006), (2411, 0.00423122491615042), (3639, 0.004231005859423603), (443, 0.004230416377454406), (1909, 0.004229035414727039), (4516, 0.004227840922010483), (4718, 0.004227325594012486), (274, 0.00422586379771142), (2223, 0.004222848560019839), (2702, 0.004221468971820276), (3013, 0.0042196395247933545), (3148, 0.0042164762433525675), (3032, 0.004212124627203151), (999, 0.004212080691898334), (3506, 0.0042052731902473845), (4269, 0.004204668042655456), (4522, 0.004203314769568746), (3425, 0.004202393584173029), (4092, 0.004198950755559285), (2660, 0.004192660688515655), (4448, 0.004192090959836777), (4051, 0.004192084953670604), (2260, 0.004188809906623179), (3501, 0.004186784563225781), (3640, 0.004186688672597985), (4087, 0.004185827221317151), (4368, 0.004182885527420724), (2625, 0.00418156311107244), (8, 0.004179840739541013), (4734, 0.004179821672097386), (4369, 0.004178338706928534), (318, 0.00417760821506236), (1489, 0.004175929861947855), (4575, 0.004173163653271712), (2629, 0.004171557018447444), (107, 0.004171344628566656), (3560, 0.004163954900733184), (2705, 0.004163841519359378), (3196, 0.004157227456525196), (436, 0.004154068715992998), (1968, 0.004152352247215069), (2830, 0.004151971244145627), (688, 0.004148090985711287), (3867, 0.004147773592150717), (4160, 0.004147340689496088), (2943, 0.004147340561641428), (2579, 0.004146599701126643), (2840, 0.004146297833912512), (3893, 0.004145863811517026), (576, 0.004144278061960722), (1349, 0.004144191708802163), (1923, 0.004142902263177809), (4507, 0.004142881854026807), (3960, 0.0041425843987134715), (4079, 0.00414129622483251), (3116, 0.004139933373684798), (2400, 0.004139931539925445), (739, 0.004139644333976423), (3827, 0.004137699604141218), (3391, 0.004137042906803907), (4657, 0.004133798841730593), (4528, 0.004130257746052381), (729, 0.004130011850513318), (3920, 0.0041297079984279755), (2664, 0.004127990074329269), (3273, 0.004126976173568054), (3037, 0.0041264328112537215), (3962, 0.004125961980656507), (716, 0.004125694362715093), (998, 0.004121990151679182), (3146, 0.00412182042440012), (2888, 0.004121706193125041), (3417, 0.004121312122462107), (596, 0.00411968270050177), (2592, 0.004117142508906467), (4593, 0.004117090215449199), (3873, 0.0041136985218024336), (4101, 0.004112459625058974), (876, 0.004111609924114266), (1924, 0.004110885254712594), (1109, 0.004105477433905152), (2162, 0.004104774212774917), (3496, 0.004103034968965506), (1474, 0.004102741795322994), (2999, 0.004094838592533958), (2390, 0.004089023038117772), (1537, 0.0040858276031709015), (4133, 0.0040840727546360275), (4699, 0.004079924322281828), (3704, 0.004077365656039388), (857, 0.004075395875518751), (3771, 0.004070520617901159), (2926, 0.0040685943904722926), (1896, 0.004067323589644374), (4446, 0.0040656787532937985), (1960, 0.004063602443981442), (2477, 0.004062600294979424), (2159, 0.004062535090349212), (2386, 0.004062410886818936), (4187, 0.004062341659387563), (3618, 0.00406100374132397), (4520, 0.00406045793032524), (3112, 0.004058605437891856), (4116, 0.004056660320401139), (4259, 0.00405617353768403), (3601, 0.004055623361364722), (4624, 0.004051655417992249), (3984, 0.004050982787728627), (991, 0.004050445166609826), (34, 0.004049298917472185), (3406, 0.004047270982094161), (2394, 0.004047098626289016), (4113, 0.004046919316783598), (1513, 0.0040457840787993605), (4401, 0.004042028754961626), (2776, 0.004040463202335348), (350, 0.004040402860475472), (3097, 0.004039239663346902), (1905, 0.004036387967526734), (3183, 0.004036240623461544), (3813, 0.004035887246874465), (1822, 0.004035762194072728), (3198, 0.004032869491805858), (4024, 0.004029075659590709), (3749, 0.004028261933324621), (4111, 0.004028212918007399), (3902, 0.0040254862332619965), (3915, 0.004025332697747075), (74, 0.004020968302791113), (888, 0.004020725538783074), (4014, 0.004017327762500083), (4535, 0.004016225580357639), (3214, 0.0040150832412179805), (4130, 0.0040148438575447355), (1907, 0.004014715194262915), (206, 0.004013269389621535), (4098, 0.004013201021019353), (3234, 0.004012526110050575), (3493, 0.004011209433568872), (587, 0.004010738228389286), (4419, 0.004010613442923551), (2289, 0.004005270609283534), (3654, 0.0040044106498095065), (826, 0.00400246439479846), (1851, 0.004000642928454376), (12, 0.003999160567020942), (4046, 0.003995973370671029), (1161, 0.003995488595655307), (2361, 0.003994371058936305), (4138, 0.003989579692614897), (4330, 0.003988248490614422), (1071, 0.003987269902512863), (192, 0.003985749286155156), (3527, 0.003985172967698066), (493, 0.003984132596195766), (1007, 0.003984050439987997), (3235, 0.003983473311354369), (3511, 0.0039788609885800155), (1225, 0.003978724203430203), (2949, 0.00397745962274961), (2391, 0.003976993258536612), (2067, 0.003976990009885424), (4286, 0.003976255015435175), (728, 0.00397590686012241), (3516, 0.003974699274756799), (2854, 0.003972795935267704), (1518, 0.003972247834781996), (1866, 0.003969901108476783), (564, 0.00396984142104651), (4489, 0.00396612585789143), (481, 0.003965872196021352), (2242, 0.00396583501351095), (2821, 0.003964999977579709), (4643, 0.003962704389810673), (612, 0.003959766498103176), (1400, 0.003950473546198542), (4430, 0.003948311954557004), (1350, 0.003947156746233767), (2104, 0.003942695701869471), (4601, 0.003942042154293105), (2661, 0.0039413351007299745), (2048, 0.003939317968387809), (2466, 0.003935936487006623), (1946, 0.003935542514406637), (4566, 0.003932415986295887), (623, 0.003931604132254861), (930, 0.003929701528701225), (743, 0.0039278907285054685), (4422, 0.00392751483983819), (2344, 0.003926251574259126), (178, 0.003925551637330272), (2402, 0.003923980926065248), (2083, 0.0039228409497863385), (1893, 0.00392196112595263), (872, 0.003921825956681956), (1687, 0.003921679421850301), (2714, 0.0039210243479511275), (41, 0.003920136432805362), (1643, 0.003919897375485011), (2609, 0.0039190425925859345), (3526, 0.003916864143980877), (1916, 0.003913453087835404), (4357, 0.003912222221829169), (3075, 0.003911972370200694), (3184, 0.003911067952506554), (2319, 0.0039105617572407995), (3845, 0.003909804707651037), (792, 0.003909067520215143), (3780, 0.003908040165874325), (1628, 0.003907650362361338), (2531, 0.003906322756057039), (2105, 0.003905750697941133), (2405, 0.0039057187939678132), (1918, 0.003904896669997139), (456, 0.0039028725363001713), (3349, 0.003902202308931436), (774, 0.003899269166860347), (1324, 0.0038989128431919356), (4470, 0.0038985240518315785), (580, 0.0038970738344633517), (3388, 0.003896917008108281), (4563, 0.003895073397184394), (3623, 0.003893987327171681), (1140, 0.0038925318451193116), (11, 0.003892417312984327), (3187, 0.0038890375511250546), (3449, 0.0038881881891090274), (783, 0.003887123865666119), (3314, 0.003887023853910391), (1188, 0.0038841119896405566), (1286, 0.0038830317512754185), (1570, 0.0038818971626117527), (4668, 0.003881007325286943), (2393, 0.0038809752088145113), (761, 0.0038800205478878662), (4038, 0.003878552344575103), (3227, 0.003877455932637364), (4054, 0.00387349940785118), (255, 0.0038730375995925273), (871, 0.0038720250862049094), (4573, 0.0038714310795594713), (4420, 0.0038692100636563134), (216, 0.0038670796635444644), (1364, 0.003866999363852095), (3653, 0.0038666100629833893), (1083, 0.003865182821392851), (2755, 0.0038649505974413544), (3765, 0.0038638870141135422), (4249, 0.003863215014140931), (652, 0.003862697408476456), (1722, 0.003861932235108532), (3727, 0.003861610244935585), (4501, 0.00386090932298766), (3882, 0.0038593111699129884), (3353, 0.0038586681304597623), (4033, 0.0038572917516380093), (660, 0.0038558794280904884), (1902, 0.003853440991616839), (3241, 0.003853052828238544), (4629, 0.0038514228771535973), (1179, 0.0038498332762363606), (2348, 0.0038489062340690394), (2911, 0.003846960704331304), (3666, 0.0038469394108369658), (1454, 0.003846431177136814), (4056, 0.0038453281992874002), (2554, 0.003843590511274506), (2091, 0.0038435076282987337), (2088, 0.003842219173814162), (4287, 0.00384165627027838), (2878, 0.003832080296632609), (2073, 0.0038309225972416087), (3542, 0.0038307303921079217), (1931, 0.0038221537504035917), (3888, 0.0038208866457629686), (3125, 0.00382061068474575), (3624, 0.003818539356030182), (4530, 0.0038147616821915717), (1703, 0.00381129556879785), (1891, 0.0038081926261742107), (4334, 0.0038068637781904615), (3799, 0.0038062222938827065), (1163, 0.0038056082119441044), (23, 0.0038022488026572218), (4266, 0.0038014572172123994), (865, 0.0038009813951083876), (2946, 0.003800179099244084), (2313, 0.003799560688001571), (579, 0.0037994921636506146), (1378, 0.003797104171993569), (4356, 0.003796750133762147), (4178, 0.00379673253491263), (1463, 0.0037959641116597134), (3707, 0.003795815294417944), (1229, 0.003795525203966215), (636, 0.0037944697439187443), (2894, 0.003792925300549771), (588, 0.0037926162371909383), (1983, 0.003791470801923175), (3564, 0.0037891730456706373), (644, 0.0037877611216703844), (923, 0.0037866860764470354), (4036, 0.003786256146342064), (2746, 0.003786116335790588), (3571, 0.0037850434548509413), (3809, 0.003784282461405326), (3170, 0.003781636810095247), (1122, 0.00378125951032179), (3445, 0.0037809716439038644), (509, 0.003777847489455091), (3233, 0.003777418312118715), (1176, 0.003776762586317748), (1740, 0.003772382255656941), (2068, 0.003771900346481521), (4638, 0.00377071009090803), (3303, 0.0037699155273259954), (1335, 0.0037682793299352625), (3182, 0.003766564328263675), (4135, 0.0037627226124610762), (2492, 0.003760834392553592), (3330, 0.0037560713955027696), (3551, 0.0037550295181104057), (2169, 0.003753673946178157), (3876, 0.00375361356737284), (3436, 0.0037524007128280135), (750, 0.0037500545997576637), (2652, 0.003749721140338078), (4284, 0.0037467387588135284), (3900, 0.003744391247516365), (4533, 0.0037413899665272544), (1717, 0.003741268767859199), (1768, 0.0037406643305558126), (3673, 0.003737643861844411), (2230, 0.0037372253011748024), (1131, 0.00373581817919758), (2593, 0.0037354668188631407), (3696, 0.0037345440560632636), (2904, 0.0037337039404255158), (238, 0.0037335592654519486), (1706, 0.003729747582232474), (606, 0.003727773632159853), (71, 0.003723738026982225), (4020, 0.0037236767180085666), (3268, 0.0037234528522013827), (1483, 0.00372081922439287), (3557, 0.0037176867639295745), (2061, 0.0037174993425314598), (169, 0.00371576939542954), (1102, 0.003715748429731356), (4487, 0.0037155060122171495), (3917, 0.003713964170808559), (1223, 0.0037111610644304095), (755, 0.003709029582997271), (769, 0.003708939356962338), (3739, 0.0037082730347548385), (198, 0.003706120643569252), (4362, 0.0037023934101635854), (490, 0.003702156529951383), (1138, 0.003702098912278559), (1448, 0.0037011840327747366), (1598, 0.003699262360652935), (1422, 0.0036981655344530714), (1693, 0.003697095189909591), (1191, 0.0036960619929980888), (696, 0.003695517098218509), (1338, 0.0036955048926139017), (3195, 0.0036936811585703685), (980, 0.00369197541132881), (693, 0.003691804866524279), (1313, 0.0036908904941038135), (969, 0.003688809656013111), (1533, 0.0036862765296844812), (1653, 0.003686074446912036), (4536, 0.0036860685079911967), (2461, 0.0036813935637289206), (2945, 0.0036813787614395545), (4011, 0.0036807133926967874), (894, 0.003680469847458125), (1410, 0.003680410229219569), (3807, 0.0036778860690427793), (504, 0.003677238178697906), (2397, 0.0036758393760156823), (1472, 0.0036757412319155676), (348, 0.0036726546414567276), (1969, 0.003672292745150907), (1170, 0.003671272053437549), (2422, 0.0036709225761176255), (2226, 0.003670307164904775), (1123, 0.003669893210880693), (2965, 0.003669865518017331), (3298, 0.0036686583022941185), (3435, 0.003667602687285391), (698, 0.003666831835167332), (2430, 0.003666798003461245), (3500, 0.0036638110964759465), (749, 0.0036635402437360308), (2779, 0.003660523951453007), (3379, 0.0036602971853075023), (1247, 0.003660074356592179), (880, 0.0036586507300161463), (3811, 0.003654409887064205), (1438, 0.0036541483323037), (2642, 0.003653053122752101), (2612, 0.003652914153567118), (4183, 0.003651727981428311), (4309, 0.0036507380177965934), (400, 0.0036490007843894296), (114, 0.0036461443900030134), (2195, 0.0036443649138898086), (3890, 0.003643910883684845), (1476, 0.0036427260452062114), (1620, 0.003640543419800733), (3477, 0.003635663881174875), (4394, 0.0036334457980051723), (1666, 0.0036324216957779798), (4640, 0.0036306383776914487), (1558, 0.0036305014652136644), (1892, 0.0036302285383272587), (2606, 0.0036290563640189173), (1488, 0.003628902096608186), (479, 0.003628596272549638), (727, 0.0036280906163477875), (1645, 0.003625818200812908), (3050, 0.0036254439836052106), (3487, 0.0036248622760256936), (3641, 0.0036247557451182413), (3122, 0.0036223099310471337), (1027, 0.0036221536463956782), (1421, 0.0036205683675258962), (1044, 0.0036200327306584266), (2687, 0.0036191172226721006), (4712, 0.003617181803913156), (3014, 0.00361601801051659), (2029, 0.003612887219061906), (2069, 0.0036102945525154097), (3315, 0.0036099742871481873), (4591, 0.0036059930384444187), (1884, 0.003605580052697736), (3402, 0.003605422095930234), (1813, 0.00360488637869561), (4069, 0.0036046667034158497), (2634, 0.0036040931465722292), (2295, 0.003601988260327842), (3898, 0.0036019369038500716), (2907, 0.00360158685551251), (3669, 0.0035984125669983715), (4670, 0.003593338305663677), (1882, 0.00359205872332114), (475, 0.0035911457698343426), (1026, 0.0035899775436657438), (3819, 0.003589291344396373), (373, 0.0035877679470500763), (3220, 0.0035875905049231626), (1408, 0.0035856025805707896), (4472, 0.0035838427196587244), (1084, 0.0035791064546879287), (854, 0.0035780488355468087), (2117, 0.0035765240171585326), (1744, 0.003576032147100661), (4085, 0.003574553642573573), (3706, 0.0035733666244298023), (4345, 0.0035728656106149533), (1034, 0.003568287614897426), (3660, 0.003567922654203582), (325, 0.0035675411255853785), (558, 0.00356381294572826), (1481, 0.003563431048149932), (959, 0.0035624312118992143), (598, 0.0035618254630276694), (2496, 0.003561495463871892), (3646, 0.003559064390701957), (3278, 0.0035584927268211813), (215, 0.0035584760393577884), (2556, 0.003557030148571768), (3194, 0.00355647187783448), (2674, 0.0035555244347939183), (471, 0.00355245017542137), (127, 0.003552379465031439), (349, 0.003552160895926258), (488, 0.003551199328679099), (1478, 0.0035507358183468297), (2862, 0.003548817886524488), (1001, 0.003546581057204055), (655, 0.0035463017601095733), (1582, 0.003540530148993952), (4282, 0.003535287835674511), (1597, 0.003534532553123495), (3734, 0.0035287060496123736), (92, 0.0035265379585142117), (798, 0.0035261654950828046), (4152, 0.0035251250742720356), (221, 0.0035241072920320074), (3300, 0.0035229940905610875), (1819, 0.0035227279730783477), (1462, 0.00352021216116853), (2743, 0.0035199661397917557), (2892, 0.00351940094620934), (96, 0.0035189971017535984), (1608, 0.0035178204863938333), (388, 0.003515996133630605), (3974, 0.003514611386665668), (2528, 0.0035133285601782966), (2131, 0.00351249256803808), (372, 0.0035102453511372334), (1177, 0.003506003051117657), (907, 0.0035045880099493737), (3503, 0.003500867915036332), (1352, 0.003500123470341078), (1375, 0.0034974569223379473), (2527, 0.0034971159548451442), (944, 0.003496962359886639), (886, 0.003496445206973043), (4479, 0.0034946834308841506), (2899, 0.0034939568812034634), (1372, 0.0034928960467845243), (589, 0.003491291191984177), (2367, 0.0034895611731747505), (975, 0.0034879046180666005), (18, 0.0034873144515422646), (3147, 0.003485961952591577), (2800, 0.0034854099260005745), (4523, 0.003485390369052246), (3293, 0.003483432271677222), (355, 0.0034819534282908757), (2482, 0.0034818798896969184), (910, 0.0034813810369467273), (1503, 0.003480311096160992), (2004, 0.003479496220002647), (1107, 0.0034776185021738403), (3755, 0.003475363133454878), (3342, 0.003475283697175482), (1041, 0.003472708913831925), (359, 0.0034724547436041733), (1002, 0.003469594506186091), (1340, 0.0034678813806601635), (1667, 0.003465066198770004), (2453, 0.003463471447794441), (3304, 0.003459740119219359), (200, 0.0034594942553766005), (659, 0.0034594426691979797), (3071, 0.0034583556686458338), (2399, 0.0034581991667851078), (136, 0.0034575794826798094), (1760, 0.0034572828984455115), (2741, 0.0034566235358725866), (31, 0.003455066103387636), (1796, 0.0034548955885691205), (3474, 0.003454781834783206), (608, 0.0034538100145777434), (594, 0.0034493232456699863), (1065, 0.003448184647010677), (3563, 0.0034453803598708936), (2355, 0.0034428365523503247), (1357, 0.003442414599687454), (3311, 0.0034417194375320477), (3742, 0.0034374630966644234), (1543, 0.003436734638660024), (2611, 0.0034357521727489725), (3705, 0.0034352666073338587), (744, 0.0034337017890086843), (121, 0.0034326900294894855), (3614, 0.003431183014703316), (951, 0.003430751534098149), (3120, 0.0034291546192117563), (1273, 0.003428914876766402), (457, 0.0034266603703491166), (2201, 0.003426397106707118), (111, 0.0034251641304578794), (563, 0.003423738869975085), (1964, 0.003420520737094248), (722, 0.0034179448465014683), (1040, 0.003417499370932775), (804, 0.0034164995058813554), (1219, 0.003415164837658926), (1209, 0.003413120970471506), (3910, 0.003411994676952972), (495, 0.0034093461397325456), (672, 0.003408074217838278), (2747, 0.0034061411685204187), (4154, 0.0034061205203760963), (184, 0.0034040992666084045), (605, 0.003403451645702671), (1827, 0.003402937535770206), (2031, 0.003402310241536097), (2724, 0.003402204583607244), (856, 0.003401175552147766), (4143, 0.0034008981186185575), (2520, 0.003397333403393331), (416, 0.0033959367483865945), (2338, 0.003394549903952614), (3460, 0.0033930418752245242), (1080, 0.003391698977758395), (4066, 0.0033911814584116854), (1782, 0.0033908933571879284), (2287, 0.003387401048063693), (286, 0.0033844405198612056), (2457, 0.003383626301834916), (4350, 0.003383438361911822), (1869, 0.0033810066391729327), (1605, 0.0033773007570037797), (3027, 0.0033748362456253265), (4429, 0.0033734342528890953), (1079, 0.0033723052321344323), (3318, 0.003371009343053785), (410, 0.003363288867985122), (2771, 0.0033555577039775545), (3327, 0.0033546362352180276), (3956, 0.003354572057098499), (2845, 0.0033542325135991822), (103, 0.0033534419352258395), (981, 0.0033480148730173297), (132, 0.003345546359720373), (604, 0.0033447545001212805), (1830, 0.0033437741127798955), (2502, 0.0033406832580661237), (3953, 0.0033379795468035803), (2240, 0.0033342680340148613), (1719, 0.0033332593803789175), (2591, 0.0033295636215147327), (2976, 0.003323520368943399), (1414, 0.0033226775288356276), (4247, 0.0033165175691700446), (815, 0.0033144327022919663), (1217, 0.003312774077805099), (4074, 0.003304587540655696), (703, 0.0033006750073045587), (357, 0.0032955101557208557), (1251, 0.0032950629239922907), (267, 0.0032944733409822073), (480, 0.0032941360282604556), (2580, 0.003293318265485786), (4733, 0.00329186187546184), (1088, 0.003287710495048228), (712, 0.003284699411512082), (3569, 0.0032840645268327317), (3380, 0.0032810575639513973), (1616, 0.003278525651229025), (3928, 0.0032777851919221276), (1423, 0.0032763326905400044), (190, 0.0032756628406771563), (851, 0.0032738659074660484), (4432, 0.003271601408442199), (1318, 0.0032663911217505922), (1394, 0.0032662165217679615), (3393, 0.003264279129148221), (1415, 0.0032623723964919434), (3657, 0.003262341998288508), (3575, 0.0032583451935966285), (1370, 0.003258272295574264), (4411, 0.003257347027485378), (1565, 0.003256788278551864), (194, 0.0032566673742601606), (4636, 0.0032566258740703443), (4473, 0.003255866888529625), (861, 0.0032524627053642325), (617, 0.003250985237642109), (1828, 0.003243787605136605), (1199, 0.003242422101909981), (1078, 0.0032393313793275982), (3347, 0.0032340118640206434), (1943, 0.0032324775169040067), (1627, 0.003231785997696771), (97, 0.003231641348763765), (16, 0.0032280355745444205), (2034, 0.0032260182877637948), (2758, 0.003216508758039713), (2359, 0.0032096920043587157), (4311, 0.0032059991577889618), (642, 0.0032021440713910945), (611, 0.0031978100944291274), (3331, 0.0031975278576681673), (2127, 0.0031957539207743547), (165, 0.0031941571327077254), (707, 0.0031869188119096866), (195, 0.0031719866807822903), (3056, 0.0031704848720521114), (3534, 0.0031702698941654056), (2509, 0.0031687697882104957), (4626, 0.0031668960939332416), (453, 0.003158847994893294), (3200, 0.003154670960501435), (2132, 0.003152613696337366), (3855, 0.0031523317342165135), (626, 0.0031495012808155027), (1624, 0.003136404011601219), (1305, 0.0031208411512702976), (2039, 0.003106412633581817), (2526, 0.003102248433802379), (1356, 0.0030917748425280424), (2010, 0.0030838173337924013), (3024, 0.003078164136248422), (1989, 0.003064671242650182), (3301, 0.003057413950402323), (1427, 0.0030560601819015548), (2697, 0.00305003643770805), (953, 0.003038823376884859), (1303, 0.0030355953658109595), (2441, 0.0030237485971984536), (4674, 0.0030024360679095524), (3626, 0.002997056663518602), (256, 0.0029905694844777992), (351, 0.0029645635490760224), (1677, 0.0029635367969175724), (2766, 0.0029271785603820644), (571, 0.0029217582483373086), (607, 0.002919701829316602), (3199, 0.0029171945641597043), (562, 0.002908182123707306), (228, 0.00287340723386893), (3546, 0.0028379639867674215), (3365, 0.0027609698543618662), (4752, 0.0027263394947633743), (4171, 0.002680158128121652), (831, 0.0026677528046217063), (129, 0.0025931211011067635), (202, 0.0024645712456522646), (2534, 0.0017208731398238098), (1, 0.0), (2, 0.0), (4, 0.0), (6, 0.0), (10, 0.0), (14, 0.0), (17, 0.0), (20, 0.0), (24, 0.0), (26, 0.0), (27, 0.0), (28, 0.0), (30, 0.0), (36, 0.0), (37, 0.0), (38, 0.0), (39, 0.0), (42, 0.0), (47, 0.0), (49, 0.0), (50, 0.0), (53, 0.0), (54, 0.0), (55, 0.0), (58, 0.0), (59, 0.0), (64, 0.0), (66, 0.0), (69, 0.0), (70, 0.0), (72, 0.0), (73, 0.0), (76, 0.0), (77, 0.0), (80, 0.0), (81, 0.0), (90, 0.0), (91, 0.0), (93, 0.0), (94, 0.0), (95, 0.0), (98, 0.0), (99, 0.0), (100, 0.0), (101, 0.0), (102, 0.0), (115, 0.0), (117, 0.0), (118, 0.0), (128, 0.0), (133, 0.0), (134, 0.0), (135, 0.0), (139, 0.0), (140, 0.0), (141, 0.0), (143, 0.0), (146, 0.0), (150, 0.0), (151, 0.0), (152, 0.0), (153, 0.0), (154, 0.0), (157, 0.0), (158, 0.0), (163, 0.0), (167, 0.0), (171, 0.0), (186, 0.0), (187, 0.0), (188, 0.0), (189, 0.0), (191, 0.0), (196, 0.0), (205, 0.0), (211, 0.0), (212, 0.0), (214, 0.0), (217, 0.0), (219, 0.0), (220, 0.0), (223, 0.0), (225, 0.0), (226, 0.0), (229, 0.0), (233, 0.0), (234, 0.0), (235, 0.0), (237, 0.0), (239, 0.0), (245, 0.0), (246, 0.0), (247, 0.0), (249, 0.0), (253, 0.0), (257, 0.0), (258, 0.0), (259, 0.0), (260, 0.0), (262, 0.0), (264, 0.0), (265, 0.0), (268, 0.0), (272, 0.0), (275, 0.0), (278, 0.0), (279, 0.0), (289, 0.0), (290, 0.0), (291, 0.0), (293, 0.0), (294, 0.0), (295, 0.0), (297, 0.0), (298, 0.0), (299, 0.0), (302, 0.0), (303, 0.0), (304, 0.0), (305, 0.0), (306, 0.0), (308, 0.0), (310, 0.0), (311, 0.0), (312, 0.0), (314, 0.0), (315, 0.0), (316, 0.0), (319, 0.0), (320, 0.0), (323, 0.0), (324, 0.0), (331, 0.0), (335, 0.0), (337, 0.0), (338, 0.0), (339, 0.0), (344, 0.0), (347, 0.0), (352, 0.0), (361, 0.0), (362, 0.0), (365, 0.0), (366, 0.0), (367, 0.0), (375, 0.0), (376, 0.0), (377, 0.0), (378, 0.0), (379, 0.0), (380, 0.0), (382, 0.0), (389, 0.0), (390, 0.0), (391, 0.0), (392, 0.0), (393, 0.0), (394, 0.0), (395, 0.0), (397, 0.0), (399, 0.0), (401, 0.0), (404, 0.0), (405, 0.0), (411, 0.0), (415, 0.0), (417, 0.0), (420, 0.0), (422, 0.0), (423, 0.0), (425, 0.0), (426, 0.0), (427, 0.0), (432, 0.0), (439, 0.0), (440, 0.0), (444, 0.0), (451, 0.0), (454, 0.0), (460, 0.0), (466, 0.0), (467, 0.0), (469, 0.0), (473, 0.0), (474, 0.0), (476, 0.0), (478, 0.0), (484, 0.0), (486, 0.0), (487, 0.0), (489, 0.0), (491, 0.0), (492, 0.0), (497, 0.0), (498, 0.0), (499, 0.0), (503, 0.0), (505, 0.0), (506, 0.0), (507, 0.0), (508, 0.0), (512, 0.0), (513, 0.0), (514, 0.0), (516, 0.0), (517, 0.0), (518, 0.0), (520, 0.0), (524, 0.0), (525, 0.0), (526, 0.0), (528, 0.0), (529, 0.0), (531, 0.0), (532, 0.0), (535, 0.0), (536, 0.0), (539, 0.0), (541, 0.0), (546, 0.0), (548, 0.0), (549, 0.0), (550, 0.0), (552, 0.0), (554, 0.0), (556, 0.0), (557, 0.0), (559, 0.0), (560, 0.0), (565, 0.0), (567, 0.0), (569, 0.0), (570, 0.0), (572, 0.0), (573, 0.0), (574, 0.0), (575, 0.0), (577, 0.0), (581, 0.0), (585, 0.0), (591, 0.0), (592, 0.0), (593, 0.0), (595, 0.0), (599, 0.0), (601, 0.0), (602, 0.0), (603, 0.0), (610, 0.0), (619, 0.0), (621, 0.0), (624, 0.0), (625, 0.0), (630, 0.0), (633, 0.0), (634, 0.0), (639, 0.0), (640, 0.0), (645, 0.0), (646, 0.0), (647, 0.0), (649, 0.0), (650, 0.0), (656, 0.0), (658, 0.0), (661, 0.0), (662, 0.0), (663, 0.0), (665, 0.0), (666, 0.0), (674, 0.0), (678, 0.0), (679, 0.0), (680, 0.0), (681, 0.0), (685, 0.0), (686, 0.0), (687, 0.0), (690, 0.0), (699, 0.0), (700, 0.0), (702, 0.0), (704, 0.0), (708, 0.0), (709, 0.0), (711, 0.0), (713, 0.0), (714, 0.0), (717, 0.0), (718, 0.0), (720, 0.0), (723, 0.0), (724, 0.0), (725, 0.0), (726, 0.0), (730, 0.0), (731, 0.0), (736, 0.0), (738, 0.0), (740, 0.0), (741, 0.0), (745, 0.0), (746, 0.0), (747, 0.0), (751, 0.0), (754, 0.0), (756, 0.0), (759, 0.0), (764, 0.0), (765, 0.0), (767, 0.0), (770, 0.0), (771, 0.0), (772, 0.0), (773, 0.0), (777, 0.0), (780, 0.0), (781, 0.0), (784, 0.0), (785, 0.0), (786, 0.0), (789, 0.0), (791, 0.0), (793, 0.0), (797, 0.0), (802, 0.0), (803, 0.0), (805, 0.0), (807, 0.0), (810, 0.0), (811, 0.0), (819, 0.0), (820, 0.0), (822, 0.0), (823, 0.0), (825, 0.0), (837, 0.0), (839, 0.0), (840, 0.0), (841, 0.0), (845, 0.0), (846, 0.0), (848, 0.0), (849, 0.0), (855, 0.0), (859, 0.0), (862, 0.0), (863, 0.0), (868, 0.0), (875, 0.0), (881, 0.0), (882, 0.0), (883, 0.0), (884, 0.0), (887, 0.0), (889, 0.0), (890, 0.0), (891, 0.0), (892, 0.0), (893, 0.0), (898, 0.0), (901, 0.0), (902, 0.0), (909, 0.0), (912, 0.0), (913, 0.0), (914, 0.0), (919, 0.0), (920, 0.0), (922, 0.0), (926, 0.0), (927, 0.0), (928, 0.0), (932, 0.0), (933, 0.0), (938, 0.0), (941, 0.0), (943, 0.0), (945, 0.0), (946, 0.0), (950, 0.0), (954, 0.0), (955, 0.0), (956, 0.0), (960, 0.0), (961, 0.0), (964, 0.0), (965, 0.0), (971, 0.0), (972, 0.0), (973, 0.0), (974, 0.0), (977, 0.0), (978, 0.0), (982, 0.0), (983, 0.0), (984, 0.0), (987, 0.0), (990, 0.0), (992, 0.0), (993, 0.0), (995, 0.0), (996, 0.0), (997, 0.0), (1004, 0.0), (1008, 0.0), (1010, 0.0), (1011, 0.0), (1013, 0.0), (1016, 0.0), (1022, 0.0), (1025, 0.0), (1028, 0.0), (1029, 0.0), (1031, 0.0), (1032, 0.0), (1036, 0.0), (1038, 0.0), (1039, 0.0), (1042, 0.0), (1047, 0.0), (1051, 0.0), (1054, 0.0), (1055, 0.0), (1056, 0.0), (1062, 0.0), (1066, 0.0), (1067, 0.0), (1072, 0.0), (1073, 0.0), (1076, 0.0), (1081, 0.0), (1082, 0.0), (1086, 0.0), (1089, 0.0), (1091, 0.0), (1092, 0.0), (1093, 0.0), (1097, 0.0), (1098, 0.0), (1100, 0.0), (1101, 0.0), (1103, 0.0), (1104, 0.0), (1105, 0.0), (1106, 0.0), (1108, 0.0), (1110, 0.0), (1113, 0.0), (1117, 0.0), (1120, 0.0), (1121, 0.0), (1126, 0.0), (1127, 0.0), (1130, 0.0), (1133, 0.0), (1135, 0.0), (1137, 0.0), (1139, 0.0), (1142, 0.0), (1143, 0.0), (1145, 0.0), (1147, 0.0), (1149, 0.0), (1150, 0.0), (1151, 0.0), (1153, 0.0), (1154, 0.0), (1155, 0.0), (1156, 0.0), (1158, 0.0), (1159, 0.0), (1164, 0.0), (1165, 0.0), (1166, 0.0), (1167, 0.0), (1168, 0.0), (1169, 0.0), (1171, 0.0), (1174, 0.0), (1178, 0.0), (1180, 0.0), (1189, 0.0), (1190, 0.0), (1193, 0.0), (1196, 0.0), (1197, 0.0), (1198, 0.0), (1200, 0.0), (1201, 0.0), (1203, 0.0), (1204, 0.0), (1207, 0.0), (1210, 0.0), (1211, 0.0), (1212, 0.0), (1213, 0.0), (1214, 0.0), (1218, 0.0), (1221, 0.0), (1222, 0.0), (1227, 0.0), (1228, 0.0), (1233, 0.0), (1235, 0.0), (1240, 0.0), (1242, 0.0), (1244, 0.0), (1246, 0.0), (1253, 0.0), (1256, 0.0), (1258, 0.0), (1259, 0.0), (1260, 0.0), (1263, 0.0), (1265, 0.0), (1268, 0.0), (1269, 0.0), (1271, 0.0), (1277, 0.0), (1280, 0.0), (1281, 0.0), (1282, 0.0), (1284, 0.0), (1285, 0.0), (1287, 0.0), (1288, 0.0), (1289, 0.0), (1291, 0.0), (1294, 0.0), (1295, 0.0), (1296, 0.0), (1297, 0.0), (1298, 0.0), (1299, 0.0), (1301, 0.0), (1304, 0.0), (1309, 0.0), (1315, 0.0), (1319, 0.0), (1321, 0.0), (1322, 0.0), (1323, 0.0), (1326, 0.0), (1328, 0.0), (1330, 0.0), (1332, 0.0), (1333, 0.0), (1336, 0.0), (1344, 0.0), (1346, 0.0), (1347, 0.0), (1353, 0.0), (1354, 0.0), (1355, 0.0), (1362, 0.0), (1363, 0.0), (1366, 0.0), (1368, 0.0), (1373, 0.0), (1380, 0.0), (1381, 0.0), (1390, 0.0), (1391, 0.0), (1392, 0.0), (1395, 0.0), (1399, 0.0), (1402, 0.0), (1404, 0.0), (1409, 0.0), (1411, 0.0), (1416, 0.0), (1424, 0.0), (1426, 0.0), (1428, 0.0), (1431, 0.0), (1433, 0.0), (1434, 0.0), (1435, 0.0), (1437, 0.0), (1439, 0.0), (1441, 0.0), (1444, 0.0), (1447, 0.0), (1449, 0.0), (1450, 0.0), (1451, 0.0), (1452, 0.0), (1456, 0.0), (1457, 0.0), (1458, 0.0), (1459, 0.0), (1460, 0.0), (1466, 0.0), (1467, 0.0), (1468, 0.0), (1469, 0.0), (1470, 0.0), (1473, 0.0), (1479, 0.0), (1480, 0.0), (1482, 0.0), (1484, 0.0), (1485, 0.0), (1487, 0.0), (1490, 0.0), (1491, 0.0), (1495, 0.0), (1496, 0.0), (1497, 0.0), (1502, 0.0), (1504, 0.0), (1507, 0.0), (1508, 0.0), (1511, 0.0), (1516, 0.0), (1517, 0.0), (1520, 0.0), (1521, 0.0), (1522, 0.0), (1524, 0.0), (1525, 0.0), (1528, 0.0), (1529, 0.0), (1531, 0.0), (1532, 0.0), (1534, 0.0), (1535, 0.0), (1536, 0.0), (1540, 0.0), (1541, 0.0), (1545, 0.0), (1546, 0.0), (1548, 0.0), (1549, 0.0), (1550, 0.0), (1554, 0.0), (1555, 0.0), (1556, 0.0), (1557, 0.0), (1559, 0.0), (1561, 0.0), (1562, 0.0), (1563, 0.0), (1564, 0.0), (1566, 0.0), (1569, 0.0), (1573, 0.0), (1574, 0.0), (1575, 0.0), (1576, 0.0), (1577, 0.0), (1578, 0.0), (1580, 0.0), (1581, 0.0), (1584, 0.0), (1586, 0.0), (1587, 0.0), (1588, 0.0), (1589, 0.0), (1590, 0.0), (1592, 0.0), (1593, 0.0), (1594, 0.0), (1596, 0.0), (1599, 0.0), (1600, 0.0), (1601, 0.0), (1602, 0.0), (1603, 0.0), (1604, 0.0), (1606, 0.0), (1607, 0.0), (1610, 0.0), (1611, 0.0), (1613, 0.0), (1614, 0.0), (1615, 0.0), (1617, 0.0), (1618, 0.0), (1622, 0.0), (1623, 0.0), (1625, 0.0), (1626, 0.0), (1631, 0.0), (1632, 0.0), (1633, 0.0), (1635, 0.0), (1636, 0.0), (1637, 0.0), (1638, 0.0), (1639, 0.0), (1640, 0.0), (1641, 0.0), (1642, 0.0), (1646, 0.0), (1649, 0.0), (1651, 0.0), (1656, 0.0), (1657, 0.0), (1659, 0.0), (1660, 0.0), (1661, 0.0), (1663, 0.0), (1668, 0.0), (1669, 0.0), (1670, 0.0), (1672, 0.0), (1673, 0.0), (1679, 0.0), (1681, 0.0), (1683, 0.0), (1686, 0.0), (1689, 0.0), (1691, 0.0), (1697, 0.0), (1698, 0.0), (1699, 0.0), (1700, 0.0), (1702, 0.0), (1704, 0.0), (1709, 0.0), (1724, 0.0), (1725, 0.0), (1726, 0.0), (1728, 0.0), (1729, 0.0), (1731, 0.0), (1732, 0.0), (1733, 0.0), (1734, 0.0), (1738, 0.0), (1742, 0.0), (1745, 0.0), (1751, 0.0), (1753, 0.0), (1755, 0.0), (1756, 0.0), (1758, 0.0), (1765, 0.0), (1766, 0.0), (1767, 0.0), (1769, 0.0), (1771, 0.0), (1772, 0.0), (1775, 0.0), (1777, 0.0), (1778, 0.0), (1780, 0.0), (1781, 0.0), (1783, 0.0), (1784, 0.0), (1785, 0.0), (1786, 0.0), (1789, 0.0), (1791, 0.0), (1792, 0.0), (1794, 0.0), (1800, 0.0), (1801, 0.0), (1803, 0.0), (1804, 0.0), (1805, 0.0), (1808, 0.0), (1810, 0.0), (1811, 0.0), (1814, 0.0), (1820, 0.0), (1823, 0.0), (1824, 0.0), (1825, 0.0), (1826, 0.0), (1829, 0.0), (1831, 0.0), (1834, 0.0), (1835, 0.0), (1836, 0.0), (1837, 0.0), (1839, 0.0), (1840, 0.0), (1842, 0.0), (1844, 0.0), (1846, 0.0), (1848, 0.0), (1855, 0.0), (1856, 0.0), (1857, 0.0), (1859, 0.0), (1862, 0.0), (1877, 0.0), (1879, 0.0), (1881, 0.0), (1883, 0.0), (1887, 0.0), (1888, 0.0), (1889, 0.0), (1890, 0.0), (1894, 0.0), (1898, 0.0), (1899, 0.0), (1900, 0.0), (1901, 0.0), (1904, 0.0), (1910, 0.0), (1912, 0.0), (1914, 0.0), (1915, 0.0), (1917, 0.0), (1921, 0.0), (1925, 0.0), (1926, 0.0), (1928, 0.0), (1929, 0.0), (1930, 0.0), (1932, 0.0), (1933, 0.0), (1938, 0.0), (1939, 0.0), (1940, 0.0), (1941, 0.0), (1944, 0.0), (1952, 0.0), (1953, 0.0), (1954, 0.0), (1955, 0.0), (1956, 0.0), (1958, 0.0), (1959, 0.0), (1961, 0.0), (1962, 0.0), (1963, 0.0), (1965, 0.0), (1966, 0.0), (1972, 0.0), (1974, 0.0), (1975, 0.0), (1978, 0.0), (1979, 0.0), (1980, 0.0), (1981, 0.0), (1984, 0.0), (1987, 0.0), (1991, 0.0), (1993, 0.0), (1998, 0.0), (2001, 0.0), (2002, 0.0), (2003, 0.0), (2006, 0.0), (2007, 0.0), (2009, 0.0), (2012, 0.0), (2015, 0.0), (2017, 0.0), (2019, 0.0), (2021, 0.0), (2025, 0.0), (2028, 0.0), (2030, 0.0), (2032, 0.0), (2033, 0.0), (2036, 0.0), (2038, 0.0), (2041, 0.0), (2042, 0.0), (2043, 0.0), (2044, 0.0), (2046, 0.0), (2047, 0.0), (2050, 0.0), (2054, 0.0), (2057, 0.0), (2059, 0.0), (2060, 0.0), (2063, 0.0), (2066, 0.0), (2071, 0.0), (2072, 0.0), (2077, 0.0), (2078, 0.0), (2079, 0.0), (2081, 0.0), (2084, 0.0), (2085, 0.0), (2086, 0.0), (2090, 0.0), (2092, 0.0), (2093, 0.0), (2099, 0.0), (2100, 0.0), (2106, 0.0), (2107, 0.0), (2111, 0.0), (2115, 0.0), (2118, 0.0), (2120, 0.0), (2124, 0.0), (2125, 0.0), (2128, 0.0), (2129, 0.0), (2130, 0.0), (2135, 0.0), (2136, 0.0), (2137, 0.0), (2138, 0.0), (2139, 0.0), (2140, 0.0), (2141, 0.0), (2142, 0.0), (2146, 0.0), (2147, 0.0), (2148, 0.0), (2150, 0.0), (2151, 0.0), (2152, 0.0), (2153, 0.0), (2158, 0.0), (2163, 0.0), (2164, 0.0), (2165, 0.0), (2166, 0.0), (2168, 0.0), (2170, 0.0), (2171, 0.0), (2172, 0.0), (2173, 0.0), (2178, 0.0), (2179, 0.0), (2180, 0.0), (2181, 0.0), (2182, 0.0), (2183, 0.0), (2184, 0.0), (2186, 0.0), (2187, 0.0), (2189, 0.0), (2190, 0.0), (2192, 0.0), (2194, 0.0), (2200, 0.0), (2204, 0.0), (2207, 0.0), (2208, 0.0), (2213, 0.0), (2215, 0.0), (2217, 0.0), (2218, 0.0), (2219, 0.0), (2220, 0.0), (2222, 0.0), (2225, 0.0), (2227, 0.0), (2228, 0.0), (2231, 0.0), (2232, 0.0), (2233, 0.0), (2234, 0.0), (2238, 0.0), (2241, 0.0), (2243, 0.0), (2245, 0.0), (2246, 0.0), (2247, 0.0), (2249, 0.0), (2252, 0.0), (2253, 0.0), (2256, 0.0), (2259, 0.0), (2261, 0.0), (2262, 0.0), (2263, 0.0), (2267, 0.0), (2268, 0.0), (2270, 0.0), (2271, 0.0), (2272, 0.0), (2273, 0.0), (2274, 0.0), (2278, 0.0), (2281, 0.0), (2282, 0.0), (2283, 0.0), (2288, 0.0), (2292, 0.0), (2293, 0.0), (2296, 0.0), (2297, 0.0), (2299, 0.0), (2300, 0.0), (2304, 0.0), (2305, 0.0), (2307, 0.0), (2308, 0.0), (2310, 0.0), (2311, 0.0), (2312, 0.0), (2314, 0.0), (2315, 0.0), (2317, 0.0), (2322, 0.0), (2323, 0.0), (2324, 0.0), (2325, 0.0), (2326, 0.0), (2327, 0.0), (2328, 0.0), (2329, 0.0), (2330, 0.0), (2331, 0.0), (2332, 0.0), (2333, 0.0), (2336, 0.0), (2337, 0.0), (2340, 0.0), (2341, 0.0), (2342, 0.0), (2343, 0.0), (2345, 0.0), (2351, 0.0), (2352, 0.0), (2354, 0.0), (2356, 0.0), (2357, 0.0), (2358, 0.0), (2360, 0.0), (2363, 0.0), (2364, 0.0), (2369, 0.0), (2370, 0.0), (2371, 0.0), (2372, 0.0), (2373, 0.0), (2377, 0.0), (2378, 0.0), (2380, 0.0), (2381, 0.0), (2382, 0.0), (2383, 0.0), (2384, 0.0), (2385, 0.0), (2387, 0.0), (2389, 0.0), (2392, 0.0), (2395, 0.0), (2396, 0.0), (2398, 0.0), (2401, 0.0), (2404, 0.0), (2409, 0.0), (2410, 0.0), (2414, 0.0), (2416, 0.0), (2419, 0.0), (2420, 0.0), (2424, 0.0), (2425, 0.0), (2429, 0.0), (2431, 0.0), (2432, 0.0), (2433, 0.0), (2435, 0.0), (2442, 0.0), (2444, 0.0), (2445, 0.0), (2446, 0.0), (2450, 0.0), (2451, 0.0), (2452, 0.0), (2454, 0.0), (2455, 0.0), (2456, 0.0), (2458, 0.0), (2462, 0.0), (2465, 0.0), (2470, 0.0), (2471, 0.0), (2472, 0.0), (2479, 0.0), (2483, 0.0), (2485, 0.0), (2491, 0.0), (2493, 0.0), (2495, 0.0), (2497, 0.0), (2498, 0.0), (2499, 0.0), (2500, 0.0), (2501, 0.0), (2504, 0.0), (2506, 0.0), (2507, 0.0), (2508, 0.0), (2511, 0.0), (2514, 0.0), (2515, 0.0), (2516, 0.0), (2518, 0.0), (2519, 0.0), (2521, 0.0), (2523, 0.0), (2525, 0.0), (2532, 0.0), (2533, 0.0), (2536, 0.0), (2537, 0.0), (2539, 0.0), (2541, 0.0), (2542, 0.0), (2543, 0.0), (2544, 0.0), (2547, 0.0), (2548, 0.0), (2549, 0.0), (2551, 0.0), (2552, 0.0), (2557, 0.0), (2561, 0.0), (2562, 0.0), (2564, 0.0), (2566, 0.0), (2567, 0.0), (2569, 0.0), (2571, 0.0), (2573, 0.0), (2574, 0.0), (2575, 0.0), (2576, 0.0), (2577, 0.0), (2578, 0.0), (2581, 0.0), (2583, 0.0), (2584, 0.0), (2585, 0.0), (2586, 0.0), (2588, 0.0), (2589, 0.0), (2590, 0.0), (2594, 0.0), (2595, 0.0), (2596, 0.0), (2597, 0.0), (2599, 0.0), (2600, 0.0), (2604, 0.0), (2605, 0.0), (2608, 0.0), (2610, 0.0), (2613, 0.0), (2615, 0.0), (2616, 0.0), (2619, 0.0), (2620, 0.0), (2624, 0.0), (2626, 0.0), (2627, 0.0), (2628, 0.0), (2631, 0.0), (2635, 0.0), (2636, 0.0), (2637, 0.0), (2641, 0.0), (2648, 0.0), (2651, 0.0), (2656, 0.0), (2657, 0.0), (2658, 0.0), (2659, 0.0), (2662, 0.0), (2663, 0.0), (2666, 0.0), (2667, 0.0), (2669, 0.0), (2670, 0.0), (2671, 0.0), (2672, 0.0), (2673, 0.0), (2675, 0.0), (2676, 0.0), (2677, 0.0), (2679, 0.0), (2681, 0.0), (2682, 0.0), (2683, 0.0), (2684, 0.0), (2685, 0.0), (2686, 0.0), (2690, 0.0), (2693, 0.0), (2700, 0.0), (2701, 0.0), (2703, 0.0), (2704, 0.0), (2707, 0.0), (2709, 0.0), (2711, 0.0), (2715, 0.0), (2717, 0.0), (2719, 0.0), (2720, 0.0), (2721, 0.0), (2722, 0.0), (2725, 0.0), (2728, 0.0), (2729, 0.0), (2730, 0.0), (2733, 0.0), (2734, 0.0), (2735, 0.0), (2736, 0.0), (2737, 0.0), (2738, 0.0), (2749, 0.0), (2750, 0.0), (2753, 0.0), (2754, 0.0), (2756, 0.0), (2757, 0.0), (2763, 0.0), (2765, 0.0), (2770, 0.0), (2773, 0.0), (2781, 0.0), (2783, 0.0), (2785, 0.0), (2786, 0.0), (2787, 0.0), (2788, 0.0), (2790, 0.0), (2792, 0.0), (2793, 0.0), (2794, 0.0), (2799, 0.0), (2801, 0.0), (2804, 0.0), (2806, 0.0), (2810, 0.0), (2811, 0.0), (2813, 0.0), (2814, 0.0), (2815, 0.0), (2817, 0.0), (2818, 0.0), (2819, 0.0), (2824, 0.0), (2825, 0.0), (2826, 0.0), (2827, 0.0), (2828, 0.0), (2829, 0.0), (2833, 0.0), (2835, 0.0), (2836, 0.0), (2837, 0.0), (2839, 0.0), (2842, 0.0), (2846, 0.0), (2847, 0.0), (2850, 0.0), (2851, 0.0), (2852, 0.0), (2853, 0.0), (2855, 0.0), (2856, 0.0), (2858, 0.0), (2860, 0.0), (2861, 0.0), (2863, 0.0), (2864, 0.0), (2865, 0.0), (2866, 0.0), (2875, 0.0), (2877, 0.0), (2880, 0.0), (2882, 0.0), (2884, 0.0), (2891, 0.0), (2895, 0.0), (2896, 0.0), (2898, 0.0), (2900, 0.0), (2902, 0.0), (2905, 0.0), (2906, 0.0), (2909, 0.0), (2921, 0.0), (2922, 0.0), (2923, 0.0), (2927, 0.0), (2928, 0.0), (2930, 0.0), (2937, 0.0), (2938, 0.0), (2940, 0.0), (2941, 0.0), (2947, 0.0), (2948, 0.0), (2951, 0.0), (2952, 0.0), (2953, 0.0), (2954, 0.0), (2955, 0.0), (2956, 0.0), (2957, 0.0), (2958, 0.0), (2959, 0.0), (2960, 0.0), (2962, 0.0), (2963, 0.0), (2967, 0.0), (2968, 0.0), (2970, 0.0), (2973, 0.0), (2979, 0.0), (2982, 0.0), (2983, 0.0), (2984, 0.0), (2987, 0.0), (2990, 0.0), (2991, 0.0), (2993, 0.0), (2994, 0.0), (2997, 0.0), (3001, 0.0), (3002, 0.0), (3003, 0.0), (3005, 0.0), (3006, 0.0), (3007, 0.0), (3009, 0.0), (3011, 0.0), (3016, 0.0), (3018, 0.0), (3020, 0.0), (3021, 0.0), (3022, 0.0), (3025, 0.0), (3026, 0.0), (3029, 0.0), (3030, 0.0), (3031, 0.0), (3034, 0.0), (3035, 0.0), (3038, 0.0), (3040, 0.0), (3041, 0.0), (3042, 0.0), (3047, 0.0), (3048, 0.0), (3049, 0.0), (3052, 0.0), (3054, 0.0), (3055, 0.0), (3057, 0.0), (3058, 0.0), (3059, 0.0), (3060, 0.0), (3061, 0.0), (3063, 0.0), (3064, 0.0), (3069, 0.0), (3073, 0.0), (3077, 0.0), (3078, 0.0), (3079, 0.0), (3080, 0.0), (3082, 0.0), (3083, 0.0), (3084, 0.0), (3087, 0.0), (3088, 0.0), (3089, 0.0), (3090, 0.0), (3092, 0.0), (3093, 0.0), (3100, 0.0), (3101, 0.0), (3103, 0.0), (3104, 0.0), (3105, 0.0), (3106, 0.0), (3107, 0.0), (3109, 0.0), (3113, 0.0), (3115, 0.0), (3117, 0.0), (3121, 0.0), (3124, 0.0), (3126, 0.0), (3128, 0.0), (3130, 0.0), (3131, 0.0), (3132, 0.0), (3133, 0.0), (3134, 0.0), (3135, 0.0), (3136, 0.0), (3138, 0.0), (3139, 0.0), (3141, 0.0), (3143, 0.0), (3145, 0.0), (3149, 0.0), (3150, 0.0), (3156, 0.0), (3158, 0.0), (3159, 0.0), (3160, 0.0), (3161, 0.0), (3162, 0.0), (3163, 0.0), (3168, 0.0), (3169, 0.0), (3172, 0.0), (3173, 0.0), (3175, 0.0), (3176, 0.0), (3177, 0.0), (3179, 0.0), (3180, 0.0), (3181, 0.0), (3185, 0.0), (3186, 0.0), (3188, 0.0), (3189, 0.0), (3190, 0.0), (3191, 0.0), (3193, 0.0), (3197, 0.0), (3201, 0.0), (3202, 0.0), (3204, 0.0), (3206, 0.0), (3207, 0.0), (3208, 0.0), (3211, 0.0), (3212, 0.0), (3216, 0.0), (3217, 0.0), (3221, 0.0), (3223, 0.0), (3224, 0.0), (3225, 0.0), (3229, 0.0), (3230, 0.0), (3231, 0.0), (3236, 0.0), (3238, 0.0), (3239, 0.0), (3242, 0.0), (3243, 0.0), (3247, 0.0), (3250, 0.0), (3251, 0.0), (3252, 0.0), (3260, 0.0), (3261, 0.0), (3263, 0.0), (3266, 0.0), (3269, 0.0), (3270, 0.0), (3271, 0.0), (3272, 0.0), (3277, 0.0), (3281, 0.0), (3283, 0.0), (3286, 0.0), (3287, 0.0), (3289, 0.0), (3290, 0.0), (3292, 0.0), (3305, 0.0), (3307, 0.0), (3310, 0.0), (3320, 0.0), (3321, 0.0), (3322, 0.0), (3323, 0.0), (3324, 0.0), (3332, 0.0), (3333, 0.0), (3335, 0.0), (3336, 0.0), (3337, 0.0), (3338, 0.0), (3339, 0.0), (3340, 0.0), (3341, 0.0), (3343, 0.0), (3348, 0.0), (3350, 0.0), (3354, 0.0), (3358, 0.0), (3361, 0.0), (3366, 0.0), (3367, 0.0), (3368, 0.0), (3369, 0.0), (3371, 0.0), (3372, 0.0), (3378, 0.0), (3381, 0.0), (3383, 0.0), (3390, 0.0), (3392, 0.0), (3394, 0.0), (3396, 0.0), (3397, 0.0), (3398, 0.0), (3400, 0.0), (3401, 0.0), (3404, 0.0), (3405, 0.0), (3411, 0.0), (3412, 0.0), (3414, 0.0), (3415, 0.0), (3419, 0.0), (3422, 0.0), (3424, 0.0), (3429, 0.0), (3431, 0.0), (3432, 0.0), (3434, 0.0), (3438, 0.0), (3439, 0.0), (3440, 0.0), (3441, 0.0), (3442, 0.0), (3443, 0.0), (3444, 0.0), (3448, 0.0), (3451, 0.0), (3452, 0.0), (3454, 0.0), (3455, 0.0), (3459, 0.0), (3461, 0.0), (3464, 0.0), (3467, 0.0), (3468, 0.0), (3472, 0.0), (3473, 0.0), (3475, 0.0), (3476, 0.0), (3478, 0.0), (3481, 0.0), (3482, 0.0), (3484, 0.0), (3485, 0.0), (3489, 0.0), (3490, 0.0), (3491, 0.0), (3494, 0.0), (3495, 0.0), (3497, 0.0), (3499, 0.0), (3502, 0.0), (3505, 0.0), (3507, 0.0), (3510, 0.0), (3513, 0.0), (3514, 0.0), (3517, 0.0), (3519, 0.0), (3520, 0.0), (3522, 0.0), (3523, 0.0), (3525, 0.0), (3529, 0.0), (3530, 0.0), (3531, 0.0), (3532, 0.0), (3533, 0.0), (3537, 0.0), (3538, 0.0), (3539, 0.0), (3540, 0.0), (3543, 0.0), (3544, 0.0), (3545, 0.0), (3547, 0.0), (3548, 0.0), (3549, 0.0), (3550, 0.0), (3554, 0.0), (3555, 0.0), (3561, 0.0), (3562, 0.0), (3565, 0.0), (3567, 0.0), (3568, 0.0), (3570, 0.0), (3573, 0.0), (3576, 0.0), (3578, 0.0), (3581, 0.0), (3583, 0.0), (3584, 0.0), (3585, 0.0), (3587, 0.0), (3588, 0.0), (3589, 0.0), (3591, 0.0), (3592, 0.0), (3593, 0.0), (3595, 0.0), (3600, 0.0), (3602, 0.0), (3603, 0.0), (3604, 0.0), (3605, 0.0), (3606, 0.0), (3607, 0.0), (3608, 0.0), (3609, 0.0), (3610, 0.0), (3611, 0.0), (3615, 0.0), (3616, 0.0), (3617, 0.0), (3619, 0.0), (3621, 0.0), (3622, 0.0), (3625, 0.0), (3627, 0.0), (3628, 0.0), (3629, 0.0), (3631, 0.0), (3633, 0.0), (3636, 0.0), (3644, 0.0), (3647, 0.0), (3649, 0.0), (3650, 0.0), (3651, 0.0), (3658, 0.0), (3662, 0.0), (3663, 0.0), (3664, 0.0), (3668, 0.0), (3671, 0.0), (3672, 0.0), (3674, 0.0), (3676, 0.0), (3677, 0.0), (3678, 0.0), (3679, 0.0), (3681, 0.0), (3682, 0.0), (3683, 0.0), (3685, 0.0), (3686, 0.0), (3687, 0.0), (3688, 0.0), (3690, 0.0), (3691, 0.0), (3693, 0.0), (3695, 0.0), (3697, 0.0), (3698, 0.0), (3700, 0.0), (3702, 0.0), (3703, 0.0), (3709, 0.0), (3710, 0.0), (3712, 0.0), (3714, 0.0), (3715, 0.0), (3716, 0.0), (3717, 0.0), (3718, 0.0), (3719, 0.0), (3721, 0.0), (3722, 0.0), (3723, 0.0), (3724, 0.0), (3725, 0.0), (3726, 0.0), (3729, 0.0), (3730, 0.0), (3732, 0.0), (3735, 0.0), (3736, 0.0), (3737, 0.0), (3738, 0.0), (3740, 0.0), (3743, 0.0), (3744, 0.0), (3746, 0.0), (3757, 0.0), (3758, 0.0), (3759, 0.0), (3760, 0.0), (3761, 0.0), (3762, 0.0), (3764, 0.0), (3768, 0.0), (3769, 0.0), (3770, 0.0), (3773, 0.0), (3774, 0.0), (3775, 0.0), (3776, 0.0), (3781, 0.0), (3782, 0.0), (3783, 0.0), (3785, 0.0), (3786, 0.0), (3787, 0.0), (3788, 0.0), (3789, 0.0), (3790, 0.0), (3791, 0.0), (3792, 0.0), (3793, 0.0), (3795, 0.0), (3796, 0.0), (3798, 0.0), (3800, 0.0), (3802, 0.0), (3803, 0.0), (3804, 0.0), (3805, 0.0), (3806, 0.0), (3808, 0.0), (3812, 0.0), (3814, 0.0), (3815, 0.0), (3816, 0.0), (3817, 0.0), (3818, 0.0), (3820, 0.0), (3823, 0.0), (3824, 0.0), (3830, 0.0), (3831, 0.0), (3833, 0.0), (3834, 0.0), (3836, 0.0), (3837, 0.0), (3838, 0.0), (3840, 0.0), (3841, 0.0), (3843, 0.0), (3844, 0.0), (3846, 0.0), (3847, 0.0), (3848, 0.0), (3849, 0.0), (3851, 0.0), (3856, 0.0), (3858, 0.0), (3859, 0.0), (3863, 0.0), (3869, 0.0), (3870, 0.0), (3872, 0.0), (3874, 0.0), (3877, 0.0), (3878, 0.0), (3879, 0.0), (3881, 0.0), (3884, 0.0), (3885, 0.0), (3886, 0.0), (3887, 0.0), (3889, 0.0), (3894, 0.0), (3896, 0.0), (3897, 0.0), (3899, 0.0), (3905, 0.0), (3906, 0.0), (3907, 0.0), (3908, 0.0), (3911, 0.0), (3912, 0.0), (3914, 0.0), (3918, 0.0), (3921, 0.0), (3929, 0.0), (3930, 0.0), (3931, 0.0), (3933, 0.0), (3935, 0.0), (3936, 0.0), (3937, 0.0), (3938, 0.0), (3939, 0.0), (3942, 0.0), (3943, 0.0), (3944, 0.0), (3945, 0.0), (3948, 0.0), (3949, 0.0), (3950, 0.0), (3964, 0.0), (3965, 0.0), (3966, 0.0), (3967, 0.0), (3968, 0.0), (3969, 0.0), (3970, 0.0), (3971, 0.0), (3972, 0.0), (3975, 0.0), (3977, 0.0), (3979, 0.0), (3980, 0.0), (3981, 0.0), (3982, 0.0), (3985, 0.0), (3986, 0.0), (3987, 0.0), (3988, 0.0), (3989, 0.0), (3991, 0.0), (3994, 0.0), (3995, 0.0), (3996, 0.0), (3997, 0.0), (4002, 0.0), (4003, 0.0), (4006, 0.0), (4010, 0.0), (4013, 0.0), (4015, 0.0), (4017, 0.0), (4018, 0.0), (4019, 0.0), (4021, 0.0), (4022, 0.0), (4023, 0.0), (4026, 0.0), (4027, 0.0), (4028, 0.0), (4029, 0.0), (4030, 0.0), (4031, 0.0), (4034, 0.0), (4037, 0.0), (4039, 0.0), (4040, 0.0), (4041, 0.0), (4042, 0.0), (4043, 0.0), (4044, 0.0), (4045, 0.0), (4047, 0.0), (4049, 0.0), (4058, 0.0), (4059, 0.0), (4063, 0.0), (4064, 0.0), (4065, 0.0), (4067, 0.0), (4070, 0.0), (4071, 0.0), (4072, 0.0), (4073, 0.0), (4075, 0.0), (4076, 0.0), (4078, 0.0), (4080, 0.0), (4083, 0.0), (4084, 0.0), (4086, 0.0), (4089, 0.0), (4090, 0.0), (4091, 0.0), (4093, 0.0), (4094, 0.0), (4097, 0.0), (4100, 0.0), (4102, 0.0), (4103, 0.0), (4105, 0.0), (4107, 0.0), (4108, 0.0), (4109, 0.0), (4112, 0.0), (4114, 0.0), (4115, 0.0), (4119, 0.0), (4120, 0.0), (4122, 0.0), (4125, 0.0), (4126, 0.0), (4127, 0.0), (4129, 0.0), (4131, 0.0), (4132, 0.0), (4136, 0.0), (4139, 0.0), (4140, 0.0), (4142, 0.0), (4144, 0.0), (4145, 0.0), (4146, 0.0), (4147, 0.0), (4148, 0.0), (4150, 0.0), (4153, 0.0), (4155, 0.0), (4157, 0.0), (4159, 0.0), (4161, 0.0), (4162, 0.0), (4166, 0.0), (4167, 0.0), (4168, 0.0), (4169, 0.0), (4170, 0.0), (4172, 0.0), (4173, 0.0), (4174, 0.0), (4179, 0.0), (4180, 0.0), (4181, 0.0), (4184, 0.0), (4185, 0.0), (4186, 0.0), (4188, 0.0), (4190, 0.0), (4191, 0.0), (4193, 0.0), (4194, 0.0), (4195, 0.0), (4197, 0.0), (4198, 0.0), (4199, 0.0), (4200, 0.0), (4201, 0.0), (4204, 0.0), (4206, 0.0), (4207, 0.0), (4208, 0.0), (4211, 0.0), (4212, 0.0), (4213, 0.0), (4214, 0.0), (4215, 0.0), (4218, 0.0), (4219, 0.0), (4220, 0.0), (4221, 0.0), (4222, 0.0), (4223, 0.0), (4224, 0.0), (4225, 0.0), (4228, 0.0), (4229, 0.0), (4230, 0.0), (4234, 0.0), (4237, 0.0), (4238, 0.0), (4239, 0.0), (4240, 0.0), (4241, 0.0), (4245, 0.0), (4248, 0.0), (4250, 0.0), (4251, 0.0), (4252, 0.0), (4253, 0.0), (4254, 0.0), (4256, 0.0), (4258, 0.0), (4260, 0.0), (4262, 0.0), (4263, 0.0), (4264, 0.0), (4265, 0.0), (4267, 0.0), (4270, 0.0), (4271, 0.0), (4273, 0.0), (4274, 0.0), (4275, 0.0), (4276, 0.0), (4277, 0.0), (4278, 0.0), (4279, 0.0), (4280, 0.0), (4285, 0.0), (4289, 0.0), (4290, 0.0), (4291, 0.0), (4292, 0.0), (4296, 0.0), (4297, 0.0), (4298, 0.0), (4299, 0.0), (4300, 0.0), (4301, 0.0), (4302, 0.0), (4304, 0.0), (4305, 0.0), (4306, 0.0), (4307, 0.0), (4308, 0.0), (4310, 0.0), (4312, 0.0), (4313, 0.0), (4315, 0.0), (4316, 0.0), (4317, 0.0), (4318, 0.0), (4319, 0.0), (4320, 0.0), (4322, 0.0), (4323, 0.0), (4324, 0.0), (4326, 0.0), (4327, 0.0), (4328, 0.0), (4329, 0.0), (4331, 0.0), (4332, 0.0), (4338, 0.0), (4339, 0.0), (4340, 0.0), (4341, 0.0), (4343, 0.0), (4346, 0.0), (4347, 0.0), (4348, 0.0), (4352, 0.0), (4353, 0.0), (4354, 0.0), (4355, 0.0), (4358, 0.0), (4359, 0.0), (4360, 0.0), (4361, 0.0), (4363, 0.0), (4364, 0.0), (4365, 0.0), (4370, 0.0), (4372, 0.0), (4376, 0.0), (4377, 0.0), (4378, 0.0), (4381, 0.0), (4383, 0.0), (4384, 0.0), (4386, 0.0), (4390, 0.0), (4391, 0.0), (4392, 0.0), (4393, 0.0), (4397, 0.0), (4400, 0.0), (4404, 0.0), (4405, 0.0), (4406, 0.0), (4407, 0.0), (4408, 0.0), (4409, 0.0), (4410, 0.0), (4413, 0.0), (4414, 0.0), (4415, 0.0), (4416, 0.0), (4417, 0.0), (4418, 0.0), (4421, 0.0), (4423, 0.0), (4424, 0.0), (4425, 0.0), (4426, 0.0), (4427, 0.0), (4428, 0.0), (4431, 0.0), (4433, 0.0), (4434, 0.0), (4437, 0.0), (4438, 0.0), (4439, 0.0), (4441, 0.0), (4445, 0.0), (4447, 0.0), (4449, 0.0), (4451, 0.0), (4452, 0.0), (4453, 0.0), (4454, 0.0), (4455, 0.0), (4457, 0.0), (4458, 0.0), (4460, 0.0), (4461, 0.0), (4462, 0.0), (4463, 0.0), (4464, 0.0), (4468, 0.0), (4471, 0.0), (4476, 0.0), (4478, 0.0), (4480, 0.0), (4483, 0.0), (4485, 0.0), (4491, 0.0), (4493, 0.0), (4495, 0.0), (4496, 0.0), (4497, 0.0), (4498, 0.0), (4499, 0.0), (4500, 0.0), (4505, 0.0), (4506, 0.0), (4508, 0.0), (4509, 0.0), (4513, 0.0), (4514, 0.0), (4515, 0.0), (4518, 0.0), (4519, 0.0), (4525, 0.0), (4526, 0.0), (4527, 0.0), (4529, 0.0), (4532, 0.0), (4537, 0.0), (4538, 0.0), (4539, 0.0), (4540, 0.0), (4541, 0.0), (4542, 0.0), (4543, 0.0), (4544, 0.0), (4545, 0.0), (4547, 0.0), (4549, 0.0), (4550, 0.0), (4552, 0.0), (4556, 0.0), (4558, 0.0), (4559, 0.0), (4560, 0.0), (4561, 0.0), (4562, 0.0), (4565, 0.0), (4567, 0.0), (4568, 0.0), (4569, 0.0), (4570, 0.0), (4572, 0.0), (4574, 0.0), (4577, 0.0), (4578, 0.0), (4579, 0.0), (4580, 0.0), (4582, 0.0), (4584, 0.0), (4585, 0.0), (4586, 0.0), (4587, 0.0), (4592, 0.0), (4595, 0.0), (4597, 0.0), (4598, 0.0), (4599, 0.0), (4600, 0.0), (4604, 0.0), (4606, 0.0), (4607, 0.0), (4609, 0.0), (4611, 0.0), (4612, 0.0), (4613, 0.0), (4615, 0.0), (4616, 0.0), (4618, 0.0), (4620, 0.0), (4621, 0.0), (4622, 0.0), (4628, 0.0), (4630, 0.0), (4631, 0.0), (4633, 0.0), (4634, 0.0), (4635, 0.0), (4639, 0.0), (4641, 0.0), (4642, 0.0), (4644, 0.0), (4645, 0.0), (4646, 0.0), (4647, 0.0), (4648, 0.0), (4651, 0.0), (4653, 0.0), (4654, 0.0), (4655, 0.0), (4659, 0.0), (4661, 0.0), (4662, 0.0), (4664, 0.0), (4665, 0.0), (4666, 0.0), (4667, 0.0), (4671, 0.0), (4672, 0.0), (4675, 0.0), (4676, 0.0), (4677, 0.0), (4678, 0.0), (4680, 0.0), (4681, 0.0), (4683, 0.0), (4686, 0.0), (4687, 0.0), (4688, 0.0), (4689, 0.0), (4690, 0.0), (4691, 0.0), (4692, 0.0), (4693, 0.0), (4694, 0.0), (4696, 0.0), (4697, 0.0), (4698, 0.0), (4700, 0.0), (4702, 0.0), (4704, 0.0), (4705, 0.0), (4707, 0.0), (4708, 0.0), (4709, 0.0), (4711, 0.0), (4714, 0.0), (4715, 0.0), (4716, 0.0), (4717, 0.0), (4719, 0.0), (4720, 0.0), (4721, 0.0), (4725, 0.0), (4728, 0.0), (4729, 0.0), (4730, 0.0), (4732, 0.0), (4736, 0.0), (4737, 0.0), (4740, 0.0), (4741, 0.0), (4742, 0.0), (4743, 0.0), (4744, 0.0), (4745, 0.0), (4746, 0.0), (4749, 0.0), (4750, 0.0), (4751, 0.0), (4753, 0.0), (4754, 0.0), (4755, 0.0), (4756, 0.0), (4757, 0.0), (4758, 0.0), (4759, 0.0)]\n"
          ]
        }
      ]
    },
    {
      "cell_type": "code",
      "source": [
        "#print the similar movies based on index\n",
        "print('Top 30 Movies Suggested for You: \\n')\n",
        "i=1\n",
        "for movie in Sorted_Similar_Movies:\n",
        "  index=movie[0]\n",
        "  title_from_index=df[df.index==index]['Movie_Title'].values[0]\n",
        "  if (i<31):\n",
        "    print(i,'.',title_from_index)\n",
        "    i+=1\n"
      ],
      "metadata": {
        "colab": {
          "base_uri": "https://localhost:8080/"
        },
        "id": "MU9nEzKh5tCj",
        "outputId": "1b9663f2-a74d-4fd6-e41a-3d38d179808d"
      },
      "execution_count": null,
      "outputs": [
        {
          "output_type": "stream",
          "name": "stdout",
          "text": [
            "Top 30 Movies Suggested for You: \n",
            "\n",
            "1 . Niagara\n",
            "2 . The Boy Next Door\n",
            "3 . The Juror\n",
            "4 . Enough\n",
            "5 . Eye for an Eye\n",
            "6 . Duel in the Sun\n",
            "7 . Superman III\n",
            "8 . All That Jazz\n",
            "9 . Tora! Tora! Tora!\n",
            "10 . Brokeback Mountain\n",
            "11 . Master and Commander: The Far Side of the World\n",
            "12 . To Kill a Mockingbird\n",
            "13 . Harry Brown\n",
            "14 . Man on Wire\n",
            "15 . Running with Scissors\n",
            "16 . Edge of Darkness\n",
            "17 . The Odd Life of Timothy Green\n",
            "18 . Mission: Impossible\n",
            "19 . The Curse of Downers Grove\n",
            "20 . Intolerable Cruelty\n",
            "21 . Mad Max 2: The Road Warrior\n",
            "22 . The Lazarus Effect\n",
            "23 . The Great Gatsby\n",
            "24 . Enemy at the Gates\n",
            "25 . The Lost Weekend\n",
            "26 . Broken Vessels\n",
            "27 . Source Code\n",
            "28 . The Horse Whisperer\n",
            "29 . The Longest Yard\n",
            "30 . The Raid\n"
          ]
        }
      ]
    },
    {
      "cell_type": "markdown",
      "source": [
        "# ***Top 10 movies recommendation system***"
      ],
      "metadata": {
        "id": "gjw0eTB36CzE"
      }
    },
    {
      "cell_type": "code",
      "source": [
        "Movie_Name=input('Enter you favourite movie name ')\n",
        "list_of_all_titles=df['Movie_Title'].tolist()\n",
        "Find_Close_Match=difflib.get_close_matches(Movie_Name,list_of_all_titles)\n",
        "Close_Match=Find_Close_Match[0]\n",
        "Index_of_Movie=df[df.Movie_Title==Close_Match]['Movie_ID'].values[0]\n",
        "Recommendation_Score=list(enumerate(Similarity_Score[Index_of_Movie]))\n",
        "sorted_similar_movies=sorted(Recommendation_Score,key=lambda x:x[1],reverse=True)\n",
        "print('Top 10 Movies Suggested for You: \\n')\n",
        "i=1\n",
        "\n",
        "for movie in Sorted_Similar_Movies:\n",
        "  index=movie[0]\n",
        "  title_from_index=df[df.index==index]['Movie_Title'].values[0]\n",
        "  if (i<11):\n",
        "    print(i,'.',title_from_index)\n",
        "    i+=1"
      ],
      "metadata": {
        "colab": {
          "base_uri": "https://localhost:8080/"
        },
        "id": "lMFdmBra6Vrm",
        "outputId": "afae6d06-f152-47b2-d733-416db0325350"
      },
      "execution_count": null,
      "outputs": [
        {
          "output_type": "stream",
          "name": "stdout",
          "text": [
            "Enter you favourite movie name avtaar\n",
            "Top 10 Movies Suggested for You: \n",
            "\n",
            "1 . Niagara\n",
            "2 . The Boy Next Door\n",
            "3 . The Juror\n",
            "4 . Enough\n",
            "5 . Eye for an Eye\n",
            "6 . Duel in the Sun\n",
            "7 . Superman III\n",
            "8 . All That Jazz\n",
            "9 . Tora! Tora! Tora!\n",
            "10 . Brokeback Mountain\n"
          ]
        }
      ]
    }
  ]
}